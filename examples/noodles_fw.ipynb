{
 "cells": [
  {
   "cell_type": "markdown",
   "id": "careful-translator",
   "metadata": {},
   "source": [
    "# FairWorkflows execution demo"
   ]
  },
  {
   "cell_type": "markdown",
   "id": "indian-welcome",
   "metadata": {},
   "source": [
    "## Define the steps of your workflow\n",
    "Each step should be its own function. Mark the function as such with the @fairstep decorator."
   ]
  },
  {
   "cell_type": "code",
   "execution_count": 1,
   "id": "touched-representation",
   "metadata": {},
   "outputs": [],
   "source": [
    "from fairworkflows import is_fairworkflow, is_fairstep, FairStep, FairWorkflow"
   ]
  },
  {
   "cell_type": "code",
   "execution_count": 17,
   "id": "increasing-update",
   "metadata": {},
   "outputs": [],
   "source": [
    "@is_fairstep(label='Addition')\n",
    "def add(a:float, b:float) -> float:\n",
    "    \"\"\"Adding up numbers!\"\"\"\n",
    "    return a + b"
   ]
  },
  {
   "cell_type": "code",
   "execution_count": 18,
   "id": "increasing-likelihood",
   "metadata": {},
   "outputs": [],
   "source": [
    "@is_fairstep(label='Subtraction')\n",
    "def sub(a: float, b: float) -> float:\n",
    "    \"\"\"Subtracting numbers.\"\"\"\n",
    "    return a - b"
   ]
  },
  {
   "cell_type": "code",
   "execution_count": 19,
   "id": "center-destruction",
   "metadata": {},
   "outputs": [],
   "source": [
    "@is_fairstep(label='Multiplication')\n",
    "def mul(a: float, b: float) -> float:\n",
    "    \"\"\"Multiplying numbers.\"\"\"\n",
    "    return a * b"
   ]
  },
  {
   "cell_type": "code",
   "execution_count": 20,
   "id": "antique-bandwidth",
   "metadata": {},
   "outputs": [],
   "source": [
    "@is_fairstep(label='A strange step with little use')\n",
    "def weird(a: float, b:float) -> float:\n",
    "    \"\"\"A weird function\"\"\"\n",
    "    return a * 2 + b * 4\n",
    "    "
   ]
  },
  {
   "cell_type": "markdown",
   "id": "guided-chance",
   "metadata": {},
   "source": [
    "## Define your workflow using @fairworkflow\n",
    "Now write a function which describes your workflow. Mark this function with the @fairworkflow decorator."
   ]
  },
  {
   "cell_type": "code",
   "execution_count": 21,
   "id": "photographic-breathing",
   "metadata": {},
   "outputs": [],
   "source": [
    "@is_fairworkflow(label='My Workflow')\n",
    "def my_workflow(in1, in2, in3):\n",
    "    \"\"\"\n",
    "    A simple addition, subtraction, multiplication workflow\n",
    "    \"\"\"\n",
    "    t1 = add(in1, in2)\n",
    "    t2 = sub(in1, in2)\n",
    "    t3 = mul(weird(t1, in3), t2)\n",
    "    return t3"
   ]
  },
  {
   "cell_type": "markdown",
   "id": "recreational-disease",
   "metadata": {},
   "source": [
    "## Create an instance of your workflow and display it"
   ]
  },
  {
   "cell_type": "code",
   "execution_count": 22,
   "id": "suspended-afternoon",
   "metadata": {},
   "outputs": [
    {
     "data": {
      "text/plain": [
       "fairworkflows.fairworkflow.FairWorkflow"
      ]
     },
     "execution_count": 22,
     "metadata": {},
     "output_type": "execute_result"
    }
   ],
   "source": [
    "fw = FairWorkflow.from_function(my_workflow)\n",
    "type(fw)"
   ]
  },
  {
   "cell_type": "code",
   "execution_count": 23,
   "id": "subsequent-empty",
   "metadata": {},
   "outputs": [
    {
     "data": {
      "image/svg+xml": [
       "<svg height=\"218pt\" viewBox=\"0.00 0.00 141.55 218.00\" width=\"142pt\" xmlns=\"http://www.w3.org/2000/svg\" xmlns:xlink=\"http://www.w3.org/1999/xlink\">\n",
       "<g class=\"graph\" id=\"graph0\" transform=\"scale(1 1) rotate(0) translate(4 214)\">\n",
       "<!-- 140704616484752 -->\n",
       "<g class=\"node\" id=\"node1\">\n",
       "<title>140704616484752</title>\n",
       "<ellipse cx=\"68.55\" cy=\"-18\" fill=\"none\" rx=\"27\" ry=\"18\" stroke=\"black\"/>\n",
       "<text font-family=\"Times,serif\" font-size=\"14.00\" text-anchor=\"middle\" x=\"68.55\" y=\"-14.3\">mul</text>\n",
       "</g>\n",
       "<!-- 140704616535120 -->\n",
       "<g class=\"node\" id=\"node2\">\n",
       "<title>140704616535120</title>\n",
       "<ellipse cx=\"30.55\" cy=\"-105\" fill=\"none\" rx=\"30.59\" ry=\"18\" stroke=\"black\"/>\n",
       "<text font-family=\"Times,serif\" font-size=\"14.00\" text-anchor=\"middle\" x=\"30.55\" y=\"-101.3\">weird</text>\n",
       "</g>\n",
       "<!-- 140704616535120&#45;&gt;140704616484752 -->\n",
       "<g class=\"edge\" id=\"edge1\">\n",
       "<title>140704616535120-&gt;140704616484752</title>\n",
       "<path d=\"M38.05,-87.21C43.45,-75.14 50.83,-58.64 56.97,-44.89\" fill=\"none\" stroke=\"black\"/>\n",
       "<polygon fill=\"black\" points=\"60.3,-46.03 61.18,-35.47 53.91,-43.17 60.3,-46.03\" stroke=\"black\"/>\n",
       "<text font-family=\"Times,serif\" font-size=\"14.00\" text-anchor=\"middle\" x=\"56.05\" y=\"-57.8\">a</text>\n",
       "</g>\n",
       "<!-- 140704617274960 -->\n",
       "<g class=\"node\" id=\"node3\">\n",
       "<title>140704617274960</title>\n",
       "<ellipse cx=\"30.55\" cy=\"-192\" fill=\"none\" rx=\"27\" ry=\"18\" stroke=\"black\"/>\n",
       "<text font-family=\"Times,serif\" font-size=\"14.00\" text-anchor=\"middle\" x=\"30.55\" y=\"-188.3\">add</text>\n",
       "</g>\n",
       "<!-- 140704617274960&#45;&gt;140704616535120 -->\n",
       "<g class=\"edge\" id=\"edge2\">\n",
       "<title>140704617274960-&gt;140704616535120</title>\n",
       "<path d=\"M30.55,-173.8C30.55,-162.16 30.55,-146.55 30.55,-133.24\" fill=\"none\" stroke=\"black\"/>\n",
       "<polygon fill=\"black\" points=\"34.05,-133.18 30.55,-123.18 27.05,-133.18 34.05,-133.18\" stroke=\"black\"/>\n",
       "<text font-family=\"Times,serif\" font-size=\"14.00\" text-anchor=\"middle\" x=\"34.05\" y=\"-144.8\">a</text>\n",
       "</g>\n",
       "<!-- 140704616535504 -->\n",
       "<g class=\"node\" id=\"node4\">\n",
       "<title>140704616535504</title>\n",
       "<ellipse cx=\"106.55\" cy=\"-105\" fill=\"none\" rx=\"27\" ry=\"18\" stroke=\"black\"/>\n",
       "<text font-family=\"Times,serif\" font-size=\"14.00\" text-anchor=\"middle\" x=\"106.55\" y=\"-101.3\">sub</text>\n",
       "</g>\n",
       "<!-- 140704616535504&#45;&gt;140704616484752 -->\n",
       "<g class=\"edge\" id=\"edge3\">\n",
       "<title>140704616535504-&gt;140704616484752</title>\n",
       "<path d=\"M99.22,-87.61C93.81,-75.5 86.33,-58.77 80.11,-44.86\" fill=\"none\" stroke=\"black\"/>\n",
       "<polygon fill=\"black\" points=\"83.13,-43.04 75.85,-35.34 76.74,-45.9 83.13,-43.04\" stroke=\"black\"/>\n",
       "<text font-family=\"Times,serif\" font-size=\"14.00\" text-anchor=\"middle\" x=\"93.05\" y=\"-57.8\">b</text>\n",
       "</g>\n",
       "</g>\n",
       "</svg>"
      ],
      "text/plain": [
       "<IPython.core.display.SVG object>"
      ]
     },
     "metadata": {},
     "output_type": "display_data"
    }
   ],
   "source": [
    "fw.display()"
   ]
  },
  {
   "cell_type": "code",
   "execution_count": 24,
   "id": "accurate-motivation",
   "metadata": {},
   "outputs": [
    {
     "data": {
      "image/svg+xml": [
       "<?xml version=\"1.0\" encoding=\"UTF-8\" standalone=\"no\"?>\n",
       "<!DOCTYPE svg PUBLIC \"-//W3C//DTD SVG 1.1//EN\"\n",
       " \"http://www.w3.org/Graphics/SVG/1.1/DTD/svg11.dtd\">\n",
       "<!-- Generated by graphviz version 2.44.1 (20200629.0846)\n",
       " -->\n",
       "<!-- Pages: 1 -->\n",
       "<svg width=\"1910pt\" height=\"565pt\"\n",
       " viewBox=\"0.00 0.00 1910.00 565.00\" xmlns=\"http://www.w3.org/2000/svg\" xmlns:xlink=\"http://www.w3.org/1999/xlink\">\n",
       "<g id=\"graph0\" class=\"graph\" transform=\"scale(1 1) rotate(0) translate(4 561)\">\n",
       "<polygon fill=\"white\" stroke=\"transparent\" points=\"-4,4 -4,-561 1906,-561 1906,4 -4,4\"/>\n",
       "<!-- node0 -->\n",
       "<g id=\"node1\" class=\"node\">\n",
       "<title>node0</title>\n",
       "<polygon fill=\"grey\" stroke=\"transparent\" points=\"513.5,-133.5 513.5,-152.5 693.5,-152.5 693.5,-133.5 513.5,-133.5\"/>\n",
       "<text text-anchor=\"start\" x=\"580.5\" y=\"-140.3\" font-family=\"DejaVu Sans\" font-weight=\"bold\" font-size=\"14.00\">python</text>\n",
       "<g id=\"a_node1_0\"><a xlink:href=\"LinguisticSystem\" xlink:title=\"&lt;TABLE&gt;\">\n",
       "<polygon fill=\"#eeeeee\" stroke=\"transparent\" points=\"513.5,-118.5 513.5,-133.5 693.5,-133.5 693.5,-118.5 513.5,-118.5\"/>\n",
       "<text text-anchor=\"start\" x=\"565.5\" y=\"-123.5\" font-family=\"DejaVu Sans\" font-size=\"10.00\" fill=\"#6666ff\">LinguisticSystem</text>\n",
       "</a>\n",
       "</g>\n",
       "<text text-anchor=\"start\" x=\"515.5\" y=\"-105.3\" font-family=\"DejaVu Sans\" font-size=\"14.00\">owl:versionInfo</text>\n",
       "<text text-anchor=\"start\" x=\"610.5\" y=\"-105.3\" font-family=\"DejaVu Sans\" font-size=\"14.00\">&quot;3.7.9.final.0&quot;</text>\n",
       "<polygon fill=\"none\" stroke=\"#666666\" points=\"512.5,-99 512.5,-154 694.5,-154 694.5,-99 512.5,-99\"/>\n",
       "</g>\n",
       "<!-- node1 -->\n",
       "<g id=\"node2\" class=\"node\">\n",
       "<title>node1</title>\n",
       "<polygon fill=\"grey\" stroke=\"transparent\" points=\"237.5,-20 237.5,-39 644.5,-39 644.5,-20 237.5,-20\"/>\n",
       "<text text-anchor=\"start\" x=\"239.5\" y=\"-26.8\" font-family=\"DejaVu Sans\" font-weight=\"bold\" font-size=\"14.00\">https://en.wikipedia.org/wiki/Python_(programming_language)</text>\n",
       "<g id=\"a_node2_1\"><a xlink:href=\"https://en.wikipedia.org/wiki/Python_(programming_language)\" xlink:title=\"&lt;TABLE&gt;\">\n",
       "<polygon fill=\"#eeeeee\" stroke=\"transparent\" points=\"237.5,-5 237.5,-20 644.5,-20 644.5,-5 237.5,-5\"/>\n",
       "<text text-anchor=\"start\" x=\"307\" y=\"-10\" font-family=\"DejaVu Sans\" font-size=\"10.00\" fill=\"#6666ff\">https://en.wikipedia.org/wiki/Python_(programming_language)</text>\n",
       "</a>\n",
       "</g>\n",
       "<polygon fill=\"none\" stroke=\"#666666\" points=\"236,-4 236,-40 645,-40 645,-4 236,-4\"/>\n",
       "</g>\n",
       "<!-- node0&#45;&gt;node1 -->\n",
       "<g id=\"edge1\" class=\"edge\">\n",
       "<title>node0&#45;&gt;node1</title>\n",
       "<path fill=\"none\" stroke=\"BLACK\" d=\"M554.59,-94.75C531.66,-80.33 504.61,-63.31 482.6,-49.48\"/>\n",
       "<polygon fill=\"BLACK\" stroke=\"BLACK\" points=\"484.46,-46.51 474.13,-44.15 480.73,-52.43 484.46,-46.51\"/>\n",
       "<text text-anchor=\"start\" x=\"522.5\" y=\"-66.8\" font-family=\"Times,serif\" font-size=\"14.00\"> </text>\n",
       "<text text-anchor=\"start\" x=\"526.5\" y=\"-66.8\" font-family=\"Times,serif\" font-size=\"10.00\" fill=\"#336633\">rdfs:seeAlso</text>\n",
       "<text text-anchor=\"start\" x=\"577.5\" y=\"-66.8\" font-family=\"Times,serif\" font-size=\"14.00\"> </text>\n",
       "</g>\n",
       "<!-- node16 -->\n",
       "<g id=\"node17\" class=\"node\">\n",
       "<title>node16</title>\n",
       "<polygon fill=\"grey\" stroke=\"transparent\" points=\"680.5,-20 680.5,-39 854.5,-39 854.5,-20 680.5,-20\"/>\n",
       "<text text-anchor=\"start\" x=\"703\" y=\"-26.8\" font-family=\"DejaVu Sans\" font-weight=\"bold\" font-size=\"14.00\">ComputerLanguage</text>\n",
       "<g id=\"a_node17_2\"><a xlink:href=\"https://schema.org/ComputerLanguage\" xlink:title=\"&lt;TABLE&gt;\">\n",
       "<polygon fill=\"#eeeeee\" stroke=\"transparent\" points=\"680.5,-5 680.5,-20 854.5,-20 854.5,-5 680.5,-5\"/>\n",
       "<text text-anchor=\"start\" x=\"682.5\" y=\"-10\" font-family=\"DejaVu Sans\" font-size=\"10.00\" fill=\"#6666ff\">https://schema.org/ComputerLanguage</text>\n",
       "</a>\n",
       "</g>\n",
       "<polygon fill=\"none\" stroke=\"#666666\" points=\"679.5,-4 679.5,-40 855.5,-40 855.5,-4 679.5,-4\"/>\n",
       "</g>\n",
       "<!-- node0&#45;&gt;node16 -->\n",
       "<g id=\"edge13\" class=\"edge\">\n",
       "<title>node0&#45;&gt;node16</title>\n",
       "<path fill=\"none\" stroke=\"BLACK\" d=\"M652.71,-94.75C675.78,-80.33 703,-63.31 725.14,-49.48\"/>\n",
       "<polygon fill=\"BLACK\" stroke=\"BLACK\" points=\"727.04,-52.41 733.67,-44.15 723.33,-46.48 727.04,-52.41\"/>\n",
       "<text text-anchor=\"start\" x=\"705.5\" y=\"-66.8\" font-family=\"Times,serif\" font-size=\"14.00\"> </text>\n",
       "<text text-anchor=\"start\" x=\"709.5\" y=\"-66.8\" font-family=\"Times,serif\" font-size=\"10.00\" fill=\"#336633\">rdf:type</text>\n",
       "<text text-anchor=\"start\" x=\"742.5\" y=\"-66.8\" font-family=\"Times,serif\" font-size=\"14.00\"> </text>\n",
       "</g>\n",
       "<!-- node2 -->\n",
       "<g id=\"node3\" class=\"node\">\n",
       "<title>node2</title>\n",
       "<polygon fill=\"grey\" stroke=\"transparent\" points=\"957.5,-533 957.5,-552 1162.5,-552 1162.5,-533 957.5,-533\"/>\n",
       "<text text-anchor=\"start\" x=\"1045.5\" y=\"-539.8\" font-family=\"DejaVu Sans\" font-weight=\"bold\" font-size=\"14.00\">out1</text>\n",
       "<g id=\"a_node3_3\"><a xlink:href=\"http://www.example.org/unpublished-mul#out1\" xlink:title=\"&lt;TABLE&gt;\">\n",
       "<polygon fill=\"#eeeeee\" stroke=\"transparent\" points=\"957.5,-518 957.5,-533 1162.5,-533 1162.5,-518 957.5,-518\"/>\n",
       "<text text-anchor=\"start\" x=\"959.5\" y=\"-523\" font-family=\"DejaVu Sans\" font-size=\"10.00\" fill=\"#6666ff\">http://www.example.org/unpublished&#45;mul#out1</text>\n",
       "</a>\n",
       "</g>\n",
       "<polygon fill=\"none\" stroke=\"#666666\" points=\"956,-517 956,-553 1163,-553 1163,-517 956,-517\"/>\n",
       "</g>\n",
       "<!-- node3 -->\n",
       "<g id=\"node4\" class=\"node\">\n",
       "<title>node3</title>\n",
       "<polygon fill=\"grey\" stroke=\"transparent\" points=\"1039.5,-438 1039.5,-457 1080.5,-457 1080.5,-438 1039.5,-438\"/>\n",
       "<text text-anchor=\"start\" x=\"1041.5\" y=\"-444.8\" font-family=\"DejaVu Sans\" font-weight=\"bold\" font-size=\"14.00\">result</text>\n",
       "<g id=\"a_node4_4\"><a xlink:href=\"result\" xlink:title=\"&lt;TABLE&gt;\">\n",
       "<polygon fill=\"#eeeeee\" stroke=\"transparent\" points=\"1039.5,-423 1039.5,-438 1080.5,-438 1080.5,-423 1039.5,-423\"/>\n",
       "<text text-anchor=\"start\" x=\"1047.5\" y=\"-428\" font-family=\"DejaVu Sans\" font-size=\"10.00\" fill=\"#6666ff\">result</text>\n",
       "</a>\n",
       "</g>\n",
       "<polygon fill=\"none\" stroke=\"#666666\" points=\"1038,-422 1038,-458 1081,-458 1081,-422 1038,-422\"/>\n",
       "</g>\n",
       "<!-- node2&#45;&gt;node3 -->\n",
       "<g id=\"edge2\" class=\"edge\">\n",
       "<title>node2&#45;&gt;node3</title>\n",
       "<path fill=\"none\" stroke=\"BLACK\" d=\"M1059.5,-512.9C1059.5,-500.89 1059.5,-485.62 1059.5,-472.24\"/>\n",
       "<polygon fill=\"BLACK\" stroke=\"BLACK\" points=\"1063,-472.02 1059.5,-462.02 1056,-472.02 1063,-472.02\"/>\n",
       "<text text-anchor=\"start\" x=\"1059.5\" y=\"-484.8\" font-family=\"Times,serif\" font-size=\"14.00\"> </text>\n",
       "<text text-anchor=\"start\" x=\"1063.5\" y=\"-484.8\" font-family=\"Times,serif\" font-size=\"10.00\" fill=\"#336633\">pplan:bindsTo</text>\n",
       "<text text-anchor=\"start\" x=\"1123.5\" y=\"-484.8\" font-family=\"Times,serif\" font-size=\"14.00\"> </text>\n",
       "</g>\n",
       "<!-- node4 -->\n",
       "<g id=\"node5\" class=\"node\">\n",
       "<title>node4</title>\n",
       "<polygon fill=\"grey\" stroke=\"transparent\" points=\"643.5,-438 643.5,-457 831.5,-457 831.5,-438 643.5,-438\"/>\n",
       "<text text-anchor=\"start\" x=\"677\" y=\"-444.8\" font-family=\"DejaVu Sans\" font-weight=\"bold\" font-size=\"14.00\">unpublished&#45;weird</text>\n",
       "<g id=\"a_node5_5\"><a xlink:href=\"http://www.example.org/unpublished-weird\" xlink:title=\"&lt;TABLE&gt;\">\n",
       "<polygon fill=\"#eeeeee\" stroke=\"transparent\" points=\"643.5,-423 643.5,-438 831.5,-438 831.5,-423 643.5,-423\"/>\n",
       "<text text-anchor=\"start\" x=\"645.5\" y=\"-428\" font-family=\"DejaVu Sans\" font-size=\"10.00\" fill=\"#6666ff\">http://www.example.org/unpublished&#45;weird</text>\n",
       "</a>\n",
       "</g>\n",
       "<polygon fill=\"none\" stroke=\"#666666\" points=\"642.5,-422 642.5,-458 832.5,-458 832.5,-422 642.5,-422\"/>\n",
       "</g>\n",
       "<!-- node5 -->\n",
       "<g id=\"node6\" class=\"node\">\n",
       "<title>node5</title>\n",
       "<polygon fill=\"grey\" stroke=\"transparent\" points=\"526.5,-343 526.5,-362 707.5,-362 707.5,-343 526.5,-343\"/>\n",
       "<text text-anchor=\"start\" x=\"562\" y=\"-349.8\" font-family=\"DejaVu Sans\" font-weight=\"bold\" font-size=\"14.00\">unpublished&#45;mul</text>\n",
       "<g id=\"a_node6_6\"><a xlink:href=\"http://www.example.org/unpublished-mul\" xlink:title=\"&lt;TABLE&gt;\">\n",
       "<polygon fill=\"#eeeeee\" stroke=\"transparent\" points=\"526.5,-328 526.5,-343 707.5,-343 707.5,-328 526.5,-328\"/>\n",
       "<text text-anchor=\"start\" x=\"528.5\" y=\"-333\" font-family=\"DejaVu Sans\" font-size=\"10.00\" fill=\"#6666ff\">http://www.example.org/unpublished&#45;mul</text>\n",
       "</a>\n",
       "</g>\n",
       "<polygon fill=\"none\" stroke=\"#666666\" points=\"525,-327 525,-363 708,-363 708,-327 525,-327\"/>\n",
       "</g>\n",
       "<!-- node4&#45;&gt;node5 -->\n",
       "<g id=\"edge3\" class=\"edge\">\n",
       "<title>node4&#45;&gt;node5</title>\n",
       "<path fill=\"none\" stroke=\"BLACK\" d=\"M703.89,-417.89C695.45,-412.29 686.51,-406.1 678.5,-400 667.83,-391.89 656.65,-382.46 646.76,-373.77\"/>\n",
       "<polygon fill=\"BLACK\" stroke=\"BLACK\" points=\"648.95,-371.03 639.15,-367.01 644.3,-376.27 648.95,-371.03\"/>\n",
       "<text text-anchor=\"start\" x=\"678.5\" y=\"-389.8\" font-family=\"Times,serif\" font-size=\"14.00\"> </text>\n",
       "<text text-anchor=\"start\" x=\"682.5\" y=\"-389.8\" font-family=\"Times,serif\" font-size=\"10.00\" fill=\"#336633\">dul:precedes</text>\n",
       "<text text-anchor=\"start\" x=\"734.5\" y=\"-389.8\" font-family=\"Times,serif\" font-size=\"14.00\"> </text>\n",
       "</g>\n",
       "<!-- node6 -->\n",
       "<g id=\"node8\" class=\"node\">\n",
       "<title>node6</title>\n",
       "<polygon fill=\"grey\" stroke=\"transparent\" points=\"9.5,-247.5 9.5,-266.5 1392.5,-266.5 1392.5,-247.5 9.5,-247.5\"/>\n",
       "<text text-anchor=\"start\" x=\"658.5\" y=\"-254.3\" font-family=\"DejaVu Sans\" font-weight=\"bold\" font-size=\"14.00\">My Workflow</text>\n",
       "<g id=\"a_node8_7\"><a xlink:href=\"plan\" xlink:title=\"&lt;TABLE&gt;\">\n",
       "<polygon fill=\"#eeeeee\" stroke=\"transparent\" points=\"9.5,-232.5 9.5,-247.5 1392.5,-247.5 1392.5,-232.5 9.5,-232.5\"/>\n",
       "<text text-anchor=\"start\" x=\"691.5\" y=\"-237.5\" font-family=\"DejaVu Sans\" font-size=\"10.00\" fill=\"#6666ff\">plan</text>\n",
       "</a>\n",
       "</g>\n",
       "<text text-anchor=\"start\" x=\"11.5\" y=\"-219.3\" font-family=\"DejaVu Sans\" font-size=\"14.00\">dc:description</text>\n",
       "<text text-anchor=\"start\" x=\"99.5\" y=\"-219.3\" font-family=\"DejaVu Sans\" font-size=\"14.00\">&quot;@is_fairworkflow(label=&#39;My Workflow&#39;)def my_workflow(in1, in2, in3): &#160;&#160;&#160;&quot;&quot;&quot; &#160;&#160;&#160;A simple addition, subtraction, multiplication workflow &#160;&#160;&#160;&quot;&quot;&quot; &#160;&#160;&#160;t1 = add(in1, in2) &#160;&#160;&#160;t2 = sub(in1, in2) &#160;&#160;&#160;t3 = mul(weird(t1, in3), t2) &#160;&#160;&#160;return t3&quot;</text>\n",
       "<polygon fill=\"none\" stroke=\"#666666\" points=\"8,-213 8,-268 1393,-268 1393,-213 8,-213\"/>\n",
       "</g>\n",
       "<!-- node4&#45;&gt;node6 -->\n",
       "<g id=\"edge12\" class=\"edge\">\n",
       "<title>node4&#45;&gt;node6</title>\n",
       "<path fill=\"none\" stroke=\"BLACK\" d=\"M741.99,-417.56C747.24,-387.94 753.44,-333.28 738.5,-290 737.42,-286.87 736.04,-283.78 734.46,-280.77\"/>\n",
       "<polygon fill=\"BLACK\" stroke=\"BLACK\" points=\"737.34,-278.78 729.17,-272.04 731.35,-282.41 737.34,-278.78\"/>\n",
       "<text text-anchor=\"start\" x=\"748.5\" y=\"-342.3\" font-family=\"Times,serif\" font-size=\"14.00\"> </text>\n",
       "<text text-anchor=\"start\" x=\"752.5\" y=\"-342.3\" font-family=\"Times,serif\" font-size=\"10.00\" fill=\"#336633\">pplan:isStepOfPlan</text>\n",
       "<text text-anchor=\"start\" x=\"832.5\" y=\"-342.3\" font-family=\"Times,serif\" font-size=\"14.00\"> </text>\n",
       "</g>\n",
       "<!-- node5&#45;&gt;node6 -->\n",
       "<g id=\"edge6\" class=\"edge\">\n",
       "<title>node5&#45;&gt;node6</title>\n",
       "<path fill=\"none\" stroke=\"BLACK\" d=\"M628.16,-322.96C634.27,-312.63 642.2,-300.24 650.5,-290 653.36,-286.47 656.46,-282.93 659.67,-279.46\"/>\n",
       "<polygon fill=\"BLACK\" stroke=\"BLACK\" points=\"662.41,-281.65 666.8,-272.01 657.36,-276.81 662.41,-281.65\"/>\n",
       "<text text-anchor=\"start\" x=\"650.5\" y=\"-294.8\" font-family=\"Times,serif\" font-size=\"14.00\"> </text>\n",
       "<text text-anchor=\"start\" x=\"654.5\" y=\"-294.8\" font-family=\"Times,serif\" font-size=\"10.00\" fill=\"#336633\">pplan:isStepOfPlan</text>\n",
       "<text text-anchor=\"start\" x=\"734.5\" y=\"-294.8\" font-family=\"Times,serif\" font-size=\"14.00\"> </text>\n",
       "</g>\n",
       "<!-- node7 -->\n",
       "<g id=\"node7\" class=\"node\">\n",
       "<title>node7</title>\n",
       "<polygon fill=\"grey\" stroke=\"transparent\" points=\"373.5,-438 373.5,-457 554.5,-457 554.5,-438 373.5,-438\"/>\n",
       "<text text-anchor=\"start\" x=\"409.5\" y=\"-444.8\" font-family=\"DejaVu Sans\" font-weight=\"bold\" font-size=\"14.00\">unpublished&#45;sub</text>\n",
       "<g id=\"a_node7_8\"><a xlink:href=\"http://www.example.org/unpublished-sub\" xlink:title=\"&lt;TABLE&gt;\">\n",
       "<polygon fill=\"#eeeeee\" stroke=\"transparent\" points=\"373.5,-423 373.5,-438 554.5,-438 554.5,-423 373.5,-423\"/>\n",
       "<text text-anchor=\"start\" x=\"375.5\" y=\"-428\" font-family=\"DejaVu Sans\" font-size=\"10.00\" fill=\"#6666ff\">http://www.example.org/unpublished&#45;sub</text>\n",
       "</a>\n",
       "</g>\n",
       "<polygon fill=\"none\" stroke=\"#666666\" points=\"372,-422 372,-458 555,-458 555,-422 372,-422\"/>\n",
       "</g>\n",
       "<!-- node7&#45;&gt;node5 -->\n",
       "<g id=\"edge15\" class=\"edge\">\n",
       "<title>node7&#45;&gt;node5</title>\n",
       "<path fill=\"none\" stroke=\"BLACK\" d=\"M498.22,-417.9C520.42,-404.4 549.4,-386.79 573.11,-372.37\"/>\n",
       "<polygon fill=\"BLACK\" stroke=\"BLACK\" points=\"575.19,-375.2 581.92,-367.02 571.56,-369.22 575.19,-375.2\"/>\n",
       "<text text-anchor=\"start\" x=\"549.5\" y=\"-389.8\" font-family=\"Times,serif\" font-size=\"14.00\"> </text>\n",
       "<text text-anchor=\"start\" x=\"553.5\" y=\"-389.8\" font-family=\"Times,serif\" font-size=\"10.00\" fill=\"#336633\">dul:precedes</text>\n",
       "<text text-anchor=\"start\" x=\"605.5\" y=\"-389.8\" font-family=\"Times,serif\" font-size=\"14.00\"> </text>\n",
       "</g>\n",
       "<!-- node7&#45;&gt;node6 -->\n",
       "<g id=\"edge4\" class=\"edge\">\n",
       "<title>node7&#45;&gt;node6</title>\n",
       "<path fill=\"none\" stroke=\"BLACK\" d=\"M444.13,-418C423.82,-393.34 397.64,-352.1 419.5,-323 434.06,-303.62 476.8,-287.37 524.71,-274.6\"/>\n",
       "<polygon fill=\"BLACK\" stroke=\"BLACK\" points=\"525.87,-277.91 534.67,-272.01 524.11,-271.14 525.87,-277.91\"/>\n",
       "<text text-anchor=\"start\" x=\"419.5\" y=\"-342.3\" font-family=\"Times,serif\" font-size=\"14.00\"> </text>\n",
       "<text text-anchor=\"start\" x=\"423.5\" y=\"-342.3\" font-family=\"Times,serif\" font-size=\"10.00\" fill=\"#336633\">pplan:isStepOfPlan</text>\n",
       "<text text-anchor=\"start\" x=\"503.5\" y=\"-342.3\" font-family=\"Times,serif\" font-size=\"14.00\"> </text>\n",
       "</g>\n",
       "<!-- node6&#45;&gt;node0 -->\n",
       "<g id=\"edge14\" class=\"edge\">\n",
       "<title>node6&#45;&gt;node0</title>\n",
       "<path fill=\"none\" stroke=\"BLACK\" d=\"M673.99,-208.9C662.45,-195.56 648.79,-179.79 636.58,-165.7\"/>\n",
       "<polygon fill=\"BLACK\" stroke=\"BLACK\" points=\"639.17,-163.34 629.97,-158.07 633.87,-167.92 639.17,-163.34\"/>\n",
       "<text text-anchor=\"start\" x=\"658.5\" y=\"-180.8\" font-family=\"Times,serif\" font-size=\"14.00\"> </text>\n",
       "<text text-anchor=\"start\" x=\"662.5\" y=\"-180.8\" font-family=\"Times,serif\" font-size=\"10.00\" fill=\"#336633\">dc:language</text>\n",
       "<text text-anchor=\"start\" x=\"713.5\" y=\"-180.8\" font-family=\"Times,serif\" font-size=\"14.00\"> </text>\n",
       "</g>\n",
       "<!-- node10 -->\n",
       "<g id=\"node11\" class=\"node\">\n",
       "<title>node10</title>\n",
       "<polygon fill=\"grey\" stroke=\"transparent\" points=\"730.5,-124.5 730.5,-143.5 863.5,-143.5 863.5,-124.5 730.5,-124.5\"/>\n",
       "<text text-anchor=\"start\" x=\"782.5\" y=\"-131.3\" font-family=\"DejaVu Sans\" font-weight=\"bold\" font-size=\"14.00\">Plan</text>\n",
       "<g id=\"a_node11_9\"><a xlink:href=\"http://purl.org/net/p-plan#Plan\" xlink:title=\"&lt;TABLE&gt;\">\n",
       "<polygon fill=\"#eeeeee\" stroke=\"transparent\" points=\"730.5,-109.5 730.5,-124.5 863.5,-124.5 863.5,-109.5 730.5,-109.5\"/>\n",
       "<text text-anchor=\"start\" x=\"732.5\" y=\"-114.5\" font-family=\"DejaVu Sans\" font-size=\"10.00\" fill=\"#6666ff\">http://purl.org/net/p&#45;plan#Plan</text>\n",
       "</a>\n",
       "</g>\n",
       "<polygon fill=\"none\" stroke=\"#666666\" points=\"729,-108.5 729,-144.5 864,-144.5 864,-108.5 729,-108.5\"/>\n",
       "</g>\n",
       "<!-- node6&#45;&gt;node10 -->\n",
       "<g id=\"edge7\" class=\"edge\">\n",
       "<title>node6&#45;&gt;node10</title>\n",
       "<path fill=\"none\" stroke=\"BLACK\" d=\"M726.73,-208.9C740.73,-192.57 757.85,-172.59 771.63,-156.51\"/>\n",
       "<polygon fill=\"BLACK\" stroke=\"BLACK\" points=\"774.65,-158.37 778.5,-148.5 769.33,-153.82 774.65,-158.37\"/>\n",
       "<text text-anchor=\"start\" x=\"754.5\" y=\"-180.8\" font-family=\"Times,serif\" font-size=\"14.00\"> </text>\n",
       "<text text-anchor=\"start\" x=\"758.5\" y=\"-180.8\" font-family=\"Times,serif\" font-size=\"10.00\" fill=\"#336633\">rdf:type</text>\n",
       "<text text-anchor=\"start\" x=\"791.5\" y=\"-180.8\" font-family=\"Times,serif\" font-size=\"14.00\"> </text>\n",
       "</g>\n",
       "<!-- node8 -->\n",
       "<g id=\"node9\" class=\"node\">\n",
       "<title>node8</title>\n",
       "<polygon fill=\"grey\" stroke=\"transparent\" points=\"1198.5,-533 1198.5,-552 1410.5,-552 1410.5,-533 1198.5,-533\"/>\n",
       "<text text-anchor=\"start\" x=\"1290\" y=\"-539.8\" font-family=\"DejaVu Sans\" font-weight=\"bold\" font-size=\"14.00\">out1</text>\n",
       "<g id=\"a_node9_10\"><a xlink:href=\"http://www.example.org/unpublished-weird#out1\" xlink:title=\"&lt;TABLE&gt;\">\n",
       "<polygon fill=\"#eeeeee\" stroke=\"transparent\" points=\"1198.5,-518 1198.5,-533 1410.5,-533 1410.5,-518 1198.5,-518\"/>\n",
       "<text text-anchor=\"start\" x=\"1200.5\" y=\"-523\" font-family=\"DejaVu Sans\" font-size=\"10.00\" fill=\"#6666ff\">http://www.example.org/unpublished&#45;weird#out1</text>\n",
       "</a>\n",
       "</g>\n",
       "<polygon fill=\"none\" stroke=\"#666666\" points=\"1197.5,-517 1197.5,-553 1411.5,-553 1411.5,-517 1197.5,-517\"/>\n",
       "</g>\n",
       "<!-- node9 -->\n",
       "<g id=\"node10\" class=\"node\">\n",
       "<title>node9</title>\n",
       "<polygon fill=\"grey\" stroke=\"transparent\" points=\"1209.5,-438 1209.5,-457 1400.5,-457 1400.5,-438 1209.5,-438\"/>\n",
       "<text text-anchor=\"start\" x=\"1301\" y=\"-444.8\" font-family=\"DejaVu Sans\" font-weight=\"bold\" font-size=\"14.00\">a</text>\n",
       "<g id=\"a_node10_11\"><a xlink:href=\"http://www.example.org/unpublished-mul#a\" xlink:title=\"&lt;TABLE&gt;\">\n",
       "<polygon fill=\"#eeeeee\" stroke=\"transparent\" points=\"1209.5,-423 1209.5,-438 1400.5,-438 1400.5,-423 1209.5,-423\"/>\n",
       "<text text-anchor=\"start\" x=\"1211.5\" y=\"-428\" font-family=\"DejaVu Sans\" font-size=\"10.00\" fill=\"#6666ff\">http://www.example.org/unpublished&#45;mul#a</text>\n",
       "</a>\n",
       "</g>\n",
       "<polygon fill=\"none\" stroke=\"#666666\" points=\"1208,-422 1208,-458 1401,-458 1401,-422 1208,-422\"/>\n",
       "</g>\n",
       "<!-- node8&#45;&gt;node9 -->\n",
       "<g id=\"edge5\" class=\"edge\">\n",
       "<title>node8&#45;&gt;node9</title>\n",
       "<path fill=\"none\" stroke=\"BLACK\" d=\"M1304.5,-512.9C1304.5,-500.89 1304.5,-485.62 1304.5,-472.24\"/>\n",
       "<polygon fill=\"BLACK\" stroke=\"BLACK\" points=\"1308,-472.02 1304.5,-462.02 1301,-472.02 1308,-472.02\"/>\n",
       "<text text-anchor=\"start\" x=\"1304.5\" y=\"-484.8\" font-family=\"Times,serif\" font-size=\"14.00\"> </text>\n",
       "<text text-anchor=\"start\" x=\"1308.5\" y=\"-484.8\" font-family=\"Times,serif\" font-size=\"10.00\" fill=\"#336633\">pplan:bindsTo</text>\n",
       "<text text-anchor=\"start\" x=\"1368.5\" y=\"-484.8\" font-family=\"Times,serif\" font-size=\"14.00\"> </text>\n",
       "</g>\n",
       "<!-- node11 -->\n",
       "<g id=\"node12\" class=\"node\">\n",
       "<title>node11</title>\n",
       "<polygon fill=\"grey\" stroke=\"transparent\" points=\"1447.5,-533 1447.5,-552 1652.5,-552 1652.5,-533 1447.5,-533\"/>\n",
       "<text text-anchor=\"start\" x=\"1535.5\" y=\"-539.8\" font-family=\"DejaVu Sans\" font-weight=\"bold\" font-size=\"14.00\">out1</text>\n",
       "<g id=\"a_node12_12\"><a xlink:href=\"http://www.example.org/unpublished-add#out1\" xlink:title=\"&lt;TABLE&gt;\">\n",
       "<polygon fill=\"#eeeeee\" stroke=\"transparent\" points=\"1447.5,-518 1447.5,-533 1652.5,-533 1652.5,-518 1447.5,-518\"/>\n",
       "<text text-anchor=\"start\" x=\"1449.5\" y=\"-523\" font-family=\"DejaVu Sans\" font-size=\"10.00\" fill=\"#6666ff\">http://www.example.org/unpublished&#45;add#out1</text>\n",
       "</a>\n",
       "</g>\n",
       "<polygon fill=\"none\" stroke=\"#666666\" points=\"1446,-517 1446,-553 1653,-553 1653,-517 1446,-517\"/>\n",
       "</g>\n",
       "<!-- node12 -->\n",
       "<g id=\"node13\" class=\"node\">\n",
       "<title>node12</title>\n",
       "<polygon fill=\"grey\" stroke=\"transparent\" points=\"1450.5,-438 1450.5,-457 1649.5,-457 1649.5,-438 1450.5,-438\"/>\n",
       "<text text-anchor=\"start\" x=\"1546\" y=\"-444.8\" font-family=\"DejaVu Sans\" font-weight=\"bold\" font-size=\"14.00\">a</text>\n",
       "<g id=\"a_node13_13\"><a xlink:href=\"http://www.example.org/unpublished-weird#a\" xlink:title=\"&lt;TABLE&gt;\">\n",
       "<polygon fill=\"#eeeeee\" stroke=\"transparent\" points=\"1450.5,-423 1450.5,-438 1649.5,-438 1649.5,-423 1450.5,-423\"/>\n",
       "<text text-anchor=\"start\" x=\"1452.5\" y=\"-428\" font-family=\"DejaVu Sans\" font-size=\"10.00\" fill=\"#6666ff\">http://www.example.org/unpublished&#45;weird#a</text>\n",
       "</a>\n",
       "</g>\n",
       "<polygon fill=\"none\" stroke=\"#666666\" points=\"1449,-422 1449,-458 1650,-458 1650,-422 1449,-422\"/>\n",
       "</g>\n",
       "<!-- node11&#45;&gt;node12 -->\n",
       "<g id=\"edge8\" class=\"edge\">\n",
       "<title>node11&#45;&gt;node12</title>\n",
       "<path fill=\"none\" stroke=\"BLACK\" d=\"M1549.5,-512.9C1549.5,-500.89 1549.5,-485.62 1549.5,-472.24\"/>\n",
       "<polygon fill=\"BLACK\" stroke=\"BLACK\" points=\"1553,-472.02 1549.5,-462.02 1546,-472.02 1553,-472.02\"/>\n",
       "<text text-anchor=\"start\" x=\"1549.5\" y=\"-484.8\" font-family=\"Times,serif\" font-size=\"14.00\"> </text>\n",
       "<text text-anchor=\"start\" x=\"1553.5\" y=\"-484.8\" font-family=\"Times,serif\" font-size=\"10.00\" fill=\"#336633\">pplan:bindsTo</text>\n",
       "<text text-anchor=\"start\" x=\"1613.5\" y=\"-484.8\" font-family=\"Times,serif\" font-size=\"14.00\"> </text>\n",
       "</g>\n",
       "<!-- node13 -->\n",
       "<g id=\"node14\" class=\"node\">\n",
       "<title>node13</title>\n",
       "<polygon fill=\"grey\" stroke=\"transparent\" points=\"740.5,-533 740.5,-552 921.5,-552 921.5,-533 740.5,-533\"/>\n",
       "<text text-anchor=\"start\" x=\"776.5\" y=\"-539.8\" font-family=\"DejaVu Sans\" font-weight=\"bold\" font-size=\"14.00\">unpublished&#45;add</text>\n",
       "<g id=\"a_node14_14\"><a xlink:href=\"http://www.example.org/unpublished-add\" xlink:title=\"&lt;TABLE&gt;\">\n",
       "<polygon fill=\"#eeeeee\" stroke=\"transparent\" points=\"740.5,-518 740.5,-533 921.5,-533 921.5,-518 740.5,-518\"/>\n",
       "<text text-anchor=\"start\" x=\"742.5\" y=\"-523\" font-family=\"DejaVu Sans\" font-size=\"10.00\" fill=\"#6666ff\">http://www.example.org/unpublished&#45;add</text>\n",
       "</a>\n",
       "</g>\n",
       "<polygon fill=\"none\" stroke=\"#666666\" points=\"739,-517 739,-553 922,-553 922,-517 739,-517\"/>\n",
       "</g>\n",
       "<!-- node13&#45;&gt;node4 -->\n",
       "<g id=\"edge10\" class=\"edge\">\n",
       "<title>node13&#45;&gt;node4</title>\n",
       "<path fill=\"none\" stroke=\"BLACK\" d=\"M809.4,-512.9C796.44,-499.94 779.68,-483.18 765.6,-469.1\"/>\n",
       "<polygon fill=\"BLACK\" stroke=\"BLACK\" points=\"768.07,-466.62 758.52,-462.02 763.12,-471.57 768.07,-466.62\"/>\n",
       "<text text-anchor=\"start\" x=\"790.5\" y=\"-484.8\" font-family=\"Times,serif\" font-size=\"14.00\"> </text>\n",
       "<text text-anchor=\"start\" x=\"794.5\" y=\"-484.8\" font-family=\"Times,serif\" font-size=\"10.00\" fill=\"#336633\">dul:precedes</text>\n",
       "<text text-anchor=\"start\" x=\"846.5\" y=\"-484.8\" font-family=\"Times,serif\" font-size=\"14.00\"> </text>\n",
       "</g>\n",
       "<!-- node13&#45;&gt;node6 -->\n",
       "<g id=\"edge9\" class=\"edge\">\n",
       "<title>node13&#45;&gt;node6</title>\n",
       "<path fill=\"none\" stroke=\"BLACK\" d=\"M846.48,-512.72C849.77,-507.22 852.77,-501.12 854.5,-495 875.39,-421.2 881.83,-387.61 840.5,-323 828.41,-304.1 810.26,-289.06 791,-277.32\"/>\n",
       "<polygon fill=\"BLACK\" stroke=\"BLACK\" points=\"792.49,-274.14 782.09,-272.15 788.98,-280.2 792.49,-274.14\"/>\n",
       "<text text-anchor=\"start\" x=\"870.5\" y=\"-389.8\" font-family=\"Times,serif\" font-size=\"14.00\"> </text>\n",
       "<text text-anchor=\"start\" x=\"874.5\" y=\"-389.8\" font-family=\"Times,serif\" font-size=\"10.00\" fill=\"#336633\">pplan:isStepOfPlan</text>\n",
       "<text text-anchor=\"start\" x=\"954.5\" y=\"-389.8\" font-family=\"Times,serif\" font-size=\"14.00\"> </text>\n",
       "</g>\n",
       "<!-- node14 -->\n",
       "<g id=\"node15\" class=\"node\">\n",
       "<title>node14</title>\n",
       "<polygon fill=\"grey\" stroke=\"transparent\" points=\"1688.5,-533 1688.5,-552 1893.5,-552 1893.5,-533 1688.5,-533\"/>\n",
       "<text text-anchor=\"start\" x=\"1776.5\" y=\"-539.8\" font-family=\"DejaVu Sans\" font-weight=\"bold\" font-size=\"14.00\">out1</text>\n",
       "<g id=\"a_node15_15\"><a xlink:href=\"http://www.example.org/unpublished-sub#out1\" xlink:title=\"&lt;TABLE&gt;\">\n",
       "<polygon fill=\"#eeeeee\" stroke=\"transparent\" points=\"1688.5,-518 1688.5,-533 1893.5,-533 1893.5,-518 1688.5,-518\"/>\n",
       "<text text-anchor=\"start\" x=\"1690.5\" y=\"-523\" font-family=\"DejaVu Sans\" font-size=\"10.00\" fill=\"#6666ff\">http://www.example.org/unpublished&#45;sub#out1</text>\n",
       "</a>\n",
       "</g>\n",
       "<polygon fill=\"none\" stroke=\"#666666\" points=\"1687,-517 1687,-553 1894,-553 1894,-517 1687,-517\"/>\n",
       "</g>\n",
       "<!-- node15 -->\n",
       "<g id=\"node16\" class=\"node\">\n",
       "<title>node15</title>\n",
       "<polygon fill=\"grey\" stroke=\"transparent\" points=\"1695.5,-438 1695.5,-457 1886.5,-457 1886.5,-438 1695.5,-438\"/>\n",
       "<text text-anchor=\"start\" x=\"1786.5\" y=\"-444.8\" font-family=\"DejaVu Sans\" font-weight=\"bold\" font-size=\"14.00\">b</text>\n",
       "<g id=\"a_node16_16\"><a xlink:href=\"http://www.example.org/unpublished-mul#b\" xlink:title=\"&lt;TABLE&gt;\">\n",
       "<polygon fill=\"#eeeeee\" stroke=\"transparent\" points=\"1695.5,-423 1695.5,-438 1886.5,-438 1886.5,-423 1695.5,-423\"/>\n",
       "<text text-anchor=\"start\" x=\"1697.5\" y=\"-428\" font-family=\"DejaVu Sans\" font-size=\"10.00\" fill=\"#6666ff\">http://www.example.org/unpublished&#45;mul#b</text>\n",
       "</a>\n",
       "</g>\n",
       "<polygon fill=\"none\" stroke=\"#666666\" points=\"1694,-422 1694,-458 1887,-458 1887,-422 1694,-422\"/>\n",
       "</g>\n",
       "<!-- node14&#45;&gt;node15 -->\n",
       "<g id=\"edge11\" class=\"edge\">\n",
       "<title>node14&#45;&gt;node15</title>\n",
       "<path fill=\"none\" stroke=\"BLACK\" d=\"M1790.5,-512.9C1790.5,-500.89 1790.5,-485.62 1790.5,-472.24\"/>\n",
       "<polygon fill=\"BLACK\" stroke=\"BLACK\" points=\"1794,-472.02 1790.5,-462.02 1787,-472.02 1794,-472.02\"/>\n",
       "<text text-anchor=\"start\" x=\"1790.5\" y=\"-484.8\" font-family=\"Times,serif\" font-size=\"14.00\"> </text>\n",
       "<text text-anchor=\"start\" x=\"1794.5\" y=\"-484.8\" font-family=\"Times,serif\" font-size=\"10.00\" fill=\"#336633\">pplan:bindsTo</text>\n",
       "<text text-anchor=\"start\" x=\"1854.5\" y=\"-484.8\" font-family=\"Times,serif\" font-size=\"14.00\"> </text>\n",
       "</g>\n",
       "</g>\n",
       "</svg>\n"
      ],
      "text/plain": [
       "<graphviz.files.Source at 0x7ff858bf2a50>"
      ]
     },
     "execution_count": 24,
     "metadata": {},
     "output_type": "execute_result"
    }
   ],
   "source": [
    "fw.display_rdf()"
   ]
  },
  {
   "cell_type": "markdown",
   "id": "german-forest",
   "metadata": {},
   "source": [
    "## Publish the (prospective) workflow\n",
    "You may publish the workflow, and its steps, as nanopublications in the usual manner:"
   ]
  },
  {
   "cell_type": "code",
   "execution_count": 25,
   "id": "approved-damage",
   "metadata": {},
   "outputs": [],
   "source": [
    "#fw.publish_as_nanopub()"
   ]
  },
  {
   "cell_type": "markdown",
   "id": "matched-colleague",
   "metadata": {},
   "source": [
    "Be warned though - the above will keep publishing to the 'real' nanopub server network. For testing you may prefer to publish to the test servers as follows (note that this will refuse to publish a workflow you have already published :"
   ]
  },
  {
   "cell_type": "code",
   "execution_count": 27,
   "id": "quarterly-shield",
   "metadata": {},
   "outputs": [
    {
     "name": "stdout",
     "output_type": "stream",
     "text": [
      "Published to http://purl.org/np/RArfw5pDGpdbmSFmqy43E8Q0qTESjloVrHPkGgWrrMk68\n",
      "Published concept to http://purl.org/np/RArfw5pDGpdbmSFmqy43E8Q0qTESjloVrHPkGgWrrMk68#step\n",
      "Published to http://purl.org/np/RABC9qOhvWb89wzSDhNfhMmA15cMHp7zfFaHBiwMZC7iA\n",
      "Published concept to http://purl.org/np/RABC9qOhvWb89wzSDhNfhMmA15cMHp7zfFaHBiwMZC7iA#step\n",
      "Published to http://purl.org/np/RAkelHhx0VSs6t1vvr15xXks3G7Hxast2jY80Eo9433ew\n",
      "Published concept to http://purl.org/np/RAkelHhx0VSs6t1vvr15xXks3G7Hxast2jY80Eo9433ew#step\n",
      "Published to http://purl.org/np/RAeVkW7gfsfXlmZlv9QkgI_C7DmNOCP6B4pEyJKwEIBgo\n",
      "Published concept to http://purl.org/np/RAeVkW7gfsfXlmZlv9QkgI_C7DmNOCP6B4pEyJKwEIBgo#step\n",
      "Published to http://purl.org/np/RAk8NF9sc1SpTS6CBvlvVV1QKRPBj040ezmar4nXclqGs\n",
      "Published concept to http://purl.org/np/RAk8NF9sc1SpTS6CBvlvVV1QKRPBj040ezmar4nXclqGs#plan\n"
     ]
    },
    {
     "data": {
      "text/plain": [
       "{'nanopub_uri': 'http://purl.org/np/RAk8NF9sc1SpTS6CBvlvVV1QKRPBj040ezmar4nXclqGs',\n",
       " 'concept_uri': 'http://purl.org/np/RAk8NF9sc1SpTS6CBvlvVV1QKRPBj040ezmar4nXclqGs#plan'}"
      ]
     },
     "execution_count": 27,
     "metadata": {},
     "output_type": "execute_result"
    }
   ],
   "source": [
    "fw.publish_as_nanopub(use_test_server=True, publish_steps=True)"
   ]
  },
  {
   "cell_type": "markdown",
   "id": "black-jason",
   "metadata": {},
   "source": [
    "You can then find your nanopublications by replacing the base of the URI with http://test-server.nanopubs.lod.labs.vu.nl/"
   ]
  },
  {
   "cell_type": "markdown",
   "id": "wrapped-toner",
   "metadata": {},
   "source": [
    "## Execute your workflow using .execute()\n",
    "Set num_threads greater than 1 if you wish to exploit parallelisation in your workflow. The retrospective provenance is also returned as a (nano) Publication object, that can optionally be published."
   ]
  },
  {
   "cell_type": "code",
   "execution_count": 28,
   "id": "civil-representative",
   "metadata": {},
   "outputs": [
    {
     "data": {
      "text/plain": [
       "-66"
      ]
     },
     "execution_count": 28,
     "metadata": {},
     "output_type": "execute_result"
    }
   ],
   "source": [
    "result, prov = fw.execute(1, 4, 3)\n",
    "result"
   ]
  },
  {
   "cell_type": "markdown",
   "id": "distinct-share",
   "metadata": {},
   "source": [
    " ## Retrospective prov\n",
    " The retrospective prov object is not yet implemented, pending one of the RDF tasks set out in the planning document. For now, you may see simply the provenance trace for this run. We wish to turn this into a (Plex) RDF nanopublication:"
   ]
  },
  {
   "cell_type": "code",
   "execution_count": 31,
   "id": "photographic-adrian",
   "metadata": {},
   "outputs": [
    {
     "data": {
      "text/plain": [
       "nanopub.publication.Publication"
      ]
     },
     "execution_count": 31,
     "metadata": {},
     "output_type": "execute_result"
    }
   ],
   "source": [
    "type(prov)"
   ]
  },
  {
   "cell_type": "code",
   "execution_count": 32,
   "id": "grateful-indication",
   "metadata": {},
   "outputs": [
    {
     "name": "stdout",
     "output_type": "stream",
     "text": [
      "Original source URI = None\n",
      "@prefix : <http://purl.org/nanopub/temp/mynanopub#> .\n",
      "@prefix np: <http://www.nanopub.org/nschema#> .\n",
      "@prefix prov: <http://www.w3.org/ns/prov#> .\n",
      "@prefix rdfs: <http://www.w3.org/2000/01/rdf-schema#> .\n",
      "@prefix xsd: <http://www.w3.org/2001/XMLSchema#> .\n",
      "\n",
      ":Head {\n",
      "    : a np:Nanopublication ;\n",
      "        np:hasAssertion :assertion ;\n",
      "        np:hasProvenance :provenance ;\n",
      "        np:hasPublicationInfo :pubInfo .\n",
      "}\n",
      "\n",
      ":assertion {\n",
      "    :retroprov a prov:Activity ;\n",
      "        rdfs:label \"\"\"2021-02-16 13:39:47,454 - Running step: add\n",
      "2021-02-16 13:39:47,455 - Running step: sub\n",
      "2021-02-16 13:39:47,455 - Running step: weird\n",
      "2021-02-16 13:39:47,455 - Running step: mul\n",
      "\"\"\" ;\n",
      "        prov:wasDerivedFrom <http://purl.org/np/RAk8NF9sc1SpTS6CBvlvVV1QKRPBj040ezmar4nXclqGs#plan> .\n",
      "}\n",
      "\n",
      ":provenance {\n",
      "    :assertion prov:generatedAtTime \"2021-02-16T13:39:47.456746\"^^xsd:dateTime .\n",
      "}\n",
      "\n",
      ":pubInfo {\n",
      "    : prov:generatedAtTime \"2021-02-16T13:39:47.456746\"^^xsd:dateTime ;\n",
      "        prov:wasAttributedTo <https://orcid.org/0000-0000-0000-0000> .\n",
      "}\n",
      "\n",
      "\n"
     ]
    }
   ],
   "source": [
    "print(prov)"
   ]
  },
  {
   "cell_type": "markdown",
   "id": "official-broad",
   "metadata": {},
   "source": [
    "### Provide semantic annotations for input and output variables\n",
    "If you wish to specify semantic types for the inputs/outputs to a step, you can do so in the arguments to the decorator.\n",
    "For example, if you have an input parameter 'a', you can write a='http://www.example.org/distance' to assign that (semantic) type to a. As output of functions is not named in python, you can specify the same but with 'out1', 'out2' etc. See the following example:"
   ]
  },
  {
   "cell_type": "code",
   "execution_count": 33,
   "id": "partial-northwest",
   "metadata": {},
   "outputs": [],
   "source": [
    "@is_fairstep(label='Addition', a='http://www.example.org/distance', returns='http://www.example.org/mass')\n",
    "def add(a:float, b:float) -> float:\n",
    "    return a + b"
   ]
  },
  {
   "cell_type": "markdown",
   "id": "retired-stupid",
   "metadata": {},
   "source": [
    "If we now look at the RDF generated for the step, we will see that input parameter 'a' and the step output ('out1') both have the (additional) semantic types specified."
   ]
  },
  {
   "cell_type": "code",
   "execution_count": 34,
   "id": "junior-coordinate",
   "metadata": {},
   "outputs": [
    {
     "name": "stdout",
     "output_type": "stream",
     "text": [
      "Step URI = http://www.example.org/unpublished-add\n",
      "@prefix bpmn: <http://dkm.fbk.eu/index.php/BPMN2_Ontology#> .\n",
      "@prefix dc: <http://purl.org/dc/terms/> .\n",
      "@prefix owl: <http://www.w3.org/2002/07/owl#> .\n",
      "@prefix pplan: <http://purl.org/net/p-plan#> .\n",
      "@prefix rdfs: <http://www.w3.org/2000/01/rdf-schema#> .\n",
      "@prefix schema: <https://schema.org/> .\n",
      "\n",
      "_:Nd2641b6028ec4f02b285cf7d74ef3902 {\n",
      "    [] a bpmn:ScriptTask,\n",
      "            pplan:Step ;\n",
      "        rdfs:label \"Addition\" ;\n",
      "        dc:description \"\"\"@is_fairstep(label='Addition', a='http://www.example.org/distance', returns='http://www.example.org/mass')\n",
      "def add(a:float, b:float) -> float:\n",
      "    return a + b\n",
      "\"\"\" ;\n",
      "        dc:language [ a schema:ComputerLanguage ;\n",
      "                rdfs:label \"python\" ;\n",
      "                rdfs:seeAlso <https://en.wikipedia.org/wiki/Python_(programming_language)> ;\n",
      "                owl:versionInfo \"3.7.9.final.0\" ] ;\n",
      "        pplan:hasInputVar [ a pplan:Variable,\n",
      "                    <http://www.example.org/distance> ;\n",
      "                rdfs:label \"a\" ;\n",
      "                rdfs:comment \"float\" ],\n",
      "            [ a pplan:Variable ;\n",
      "                rdfs:label \"b\" ;\n",
      "                rdfs:comment \"float\" ] ;\n",
      "        pplan:hasOutputVar [ a pplan:Variable,\n",
      "                    <http://www.example.org/mass> ;\n",
      "                rdfs:label \"out1\" ;\n",
      "                rdfs:comment \"float\" ] .\n",
      "}\n",
      "\n",
      "\n"
     ]
    }
   ],
   "source": [
    "# ACTIONS:\n",
    "# Add language and version to nanopubs (i.e. what the description is written in)\n",
    "print(add._fairstep)"
   ]
  },
  {
   "cell_type": "markdown",
   "id": "detailed-sherman",
   "metadata": {},
   "source": [
    "### Specify more than one semantic type for a parameter\n",
    "You can provide a list of URIs if you want to specify several semantic types for e.g. parameter 'a':"
   ]
  },
  {
   "cell_type": "code",
   "execution_count": 35,
   "id": "increased-highland",
   "metadata": {},
   "outputs": [],
   "source": [
    "@is_fairstep(label='Addition', a=['http://www.example.org/distance', 'http://www.example.org/number'])\n",
    "def another_step(a:float, b:float) -> float:\n",
    "    \"\"\"Add two numbers together\"\"\"\n",
    "    return a + b"
   ]
  },
  {
   "cell_type": "code",
   "execution_count": 36,
   "id": "special-doctrine",
   "metadata": {},
   "outputs": [
    {
     "name": "stdout",
     "output_type": "stream",
     "text": [
      "Step URI = http://www.example.org/unpublished-another_step\n",
      "@prefix bpmn: <http://dkm.fbk.eu/index.php/BPMN2_Ontology#> .\n",
      "@prefix dc: <http://purl.org/dc/terms/> .\n",
      "@prefix owl: <http://www.w3.org/2002/07/owl#> .\n",
      "@prefix pplan: <http://purl.org/net/p-plan#> .\n",
      "@prefix rdfs: <http://www.w3.org/2000/01/rdf-schema#> .\n",
      "@prefix schema: <https://schema.org/> .\n",
      "\n",
      "_:N0d48ef67a35e4611b0c5eaaa15436b88 {\n",
      "    [] a bpmn:ScriptTask,\n",
      "            pplan:Step ;\n",
      "        rdfs:label \"Addition\" ;\n",
      "        dc:description \"\"\"@is_fairstep(label='Addition', a=['http://www.example.org/distance', 'http://www.example.org/number'])\n",
      "def another_step(a:float, b:float) -> float:\n",
      "    \\\"\\\"\\\"Add two numbers together\\\"\\\"\\\"\n",
      "    return a + b\n",
      "\"\"\" ;\n",
      "        dc:language [ a schema:ComputerLanguage ;\n",
      "                rdfs:label \"python\" ;\n",
      "                rdfs:seeAlso <https://en.wikipedia.org/wiki/Python_(programming_language)> ;\n",
      "                owl:versionInfo \"3.7.9.final.0\" ] ;\n",
      "        pplan:hasInputVar [ a pplan:Variable,\n",
      "                    <http://www.example.org/distance>,\n",
      "                    <http://www.example.org/number> ;\n",
      "                rdfs:label \"a\" ;\n",
      "                rdfs:comment \"float\" ],\n",
      "            [ a pplan:Variable ;\n",
      "                rdfs:label \"b\" ;\n",
      "                rdfs:comment \"float\" ] ;\n",
      "        pplan:hasOutputVar [ a pplan:Variable ;\n",
      "                rdfs:label \"out1\" ;\n",
      "                rdfs:comment \"float\" ] .\n",
      "}\n",
      "\n",
      "\n"
     ]
    }
   ],
   "source": [
    "print(another_step._fairstep)"
   ]
  },
  {
   "cell_type": "markdown",
   "id": "eligible-dollar",
   "metadata": {},
   "source": [
    "You can check the programming language that was used for writing the step:"
   ]
  },
  {
   "cell_type": "code",
   "execution_count": 39,
   "id": "decent-anatomy",
   "metadata": {},
   "outputs": [
    {
     "name": "stdout",
     "output_type": "stream",
     "text": [
      "LinguisticSystem with type=https://schema.org/ComputerLanguage, label=python, seeAlso=https://en.wikipedia.org/wiki/Python_(programming_language), versionInfo=3.7.9.final.0\n"
     ]
    }
   ],
   "source": [
    "print(another_step._fairstep.language)"
   ]
  },
  {
   "cell_type": "markdown",
   "id": "flush-grove",
   "metadata": {},
   "source": [
    "## Semantic types for function producing multiple outputs\n",
    "Provide 'out' with a tuple of the same length as the number of function outputs. You can use None for any you do not wish to assign a particular semantic type to."
   ]
  },
  {
   "cell_type": "code",
   "execution_count": 40,
   "id": "personalized-wilson",
   "metadata": {},
   "outputs": [],
   "source": [
    "from typing import Tuple\n",
    "@is_fairstep(label='Addition and subtraction', returns=('http://www.example.org/distance', 'http://www.example.org/number'))\n",
    "def another_step(a:float, b:float) -> Tuple[float, float]:\n",
    "    return a + b, a - b"
   ]
  },
  {
   "cell_type": "code",
   "execution_count": 41,
   "id": "certified-guess",
   "metadata": {},
   "outputs": [
    {
     "name": "stdout",
     "output_type": "stream",
     "text": [
      "Step URI = http://www.example.org/unpublished-another_step\n",
      "@prefix bpmn: <http://dkm.fbk.eu/index.php/BPMN2_Ontology#> .\n",
      "@prefix dc: <http://purl.org/dc/terms/> .\n",
      "@prefix owl: <http://www.w3.org/2002/07/owl#> .\n",
      "@prefix pplan: <http://purl.org/net/p-plan#> .\n",
      "@prefix rdfs: <http://www.w3.org/2000/01/rdf-schema#> .\n",
      "@prefix schema: <https://schema.org/> .\n",
      "\n",
      "_:N049c5deb99fe48d1a04b060b07a455b3 {\n",
      "    [] a bpmn:ScriptTask,\n",
      "            pplan:Step ;\n",
      "        rdfs:label \"Addition and subtraction\" ;\n",
      "        dc:description \"\"\"@is_fairstep(label='Addition and subtraction', returns=('http://www.example.org/distance', 'http://www.example.org/number'))\n",
      "def another_step(a:float, b:float) -> Tuple[float, float]:\n",
      "    return a + b, a - b\n",
      "\"\"\" ;\n",
      "        dc:language [ a schema:ComputerLanguage ;\n",
      "                rdfs:label \"python\" ;\n",
      "                rdfs:seeAlso <https://en.wikipedia.org/wiki/Python_(programming_language)> ;\n",
      "                owl:versionInfo \"3.7.9.final.0\" ] ;\n",
      "        pplan:hasInputVar [ a pplan:Variable ;\n",
      "                rdfs:label \"a\" ;\n",
      "                rdfs:comment \"float\" ],\n",
      "            [ a pplan:Variable ;\n",
      "                rdfs:label \"b\" ;\n",
      "                rdfs:comment \"float\" ] ;\n",
      "        pplan:hasOutputVar [ a pplan:Variable,\n",
      "                    <http://www.example.org/distance> ;\n",
      "                rdfs:label \"out1\" ;\n",
      "                rdfs:comment \"float\" ],\n",
      "            [ a pplan:Variable,\n",
      "                    <http://www.example.org/number> ;\n",
      "                rdfs:label \"out2\" ;\n",
      "                rdfs:comment \"float\" ] .\n",
      "}\n",
      "\n",
      "\n"
     ]
    }
   ],
   "source": [
    "print(another_step._fairstep)"
   ]
  },
  {
   "cell_type": "markdown",
   "id": "surprising-optics",
   "metadata": {},
   "source": [
    "As before, you may provide a list of URIs for each output. If you do not want to provide semantic types for a particular output, simply pass None:"
   ]
  },
  {
   "cell_type": "code",
   "execution_count": 42,
   "id": "correct-perry",
   "metadata": {},
   "outputs": [],
   "source": [
    "from typing import Tuple\n",
    "@is_fairstep(label='Addition and subtraction', returns=(['http://www.example.org/distance', 'http://www.example.org/number'], None))\n",
    "def another_step(a:float, b:float) -> Tuple[float, float]:\n",
    "    \"\"\"This step returns an addition and a subtraction of its inputs\"\"\"\n",
    "    return a + b, a - b"
   ]
  },
  {
   "cell_type": "code",
   "execution_count": 43,
   "id": "extensive-standing",
   "metadata": {},
   "outputs": [
    {
     "name": "stdout",
     "output_type": "stream",
     "text": [
      "Step URI = http://www.example.org/unpublished-another_step\n",
      "@prefix bpmn: <http://dkm.fbk.eu/index.php/BPMN2_Ontology#> .\n",
      "@prefix dc: <http://purl.org/dc/terms/> .\n",
      "@prefix owl: <http://www.w3.org/2002/07/owl#> .\n",
      "@prefix pplan: <http://purl.org/net/p-plan#> .\n",
      "@prefix rdfs: <http://www.w3.org/2000/01/rdf-schema#> .\n",
      "@prefix schema: <https://schema.org/> .\n",
      "\n",
      "_:N230e6f57b6fc4bc1be68bcfa1a6edb6c {\n",
      "    [] a bpmn:ScriptTask,\n",
      "            pplan:Step ;\n",
      "        rdfs:label \"Addition and subtraction\" ;\n",
      "        dc:description \"\"\"@is_fairstep(label='Addition and subtraction', returns=(['http://www.example.org/distance', 'http://www.example.org/number'], None))\n",
      "def another_step(a:float, b:float) -> Tuple[float, float]:\n",
      "    \\\"\\\"\\\"This step returns an addition and a subtraction of its inputs\\\"\\\"\\\"\n",
      "    return a + b, a - b\n",
      "\"\"\" ;\n",
      "        dc:language [ a schema:ComputerLanguage ;\n",
      "                rdfs:label \"python\" ;\n",
      "                rdfs:seeAlso <https://en.wikipedia.org/wiki/Python_(programming_language)> ;\n",
      "                owl:versionInfo \"3.7.9.final.0\" ] ;\n",
      "        pplan:hasInputVar [ a pplan:Variable ;\n",
      "                rdfs:label \"a\" ;\n",
      "                rdfs:comment \"float\" ],\n",
      "            [ a pplan:Variable ;\n",
      "                rdfs:label \"b\" ;\n",
      "                rdfs:comment \"float\" ] ;\n",
      "        pplan:hasOutputVar [ a pplan:Variable,\n",
      "                    <http://www.example.org/distance>,\n",
      "                    <http://www.example.org/number> ;\n",
      "                rdfs:label \"out1\" ;\n",
      "                rdfs:comment \"float\" ],\n",
      "            [ a pplan:Variable ;\n",
      "                rdfs:label \"out2\" ;\n",
      "                rdfs:comment \"float\" ] .\n",
      "}\n",
      "\n",
      "\n"
     ]
    }
   ],
   "source": [
    "print(another_step._fairstep)"
   ]
  },
  {
   "cell_type": "code",
   "execution_count": null,
   "id": "criminal-fifty",
   "metadata": {},
   "outputs": [],
   "source": []
  }
 ],
 "metadata": {
  "kernelspec": {
   "display_name": "Python 3",
   "language": "python",
   "name": "python3"
  },
  "language_info": {
   "codemirror_mode": {
    "name": "ipython",
    "version": 3
   },
   "file_extension": ".py",
   "mimetype": "text/x-python",
   "name": "python",
   "nbconvert_exporter": "python",
   "pygments_lexer": "ipython3",
   "version": "3.7.9"
  }
 },
 "nbformat": 4,
 "nbformat_minor": 5
}
