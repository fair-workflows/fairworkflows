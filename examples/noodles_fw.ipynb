{
 "cells": [
  {
   "cell_type": "markdown",
   "id": "amino-receipt",
   "metadata": {},
   "source": [
    "# FairWorkflows execution demo"
   ]
  },
  {
   "cell_type": "markdown",
   "id": "strategic-wesley",
   "metadata": {},
   "source": [
    "## Define the steps of your workflow\n",
    "Each step should be its own function. Mark the function as such with the @fairstep decorator."
   ]
  },
  {
   "cell_type": "code",
   "execution_count": 1,
   "id": "guilty-angola",
   "metadata": {},
   "outputs": [],
   "source": [
    "from fairworkflows import is_fairworkflow, is_fairstep"
   ]
  },
  {
   "cell_type": "code",
   "execution_count": 2,
   "id": "broad-cutting",
   "metadata": {},
   "outputs": [],
   "source": [
    "@is_fairstep(label='Addition')\n",
    "def add(a:float, b:float) -> float:\n",
    "    \"\"\"Adding up numbers!\"\"\"\n",
    "    return a + b"
   ]
  },
  {
   "cell_type": "code",
   "execution_count": 3,
   "id": "spread-enhancement",
   "metadata": {},
   "outputs": [],
   "source": [
    "@is_fairstep(label='Subtraction')\n",
    "def sub(a: float, b: float) -> float:\n",
    "    \"\"\"Subtracting numbers.\"\"\"\n",
    "    return a - b"
   ]
  },
  {
   "cell_type": "code",
   "execution_count": 4,
   "id": "floating-confusion",
   "metadata": {},
   "outputs": [],
   "source": [
    "@is_fairstep(label='Multiplication')\n",
    "def mul(a: float, b: float) -> float:\n",
    "    \"\"\"Multiplying numbers.\"\"\"\n",
    "    return a * b"
   ]
  },
  {
   "cell_type": "code",
   "execution_count": 5,
   "id": "aboriginal-attack",
   "metadata": {},
   "outputs": [],
   "source": [
    "@is_fairstep(label='A strange step with little use')\n",
    "def weird(a: float, b:float) -> float:\n",
    "    \"\"\"A weird function\"\"\"\n",
    "    return a * 2 + b * 4\n",
    "    "
   ]
  },
  {
   "cell_type": "markdown",
   "id": "interim-arcade",
   "metadata": {},
   "source": [
    "## Define your workflow using @fairworkflow\n",
    "Now write a function which describes your workflow. Mark this function with the @fairworkflow decorator."
   ]
  },
  {
   "cell_type": "code",
   "execution_count": 6,
   "id": "treated-refrigerator",
   "metadata": {},
   "outputs": [],
   "source": [
    "@is_fairworkflow(label='My Workflow')\n",
    "def my_workflow(in1, in2, in3):\n",
    "    \"\"\"\n",
    "    A simple addition, subtraction, multiplication workflow\n",
    "    \"\"\"\n",
    "    t1 = add(in1, in2)\n",
    "    t2 = sub(in1, in2)\n",
    "    t3 = mul(weird(t1, in3), t2)\n",
    "    return t3"
   ]
  },
  {
   "cell_type": "markdown",
   "id": "unavailable-wonder",
   "metadata": {},
   "source": [
    "## Create an instance of your workflow and display it"
   ]
  },
  {
   "cell_type": "code",
   "execution_count": 7,
   "id": "medium-compression",
   "metadata": {},
   "outputs": [
    {
     "data": {
      "text/plain": [
       "fairworkflows.fairworkflow.FairWorkflow"
      ]
     },
     "execution_count": 7,
     "metadata": {},
     "output_type": "execute_result"
    }
   ],
   "source": [
    "fw = my_workflow(1, 4, 3)\n",
    "type(fw)"
   ]
  },
  {
   "cell_type": "code",
   "execution_count": 8,
   "id": "alpha-signal",
   "metadata": {},
   "outputs": [
    {
     "data": {
      "text/markdown": [
       "| workflow |\n",
       "| --- |\n",
       "| ![workflow workflow](control-workflow.svg) |"
      ],
      "text/plain": [
       "<IPython.core.display.Markdown object>"
      ]
     },
     "metadata": {},
     "output_type": "display_data"
    }
   ],
   "source": [
    "fw.display()"
   ]
  },
  {
   "cell_type": "markdown",
   "id": "crazy-essex",
   "metadata": {},
   "source": [
    "## Publish the (prospective) workflow\n",
    "You may publish the workflow, and its steps, as nanopublications in the usual manner:"
   ]
  },
  {
   "cell_type": "code",
   "execution_count": 9,
   "id": "coupled-mercy",
   "metadata": {},
   "outputs": [],
   "source": [
    "#fw.publish_as_nanopub()"
   ]
  },
  {
   "cell_type": "markdown",
   "id": "charitable-authority",
   "metadata": {},
   "source": [
    "Be warned though - the above will keep publishing to the 'real' nanopub server network. For testing you may prefer to publish to the test servers as follows (note that this will refuse to publish a workflow you have already published :"
   ]
  },
  {
   "cell_type": "code",
   "execution_count": 9,
   "id": "discrete-generic",
   "metadata": {},
   "outputs": [
    {
     "ename": "RuntimeError",
     "evalue": "Step URI = http://www.example.org/unpublished-sub\n@prefix bpmn: <http://dkm.fbk.eu/index.php/BPMN2_Ontology#> .\n@prefix ns1: <http://purl.org/dc/terms/> .\n@prefix pplan: <http://purl.org/net/p-plan#> .\n@prefix rdfs: <http://www.w3.org/2000/01/rdf-schema#> .\n\n_:Nd257b016a1034ab2b04801deba4345d4 {\n    [] a bpmn:ScriptTask,\n            pplan:Step ;\n        rdfs:label \"Subtraction\" ;\n        ns1:description \"\"\"@is_fairstep(label='Subtraction')\ndef sub(a: float, b: float) -> float:\n    \\\"\\\"\\\"Subtracting numbers.\\\"\\\"\\\"\n    return a - b\n\"\"\" ;\n        pplan:hasInputVar [ a pplan:Variable ;\n                rdfs:label \"a\" ;\n                rdfs:comment \"float\" ],\n            [ a pplan:Variable ;\n                rdfs:label \"b\" ;\n                rdfs:comment \"float\" ] ;\n        pplan:hasOutputVar [ a pplan:Variable ;\n                rdfs:label \"out1\" ;\n                rdfs:comment \"float\" ] .\n}\n\n was not published yet, please publish steps first",
     "output_type": "error",
     "traceback": [
      "\u001b[0;31m---------------------------------------------------------------------------\u001b[0m",
      "\u001b[0;31mRuntimeError\u001b[0m                              Traceback (most recent call last)",
      "\u001b[0;32m<ipython-input-9-b3b8b6da567d>\u001b[0m in \u001b[0;36m<module>\u001b[0;34m\u001b[0m\n\u001b[0;32m----> 1\u001b[0;31m \u001b[0mfw\u001b[0m\u001b[0;34m.\u001b[0m\u001b[0mpublish_as_nanopub\u001b[0m\u001b[0;34m(\u001b[0m\u001b[0muse_test_server\u001b[0m\u001b[0;34m=\u001b[0m\u001b[0;32mTrue\u001b[0m\u001b[0;34m)\u001b[0m\u001b[0;34m\u001b[0m\u001b[0;34m\u001b[0m\u001b[0m\n\u001b[0m",
      "\u001b[0;32m~/miniconda3/envs/fairworkflows/lib/python3.8/site-packages/fairworkflows/fairworkflow.py\u001b[0m in \u001b[0;36mpublish_as_nanopub\u001b[0;34m(self, use_test_server, **kwargs)\u001b[0m\n\u001b[1;32m    477\u001b[0m             \u001b[0;32mif\u001b[0m \u001b[0mstep\u001b[0m\u001b[0;34m.\u001b[0m\u001b[0mis_modified\u001b[0m \u001b[0;32mor\u001b[0m \u001b[0;32mnot\u001b[0m \u001b[0mstep\u001b[0m\u001b[0;34m.\u001b[0m\u001b[0m_is_published\u001b[0m\u001b[0;34m:\u001b[0m\u001b[0;34m\u001b[0m\u001b[0;34m\u001b[0m\u001b[0m\n\u001b[1;32m    478\u001b[0m                 \u001b[0mself\u001b[0m\u001b[0;34m.\u001b[0m\u001b[0m_is_modified\u001b[0m \u001b[0;34m=\u001b[0m \u001b[0;32mTrue\u001b[0m  \u001b[0;31m# If one of the steps is modified the workflow is too.\u001b[0m\u001b[0;34m\u001b[0m\u001b[0;34m\u001b[0m\u001b[0m\n\u001b[0;32m--> 479\u001b[0;31m                 \u001b[0;32mraise\u001b[0m \u001b[0mRuntimeError\u001b[0m\u001b[0;34m(\u001b[0m\u001b[0;34mf'{step} was not published yet, please publish steps first'\u001b[0m\u001b[0;34m)\u001b[0m\u001b[0;34m\u001b[0m\u001b[0;34m\u001b[0m\u001b[0m\n\u001b[0m\u001b[1;32m    480\u001b[0m \u001b[0;34m\u001b[0m\u001b[0m\n\u001b[1;32m    481\u001b[0m         \u001b[0;32mreturn\u001b[0m \u001b[0mself\u001b[0m\u001b[0;34m.\u001b[0m\u001b[0m_publish_as_nanopub\u001b[0m\u001b[0;34m(\u001b[0m\u001b[0muse_test_server\u001b[0m\u001b[0;34m=\u001b[0m\u001b[0muse_test_server\u001b[0m\u001b[0;34m,\u001b[0m \u001b[0;34m**\u001b[0m\u001b[0mkwargs\u001b[0m\u001b[0;34m)\u001b[0m\u001b[0;34m\u001b[0m\u001b[0;34m\u001b[0m\u001b[0m\n",
      "\u001b[0;31mRuntimeError\u001b[0m: Step URI = http://www.example.org/unpublished-sub\n@prefix bpmn: <http://dkm.fbk.eu/index.php/BPMN2_Ontology#> .\n@prefix ns1: <http://purl.org/dc/terms/> .\n@prefix pplan: <http://purl.org/net/p-plan#> .\n@prefix rdfs: <http://www.w3.org/2000/01/rdf-schema#> .\n\n_:Nd257b016a1034ab2b04801deba4345d4 {\n    [] a bpmn:ScriptTask,\n            pplan:Step ;\n        rdfs:label \"Subtraction\" ;\n        ns1:description \"\"\"@is_fairstep(label='Subtraction')\ndef sub(a: float, b: float) -> float:\n    \\\"\\\"\\\"Subtracting numbers.\\\"\\\"\\\"\n    return a - b\n\"\"\" ;\n        pplan:hasInputVar [ a pplan:Variable ;\n                rdfs:label \"a\" ;\n                rdfs:comment \"float\" ],\n            [ a pplan:Variable ;\n                rdfs:label \"b\" ;\n                rdfs:comment \"float\" ] ;\n        pplan:hasOutputVar [ a pplan:Variable ;\n                rdfs:label \"out1\" ;\n                rdfs:comment \"float\" ] .\n}\n\n was not published yet, please publish steps first"
     ]
    }
   ],
   "source": [
    "fw.publish_as_nanopub(use_test_server=True)"
   ]
  },
  {
   "cell_type": "markdown",
   "id": "suited-douglas",
   "metadata": {},
   "source": [
    "You can then find your nanopublications by replacing the base of the URI with http://test-server.nanopubs.lod.labs.vu.nl/"
   ]
  },
  {
   "cell_type": "markdown",
   "id": "competent-masters",
   "metadata": {},
   "source": [
    "## Execute your workflow using .execute()\n",
    "Set num_threads greater than 1 if you wish to exploit parallelisation in your workflow. The retrospective provenance is also returned as a (nano) Publication object, that can optionally be published."
   ]
  },
  {
   "cell_type": "code",
   "execution_count": 9,
   "id": "constant-cursor",
   "metadata": {},
   "outputs": [
    {
     "data": {
      "text/plain": [
       "-66"
      ]
     },
     "execution_count": 9,
     "metadata": {},
     "output_type": "execute_result"
    }
   ],
   "source": [
    "result, prov = fw.execute(num_threads=2)\n",
    "result"
   ]
  },
  {
   "cell_type": "markdown",
   "id": "superb-madonna",
   "metadata": {},
   "source": [
    " ## Retrospective prov\n",
    " The retrospective prov object is not yet implemented, pending one of the RDF tasks set out in the planning document. For now, you may see simply the provenance trace for this run. We wish to turn this into a (Plex) RDF nanopublication:"
   ]
  },
  {
   "cell_type": "code",
   "execution_count": 10,
   "id": "phantom-lawyer",
   "metadata": {},
   "outputs": [
    {
     "data": {
      "text/plain": [
       "nanopub.publication.Publication"
      ]
     },
     "execution_count": 10,
     "metadata": {},
     "output_type": "execute_result"
    }
   ],
   "source": [
    "type(prov)"
   ]
  },
  {
   "cell_type": "code",
   "execution_count": 11,
   "id": "acting-majority",
   "metadata": {},
   "outputs": [
    {
     "name": "stdout",
     "output_type": "stream",
     "text": [
      "Original source URI = None\n",
      "@prefix : <http://purl.org/nanopub/temp/mynanopub#> .\n",
      "@prefix np: <http://www.nanopub.org/nschema#> .\n",
      "@prefix prov: <http://www.w3.org/ns/prov#> .\n",
      "@prefix rdfs: <http://www.w3.org/2000/01/rdf-schema#> .\n",
      "@prefix xsd: <http://www.w3.org/2001/XMLSchema#> .\n",
      "\n",
      ":provenance {\n",
      "    :assertion prov:generatedAtTime \"2021-02-02T16:00:09.710806\"^^xsd:dateTime .\n",
      "}\n",
      "\n",
      ":pubInfo {\n",
      "    : prov:generatedAtTime \"2021-02-02T16:00:09.710806\"^^xsd:dateTime ;\n",
      "        prov:wasAttributedTo <https://orcid.org/0000-0000-0000-0000> .\n",
      "}\n",
      "\n",
      ":Head {\n",
      "    : a np:Nanopublication ;\n",
      "        np:hasAssertion :assertion ;\n",
      "        np:hasProvenance :provenance ;\n",
      "        np:hasPublicationInfo :pubInfo .\n",
      "}\n",
      "\n",
      ":assertion {\n",
      "    :retroprov a prov:Activity ;\n",
      "        rdfs:label \"\"\"2021-02-02 16:00:09,704 - job             1: add(1, 4)\n",
      "2021-02-02 16:00:09,704 - job             2: sub(1, 4)\n",
      "2021-02-02 16:00:09,705 - result          1 [add(1, 4)]: done -> 5\n",
      "2021-02-02 16:00:09,705 - job             3: weird(5, 3)\n",
      "2021-02-02 16:00:09,706 - result          2 [sub(1, 4)]: done -> -3\n",
      "2021-02-02 16:00:09,706 - result          3 [weird(5, 3)]: done -> 22\n",
      "2021-02-02 16:00:09,706 - job             4: mul(22, -3)\n",
      "2021-02-02 16:00:09,707 - result          4 [mul(22, -3)]: done -> -66\n",
      "2021-02-02 16:00:09,707 - -end-of-queue-\n",
      "\"\"\" ;\n",
      "        prov:wasDerivedFrom <http://www.example.org/unpublishedworkflow> .\n",
      "}\n",
      "\n",
      "\n"
     ]
    }
   ],
   "source": [
    "print(prov)"
   ]
  },
  {
   "cell_type": "markdown",
   "id": "handed-hampton",
   "metadata": {},
   "source": [
    "### Provide semantic annotations for input and output variables\n",
    "If you wish to specify semantic types for the inputs/outputs to a step, you can do so in the arguments to the decorator.\n",
    "For example, if you have an input parameter 'a', you can write a='http://www.example.org/distance' to assign that (semantic) type to a. As output of functions is not named in python, you can specify the same but with 'out1', 'out2' etc. See the following example:"
   ]
  },
  {
   "cell_type": "code",
   "execution_count": 2,
   "id": "after-telephone",
   "metadata": {},
   "outputs": [],
   "source": [
    "@is_fairstep(label='Addition', a='http://www.example.org/distance', out='http://www.example.org/mass')\n",
    "def add(a:float, b:float) -> float:\n",
    "    return a + b"
   ]
  },
  {
   "cell_type": "markdown",
   "id": "surrounded-gateway",
   "metadata": {},
   "source": [
    "If we now look at the RDF generated for the step, we will see that input parameter 'a' and the step output ('out1') both have the (additional) semantic types specified."
   ]
  },
  {
   "cell_type": "code",
   "execution_count": 3,
   "id": "alternate-integral",
   "metadata": {},
   "outputs": [
    {
     "name": "stdout",
     "output_type": "stream",
     "text": [
      "Step URI = http://www.example.org/unpublished-add\n",
      "@prefix bpmn: <http://dkm.fbk.eu/index.php/BPMN2_Ontology#> .\n",
      "@prefix ns1: <http://purl.org/dc/terms/> .\n",
      "@prefix pplan: <http://purl.org/net/p-plan#> .\n",
      "@prefix rdfs: <http://www.w3.org/2000/01/rdf-schema#> .\n",
      "\n",
      "_:Nda081d4e75bc47f0a65dc6134c6ca5e0 {\n",
      "    [] a bpmn:ScriptTask,\n",
      "            pplan:Step ;\n",
      "        rdfs:label \"Addition\" ;\n",
      "        ns1:description \"\"\"@is_fairstep(label='Addition', a='http://www.example.org/distance', out='http://www.example.org/mass')\n",
      "def add(a:float, b:float) -> float:\n",
      "    return a + b\n",
      "\"\"\" ;\n",
      "        pplan:hasInputVar [ a pplan:Variable,\n",
      "                    <http://www.example.org/distance> ;\n",
      "                rdfs:label \"a\" ;\n",
      "                rdfs:comment \"float\" ],\n",
      "            [ a pplan:Variable ;\n",
      "                rdfs:label \"b\" ;\n",
      "                rdfs:comment \"float\" ] ;\n",
      "        pplan:hasOutputVar [ a pplan:Variable,\n",
      "                    <http://www.example.org/mass> ;\n",
      "                rdfs:label \"out1\" ;\n",
      "                rdfs:comment \"float\" ] .\n",
      "}\n",
      "\n",
      "\n"
     ]
    }
   ],
   "source": [
    "# ACTIONS:\n",
    "# Add language and version to nanopubs (i.e. what the description is written in)\n",
    "print(add._fairstep)"
   ]
  },
  {
   "cell_type": "markdown",
   "id": "studied-olive",
   "metadata": {},
   "source": [
    "### Specify more than one semantic type for a parameter\n",
    "You can provide a list of URIs if you want to specify several semantic types for e.g. parameter 'a':"
   ]
  },
  {
   "cell_type": "code",
   "execution_count": 6,
   "id": "moral-recycling",
   "metadata": {},
   "outputs": [],
   "source": [
    "@is_fairstep(label='Addition', a=['http://www.example.org/distance', 'http://www.example.org/number'])\n",
    "def another_step(a:float, b:float) -> float:\n",
    "    return a + b"
   ]
  },
  {
   "cell_type": "code",
   "execution_count": 7,
   "id": "interpreted-welsh",
   "metadata": {},
   "outputs": [
    {
     "name": "stdout",
     "output_type": "stream",
     "text": [
      "Step URI = http://www.example.org/unpublished-another_step\n",
      "@prefix bpmn: <http://dkm.fbk.eu/index.php/BPMN2_Ontology#> .\n",
      "@prefix ns1: <http://purl.org/dc/terms/> .\n",
      "@prefix pplan: <http://purl.org/net/p-plan#> .\n",
      "@prefix rdfs: <http://www.w3.org/2000/01/rdf-schema#> .\n",
      "\n",
      "_:N94e43cf479454578b20e9b3b1efd89ca {\n",
      "    [] a bpmn:ScriptTask,\n",
      "            pplan:Step ;\n",
      "        rdfs:label \"Addition\" ;\n",
      "        ns1:description \"\"\"@is_fairstep(label='Addition', a=['http://www.example.org/distance', 'http://www.example.org/number'])\n",
      "def another_step(a:float, b:float) -> float:\n",
      "    return a + b\n",
      "\"\"\" ;\n",
      "        pplan:hasInputVar [ a pplan:Variable,\n",
      "                    <http://www.example.org/distance>,\n",
      "                    <http://www.example.org/number> ;\n",
      "                rdfs:label \"a\" ;\n",
      "                rdfs:comment \"float\" ],\n",
      "            [ a pplan:Variable ;\n",
      "                rdfs:label \"b\" ;\n",
      "                rdfs:comment \"float\" ] ;\n",
      "        pplan:hasOutputVar [ a pplan:Variable ;\n",
      "                rdfs:label \"out1\" ;\n",
      "                rdfs:comment \"float\" ] .\n",
      "}\n",
      "\n",
      "\n"
     ]
    }
   ],
   "source": [
    "print(another_step._fairstep)"
   ]
  },
  {
   "cell_type": "markdown",
   "id": "linear-shape",
   "metadata": {},
   "source": [
    "## Semantic types for function producing multiple outputs\n",
    "Provide 'out' with a tuple of the same length as the number of function outputs. You can use None for any you do not wish to assign a particular semantic type to."
   ]
  },
  {
   "cell_type": "code",
   "execution_count": 21,
   "id": "colored-press",
   "metadata": {},
   "outputs": [],
   "source": [
    "from typing import Tuple\n",
    "@is_fairstep(label='Addition and subtraction', out=('http://www.example.org/distance', 'http://www.example.org/number'))\n",
    "def another_step(a:float, b:float) -> Tuple[float, float]:\n",
    "    return a + b, a - b"
   ]
  },
  {
   "cell_type": "code",
   "execution_count": 22,
   "id": "wireless-strain",
   "metadata": {},
   "outputs": [
    {
     "name": "stdout",
     "output_type": "stream",
     "text": [
      "Step URI = http://www.example.org/unpublished-another_step\n",
      "@prefix bpmn: <http://dkm.fbk.eu/index.php/BPMN2_Ontology#> .\n",
      "@prefix ns1: <http://purl.org/dc/terms/> .\n",
      "@prefix pplan: <http://purl.org/net/p-plan#> .\n",
      "@prefix rdfs: <http://www.w3.org/2000/01/rdf-schema#> .\n",
      "\n",
      "_:N76da670c50274f7a9b2de753ed4b0373 {\n",
      "    [] a bpmn:ScriptTask,\n",
      "            pplan:Step ;\n",
      "        rdfs:label \"Addition and subtraction\" ;\n",
      "        ns1:description \"\"\"@is_fairstep(label='Addition and subtraction', out=('http://www.example.org/distance', 'http://www.example.org/number'))\n",
      "def another_step(a:float, b:float) -> Tuple[float, float]:\n",
      "    return a + b, a - b\n",
      "\"\"\" ;\n",
      "        pplan:hasInputVar [ a pplan:Variable ;\n",
      "                rdfs:label \"a\" ;\n",
      "                rdfs:comment \"float\" ],\n",
      "            [ a pplan:Variable ;\n",
      "                rdfs:label \"b\" ;\n",
      "                rdfs:comment \"float\" ] ;\n",
      "        pplan:hasOutputVar [ a pplan:Variable,\n",
      "                    <http://www.example.org/distance> ;\n",
      "                rdfs:label \"out1\" ;\n",
      "                rdfs:comment \"float\" ],\n",
      "            [ a pplan:Variable,\n",
      "                    <http://www.example.org/number> ;\n",
      "                rdfs:label \"out2\" ;\n",
      "                rdfs:comment \"float\" ] .\n",
      "}\n",
      "\n",
      "\n"
     ]
    }
   ],
   "source": [
    "print(another_step._fairstep)"
   ]
  },
  {
   "cell_type": "code",
   "execution_count": null,
   "id": "micro-commons",
   "metadata": {},
   "outputs": [],
   "source": []
  }
 ],
 "metadata": {
  "kernelspec": {
   "display_name": "Python 3",
   "language": "python",
   "name": "python3"
  },
  "language_info": {
   "codemirror_mode": {
    "name": "ipython",
    "version": 3
   },
   "file_extension": ".py",
   "mimetype": "text/x-python",
   "name": "python",
   "nbconvert_exporter": "python",
   "pygments_lexer": "ipython3",
   "version": "3.8.6"
  }
 },
 "nbformat": 4,
 "nbformat_minor": 5
}
