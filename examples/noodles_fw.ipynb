{
 "cells": [
  {
   "cell_type": "markdown",
   "id": "packed-ancient",
   "metadata": {},
   "source": [
    "# FairWorkflows execution demo"
   ]
  },
  {
   "cell_type": "markdown",
   "id": "pretty-extraction",
   "metadata": {},
   "source": [
    "## Define the steps of your workflow\n",
    "Each step should be its own function. Mark the function as such with the @fairstep decorator."
   ]
  },
  {
   "cell_type": "code",
   "execution_count": 18,
   "id": "successful-damage",
   "metadata": {},
   "outputs": [],
   "source": [
    "from fairworkflows import is_fairworkflow, is_fairstep, FairStep, FairWorkflow"
   ]
  },
  {
   "cell_type": "code",
   "execution_count": 19,
   "id": "pretty-timeline",
   "metadata": {},
   "outputs": [],
   "source": [
    "@is_fairstep(label='Addition')\n",
    "def add(a:float, b:float) -> float:\n",
    "    \"\"\"Adding up numbers!\"\"\"\n",
    "    return a + b"
   ]
  },
  {
   "cell_type": "code",
   "execution_count": 20,
   "id": "abandoned-communist",
   "metadata": {},
   "outputs": [],
   "source": [
    "@is_fairstep(label='Subtraction')\n",
    "def sub(a: float, b: float) -> float:\n",
    "    \"\"\"Subtracting numbers.\"\"\"\n",
    "    return a - b"
   ]
  },
  {
   "cell_type": "code",
   "execution_count": 21,
   "id": "flying-digit",
   "metadata": {},
   "outputs": [],
   "source": [
    "@is_fairstep(label='Multiplication')\n",
    "def mul(a: float, b: float) -> float:\n",
    "    \"\"\"Multiplying numbers.\"\"\"\n",
    "    return a * b"
   ]
  },
  {
   "cell_type": "code",
   "execution_count": 22,
   "id": "hourly-truth",
   "metadata": {},
   "outputs": [],
   "source": [
    "@is_fairstep(label='A strange step with little use')\n",
    "def weird(a: float, b:float) -> float:\n",
    "    \"\"\"A weird function\"\"\"\n",
    "    return a * 2 + b * 4\n",
    "    "
   ]
  },
  {
   "cell_type": "markdown",
   "id": "institutional-average",
   "metadata": {},
   "source": [
    "## Define your workflow using @fairworkflow\n",
    "Now write a function which describes your workflow. Mark this function with the @fairworkflow decorator."
   ]
  },
  {
   "cell_type": "code",
   "execution_count": 23,
   "id": "present-nowhere",
   "metadata": {},
   "outputs": [],
   "source": [
    "@is_fairworkflow(label='My Workflow')\n",
    "def my_workflow(in1, in2, in3):\n",
    "    \"\"\"\n",
    "    A simple addition, subtraction, multiplication workflow\n",
    "    \"\"\"\n",
    "    t1 = add(in1, in2)\n",
    "    t2 = sub(in1, in2)\n",
    "    t3 = mul(weird(t1, in3), t2)\n",
    "    return t3"
   ]
  },
  {
   "cell_type": "markdown",
   "id": "heated-disco",
   "metadata": {},
   "source": [
    "## Create an instance of your workflow and display it"
   ]
  },
  {
   "cell_type": "code",
   "execution_count": 24,
   "id": "fiscal-being",
   "metadata": {},
   "outputs": [
    {
     "data": {
      "text/plain": [
       "fairworkflows.fairworkflow.FairWorkflow"
      ]
     },
     "execution_count": 24,
     "metadata": {},
     "output_type": "execute_result"
    }
   ],
   "source": [
    "fw = FairWorkflow.from_function(my_workflow)\n",
    "type(fw)"
   ]
  },
  {
   "cell_type": "code",
   "execution_count": 8,
   "id": "dependent-hindu",
   "metadata": {},
   "outputs": [
    {
     "data": {
      "image/svg+xml": [
       "<svg height=\"218pt\" viewBox=\"0.00 0.00 141.55 218.00\" width=\"142pt\" xmlns=\"http://www.w3.org/2000/svg\" xmlns:xlink=\"http://www.w3.org/1999/xlink\">\n",
       "<g class=\"graph\" id=\"graph0\" transform=\"scale(1 1) rotate(0) translate(4 214)\">\n",
       "<!-- 140398481096784 -->\n",
       "<g class=\"node\" id=\"node1\">\n",
       "<title>140398481096784</title>\n",
       "<ellipse cx=\"68.55\" cy=\"-18\" fill=\"none\" rx=\"27\" ry=\"18\" stroke=\"black\"/>\n",
       "<text font-family=\"Times,serif\" font-size=\"14.00\" text-anchor=\"middle\" x=\"68.55\" y=\"-14.3\">mul</text>\n",
       "</g>\n",
       "<!-- 140398498145360 -->\n",
       "<g class=\"node\" id=\"node2\">\n",
       "<title>140398498145360</title>\n",
       "<ellipse cx=\"30.55\" cy=\"-105\" fill=\"none\" rx=\"30.59\" ry=\"18\" stroke=\"black\"/>\n",
       "<text font-family=\"Times,serif\" font-size=\"14.00\" text-anchor=\"middle\" x=\"30.55\" y=\"-101.3\">weird</text>\n",
       "</g>\n",
       "<!-- 140398498145360&#45;&gt;140398481096784 -->\n",
       "<g class=\"edge\" id=\"edge1\">\n",
       "<title>140398498145360-&gt;140398481096784</title>\n",
       "<path d=\"M38.05,-87.21C43.45,-75.14 50.83,-58.64 56.97,-44.89\" fill=\"none\" stroke=\"black\"/>\n",
       "<polygon fill=\"black\" points=\"60.3,-46.03 61.18,-35.47 53.91,-43.17 60.3,-46.03\" stroke=\"black\"/>\n",
       "<text font-family=\"Times,serif\" font-size=\"14.00\" text-anchor=\"middle\" x=\"56.05\" y=\"-57.8\">a</text>\n",
       "</g>\n",
       "<!-- 140398498035984 -->\n",
       "<g class=\"node\" id=\"node3\">\n",
       "<title>140398498035984</title>\n",
       "<ellipse cx=\"30.55\" cy=\"-192\" fill=\"none\" rx=\"27\" ry=\"18\" stroke=\"black\"/>\n",
       "<text font-family=\"Times,serif\" font-size=\"14.00\" text-anchor=\"middle\" x=\"30.55\" y=\"-188.3\">add</text>\n",
       "</g>\n",
       "<!-- 140398498035984&#45;&gt;140398498145360 -->\n",
       "<g class=\"edge\" id=\"edge2\">\n",
       "<title>140398498035984-&gt;140398498145360</title>\n",
       "<path d=\"M30.55,-173.8C30.55,-162.16 30.55,-146.55 30.55,-133.24\" fill=\"none\" stroke=\"black\"/>\n",
       "<polygon fill=\"black\" points=\"34.05,-133.18 30.55,-123.18 27.05,-133.18 34.05,-133.18\" stroke=\"black\"/>\n",
       "<text font-family=\"Times,serif\" font-size=\"14.00\" text-anchor=\"middle\" x=\"34.05\" y=\"-144.8\">a</text>\n",
       "</g>\n",
       "<!-- 140398498036240 -->\n",
       "<g class=\"node\" id=\"node4\">\n",
       "<title>140398498036240</title>\n",
       "<ellipse cx=\"106.55\" cy=\"-105\" fill=\"none\" rx=\"27\" ry=\"18\" stroke=\"black\"/>\n",
       "<text font-family=\"Times,serif\" font-size=\"14.00\" text-anchor=\"middle\" x=\"106.55\" y=\"-101.3\">sub</text>\n",
       "</g>\n",
       "<!-- 140398498036240&#45;&gt;140398481096784 -->\n",
       "<g class=\"edge\" id=\"edge3\">\n",
       "<title>140398498036240-&gt;140398481096784</title>\n",
       "<path d=\"M99.22,-87.61C93.81,-75.5 86.33,-58.77 80.11,-44.86\" fill=\"none\" stroke=\"black\"/>\n",
       "<polygon fill=\"black\" points=\"83.13,-43.04 75.85,-35.34 76.74,-45.9 83.13,-43.04\" stroke=\"black\"/>\n",
       "<text font-family=\"Times,serif\" font-size=\"14.00\" text-anchor=\"middle\" x=\"93.05\" y=\"-57.8\">b</text>\n",
       "</g>\n",
       "</g>\n",
       "</svg>"
      ],
      "text/plain": [
       "<IPython.core.display.SVG object>"
      ]
     },
     "metadata": {},
     "output_type": "display_data"
    }
   ],
   "source": [
    "fw.display()"
   ]
  },
  {
   "cell_type": "code",
   "execution_count": 9,
   "id": "instrumental-carbon",
   "metadata": {},
   "outputs": [
    {
     "data": {
      "image/svg+xml": [
       "<?xml version=\"1.0\" encoding=\"UTF-8\" standalone=\"no\"?>\n",
       "<!DOCTYPE svg PUBLIC \"-//W3C//DTD SVG 1.1//EN\"\n",
       " \"http://www.w3.org/Graphics/SVG/1.1/DTD/svg11.dtd\">\n",
       "<!-- Generated by graphviz version 2.44.1 (20200629.0846)\n",
       " -->\n",
       "<!-- Pages: 1 -->\n",
       "<svg width=\"1898pt\" height=\"565pt\"\n",
       " viewBox=\"0.00 0.00 1898.00 565.00\" xmlns=\"http://www.w3.org/2000/svg\" xmlns:xlink=\"http://www.w3.org/1999/xlink\">\n",
       "<g id=\"graph0\" class=\"graph\" transform=\"scale(1 1) rotate(0) translate(4 561)\">\n",
       "<polygon fill=\"white\" stroke=\"transparent\" points=\"-4,4 -4,-561 1894,-561 1894,4 -4,4\"/>\n",
       "<!-- node1 -->\n",
       "<g id=\"node1\" class=\"node\">\n",
       "<title>node1</title>\n",
       "<polygon fill=\"grey\" stroke=\"transparent\" points=\"9.5,-247.5 9.5,-266.5 1392.5,-266.5 1392.5,-247.5 9.5,-247.5\"/>\n",
       "<text text-anchor=\"start\" x=\"658.5\" y=\"-254.3\" font-family=\"DejaVu Sans\" font-weight=\"bold\" font-size=\"14.00\">My Workflow</text>\n",
       "<g id=\"a_node1_0\"><a xlink:href=\"plan\" xlink:title=\"&lt;TABLE&gt;\">\n",
       "<polygon fill=\"#eeeeee\" stroke=\"transparent\" points=\"9.5,-232.5 9.5,-247.5 1392.5,-247.5 1392.5,-232.5 9.5,-232.5\"/>\n",
       "<text text-anchor=\"start\" x=\"691.5\" y=\"-237.5\" font-family=\"DejaVu Sans\" font-size=\"10.00\" fill=\"#6666ff\">plan</text>\n",
       "</a>\n",
       "</g>\n",
       "<text text-anchor=\"start\" x=\"11.5\" y=\"-219.3\" font-family=\"DejaVu Sans\" font-size=\"14.00\">dc:description</text>\n",
       "<text text-anchor=\"start\" x=\"99.5\" y=\"-219.3\" font-family=\"DejaVu Sans\" font-size=\"14.00\">&quot;@is_fairworkflow(label=&#39;My Workflow&#39;)def my_workflow(in1, in2, in3): &#160;&#160;&#160;&quot;&quot;&quot; &#160;&#160;&#160;A simple addition, subtraction, multiplication workflow &#160;&#160;&#160;&quot;&quot;&quot; &#160;&#160;&#160;t1 = add(in1, in2) &#160;&#160;&#160;t2 = sub(in1, in2) &#160;&#160;&#160;t3 = mul(weird(t1, in3), t2) &#160;&#160;&#160;return t3&quot;</text>\n",
       "<polygon fill=\"none\" stroke=\"#666666\" points=\"8,-213 8,-268 1393,-268 1393,-213 8,-213\"/>\n",
       "</g>\n",
       "<!-- node2 -->\n",
       "<g id=\"node2\" class=\"node\">\n",
       "<title>node2</title>\n",
       "<polygon fill=\"grey\" stroke=\"transparent\" points=\"602.5,-124.5 602.5,-143.5 735.5,-143.5 735.5,-124.5 602.5,-124.5\"/>\n",
       "<text text-anchor=\"start\" x=\"654.5\" y=\"-131.3\" font-family=\"DejaVu Sans\" font-weight=\"bold\" font-size=\"14.00\">Plan</text>\n",
       "<g id=\"a_node2_1\"><a xlink:href=\"http://purl.org/net/p-plan#Plan\" xlink:title=\"&lt;TABLE&gt;\">\n",
       "<polygon fill=\"#eeeeee\" stroke=\"transparent\" points=\"602.5,-109.5 602.5,-124.5 735.5,-124.5 735.5,-109.5 602.5,-109.5\"/>\n",
       "<text text-anchor=\"start\" x=\"604.5\" y=\"-114.5\" font-family=\"DejaVu Sans\" font-size=\"10.00\" fill=\"#6666ff\">http://purl.org/net/p&#45;plan#Plan</text>\n",
       "</a>\n",
       "</g>\n",
       "<polygon fill=\"none\" stroke=\"#666666\" points=\"601,-108.5 601,-144.5 736,-144.5 736,-108.5 601,-108.5\"/>\n",
       "</g>\n",
       "<!-- node1&#45;&gt;node2 -->\n",
       "<g id=\"edge1\" class=\"edge\">\n",
       "<title>node1&#45;&gt;node2</title>\n",
       "<path fill=\"none\" stroke=\"BLACK\" d=\"M691.76,-208.9C687.26,-193.17 681.8,-174.05 677.3,-158.3\"/>\n",
       "<polygon fill=\"BLACK\" stroke=\"BLACK\" points=\"680.61,-157.15 674.5,-148.5 673.88,-159.08 680.61,-157.15\"/>\n",
       "<text text-anchor=\"start\" x=\"686.5\" y=\"-180.8\" font-family=\"Times,serif\" font-size=\"14.00\"> </text>\n",
       "<text text-anchor=\"start\" x=\"690.5\" y=\"-180.8\" font-family=\"Times,serif\" font-size=\"10.00\" fill=\"#336633\">rdf:type</text>\n",
       "<text text-anchor=\"start\" x=\"723.5\" y=\"-180.8\" font-family=\"Times,serif\" font-size=\"14.00\"> </text>\n",
       "</g>\n",
       "<!-- node0 -->\n",
       "<g id=\"node5\" class=\"node\">\n",
       "<title>node0</title>\n",
       "<polygon fill=\"grey\" stroke=\"transparent\" points=\"771.5,-133.5 771.5,-152.5 951.5,-152.5 951.5,-133.5 771.5,-133.5\"/>\n",
       "<text text-anchor=\"start\" x=\"838.5\" y=\"-140.3\" font-family=\"DejaVu Sans\" font-weight=\"bold\" font-size=\"14.00\">python</text>\n",
       "<g id=\"a_node5_2\"><a xlink:href=\"LinguisticSystem\" xlink:title=\"&lt;TABLE&gt;\">\n",
       "<polygon fill=\"#eeeeee\" stroke=\"transparent\" points=\"771.5,-118.5 771.5,-133.5 951.5,-133.5 951.5,-118.5 771.5,-118.5\"/>\n",
       "<text text-anchor=\"start\" x=\"823.5\" y=\"-123.5\" font-family=\"DejaVu Sans\" font-size=\"10.00\" fill=\"#6666ff\">LinguisticSystem</text>\n",
       "</a>\n",
       "</g>\n",
       "<text text-anchor=\"start\" x=\"773.5\" y=\"-105.3\" font-family=\"DejaVu Sans\" font-size=\"14.00\">owl:versionInfo</text>\n",
       "<text text-anchor=\"start\" x=\"868.5\" y=\"-105.3\" font-family=\"DejaVu Sans\" font-size=\"14.00\">&quot;3.7.9.final.0&quot;</text>\n",
       "<polygon fill=\"none\" stroke=\"#666666\" points=\"770.5,-99 770.5,-154 952.5,-154 952.5,-99 770.5,-99\"/>\n",
       "</g>\n",
       "<!-- node1&#45;&gt;node0 -->\n",
       "<g id=\"edge8\" class=\"edge\">\n",
       "<title>node1&#45;&gt;node0</title>\n",
       "<path fill=\"none\" stroke=\"BLACK\" d=\"M744.49,-208.9C764.46,-195.01 788.23,-178.47 809.11,-163.95\"/>\n",
       "<polygon fill=\"BLACK\" stroke=\"BLACK\" points=\"811.35,-166.65 817.56,-158.07 807.35,-160.91 811.35,-166.65\"/>\n",
       "<text text-anchor=\"start\" x=\"791.5\" y=\"-180.8\" font-family=\"Times,serif\" font-size=\"14.00\"> </text>\n",
       "<text text-anchor=\"start\" x=\"795.5\" y=\"-180.8\" font-family=\"Times,serif\" font-size=\"10.00\" fill=\"#336633\">dc:language</text>\n",
       "<text text-anchor=\"start\" x=\"846.5\" y=\"-180.8\" font-family=\"Times,serif\" font-size=\"14.00\"> </text>\n",
       "</g>\n",
       "<!-- node3 -->\n",
       "<g id=\"node3\" class=\"node\">\n",
       "<title>node3</title>\n",
       "<polygon fill=\"grey\" stroke=\"transparent\" points=\"373.5,-438 373.5,-457 554.5,-457 554.5,-438 373.5,-438\"/>\n",
       "<text text-anchor=\"start\" x=\"409.5\" y=\"-444.8\" font-family=\"DejaVu Sans\" font-weight=\"bold\" font-size=\"14.00\">unpublished&#45;sub</text>\n",
       "<g id=\"a_node3_3\"><a xlink:href=\"http://www.example.org/unpublished-sub\" xlink:title=\"&lt;TABLE&gt;\">\n",
       "<polygon fill=\"#eeeeee\" stroke=\"transparent\" points=\"373.5,-423 373.5,-438 554.5,-438 554.5,-423 373.5,-423\"/>\n",
       "<text text-anchor=\"start\" x=\"375.5\" y=\"-428\" font-family=\"DejaVu Sans\" font-size=\"10.00\" fill=\"#6666ff\">http://www.example.org/unpublished&#45;sub</text>\n",
       "</a>\n",
       "</g>\n",
       "<polygon fill=\"none\" stroke=\"#666666\" points=\"372,-422 372,-458 555,-458 555,-422 372,-422\"/>\n",
       "</g>\n",
       "<!-- node3&#45;&gt;node1 -->\n",
       "<g id=\"edge3\" class=\"edge\">\n",
       "<title>node3&#45;&gt;node1</title>\n",
       "<path fill=\"none\" stroke=\"BLACK\" d=\"M444.13,-418C423.82,-393.34 397.64,-352.1 419.5,-323 434.06,-303.62 476.8,-287.37 524.71,-274.6\"/>\n",
       "<polygon fill=\"BLACK\" stroke=\"BLACK\" points=\"525.87,-277.91 534.67,-272.01 524.11,-271.14 525.87,-277.91\"/>\n",
       "<text text-anchor=\"start\" x=\"419.5\" y=\"-342.3\" font-family=\"Times,serif\" font-size=\"14.00\"> </text>\n",
       "<text text-anchor=\"start\" x=\"423.5\" y=\"-342.3\" font-family=\"Times,serif\" font-size=\"10.00\" fill=\"#336633\">pplan:isStepOfPlan</text>\n",
       "<text text-anchor=\"start\" x=\"503.5\" y=\"-342.3\" font-family=\"Times,serif\" font-size=\"14.00\"> </text>\n",
       "</g>\n",
       "<!-- node4 -->\n",
       "<g id=\"node4\" class=\"node\">\n",
       "<title>node4</title>\n",
       "<polygon fill=\"grey\" stroke=\"transparent\" points=\"526.5,-343 526.5,-362 707.5,-362 707.5,-343 526.5,-343\"/>\n",
       "<text text-anchor=\"start\" x=\"562\" y=\"-349.8\" font-family=\"DejaVu Sans\" font-weight=\"bold\" font-size=\"14.00\">unpublished&#45;mul</text>\n",
       "<g id=\"a_node4_4\"><a xlink:href=\"http://www.example.org/unpublished-mul\" xlink:title=\"&lt;TABLE&gt;\">\n",
       "<polygon fill=\"#eeeeee\" stroke=\"transparent\" points=\"526.5,-328 526.5,-343 707.5,-343 707.5,-328 526.5,-328\"/>\n",
       "<text text-anchor=\"start\" x=\"528.5\" y=\"-333\" font-family=\"DejaVu Sans\" font-size=\"10.00\" fill=\"#6666ff\">http://www.example.org/unpublished&#45;mul</text>\n",
       "</a>\n",
       "</g>\n",
       "<polygon fill=\"none\" stroke=\"#666666\" points=\"525,-327 525,-363 708,-363 708,-327 525,-327\"/>\n",
       "</g>\n",
       "<!-- node3&#45;&gt;node4 -->\n",
       "<g id=\"edge2\" class=\"edge\">\n",
       "<title>node3&#45;&gt;node4</title>\n",
       "<path fill=\"none\" stroke=\"BLACK\" d=\"M498.22,-417.9C520.42,-404.4 549.4,-386.79 573.11,-372.37\"/>\n",
       "<polygon fill=\"BLACK\" stroke=\"BLACK\" points=\"575.19,-375.2 581.92,-367.02 571.56,-369.22 575.19,-375.2\"/>\n",
       "<text text-anchor=\"start\" x=\"549.5\" y=\"-389.8\" font-family=\"Times,serif\" font-size=\"14.00\"> </text>\n",
       "<text text-anchor=\"start\" x=\"553.5\" y=\"-389.8\" font-family=\"Times,serif\" font-size=\"10.00\" fill=\"#336633\">dul:precedes</text>\n",
       "<text text-anchor=\"start\" x=\"605.5\" y=\"-389.8\" font-family=\"Times,serif\" font-size=\"14.00\"> </text>\n",
       "</g>\n",
       "<!-- node4&#45;&gt;node1 -->\n",
       "<g id=\"edge12\" class=\"edge\">\n",
       "<title>node4&#45;&gt;node1</title>\n",
       "<path fill=\"none\" stroke=\"BLACK\" d=\"M628.16,-322.96C634.27,-312.63 642.2,-300.24 650.5,-290 653.36,-286.47 656.46,-282.93 659.67,-279.46\"/>\n",
       "<polygon fill=\"BLACK\" stroke=\"BLACK\" points=\"662.41,-281.65 666.8,-272.01 657.36,-276.81 662.41,-281.65\"/>\n",
       "<text text-anchor=\"start\" x=\"650.5\" y=\"-294.8\" font-family=\"Times,serif\" font-size=\"14.00\"> </text>\n",
       "<text text-anchor=\"start\" x=\"654.5\" y=\"-294.8\" font-family=\"Times,serif\" font-size=\"10.00\" fill=\"#336633\">pplan:isStepOfPlan</text>\n",
       "<text text-anchor=\"start\" x=\"734.5\" y=\"-294.8\" font-family=\"Times,serif\" font-size=\"14.00\"> </text>\n",
       "</g>\n",
       "<!-- node5 -->\n",
       "<g id=\"node6\" class=\"node\">\n",
       "<title>node5</title>\n",
       "<polygon fill=\"grey\" stroke=\"transparent\" points=\"673.5,-20 673.5,-39 842.5,-39 842.5,-20 673.5,-20\"/>\n",
       "<text text-anchor=\"start\" x=\"733.5\" y=\"-26.8\" font-family=\"DejaVu Sans\" font-weight=\"bold\" font-size=\"14.00\">Q28865</text>\n",
       "<g id=\"a_node6_5\"><a xlink:href=\"https://www.wikidata.org/wiki/Q28865\" xlink:title=\"&lt;TABLE&gt;\">\n",
       "<polygon fill=\"#eeeeee\" stroke=\"transparent\" points=\"673.5,-5 673.5,-20 842.5,-20 842.5,-5 673.5,-5\"/>\n",
       "<text text-anchor=\"start\" x=\"675.5\" y=\"-10\" font-family=\"DejaVu Sans\" font-size=\"10.00\" fill=\"#6666ff\">https://www.wikidata.org/wiki/Q28865</text>\n",
       "</a>\n",
       "</g>\n",
       "<polygon fill=\"none\" stroke=\"#666666\" points=\"672,-4 672,-40 843,-40 843,-4 672,-4\"/>\n",
       "</g>\n",
       "<!-- node0&#45;&gt;node5 -->\n",
       "<g id=\"edge4\" class=\"edge\">\n",
       "<title>node0&#45;&gt;node5</title>\n",
       "<path fill=\"none\" stroke=\"BLACK\" d=\"M830.3,-94.75C816.36,-81.01 800.04,-64.93 786.39,-51.48\"/>\n",
       "<polygon fill=\"BLACK\" stroke=\"BLACK\" points=\"788.7,-48.83 779.12,-44.3 783.78,-53.82 788.7,-48.83\"/>\n",
       "<text text-anchor=\"start\" x=\"809.5\" y=\"-66.8\" font-family=\"Times,serif\" font-size=\"14.00\"> </text>\n",
       "<text text-anchor=\"start\" x=\"813.5\" y=\"-66.8\" font-family=\"Times,serif\" font-size=\"10.00\" fill=\"#336633\">rdfs:seeAlso</text>\n",
       "<text text-anchor=\"start\" x=\"864.5\" y=\"-66.8\" font-family=\"Times,serif\" font-size=\"14.00\"> </text>\n",
       "</g>\n",
       "<!-- node16 -->\n",
       "<g id=\"node17\" class=\"node\">\n",
       "<title>node16</title>\n",
       "<polygon fill=\"grey\" stroke=\"transparent\" points=\"878.5,-20 878.5,-39 1052.5,-39 1052.5,-20 878.5,-20\"/>\n",
       "<text text-anchor=\"start\" x=\"901\" y=\"-26.8\" font-family=\"DejaVu Sans\" font-weight=\"bold\" font-size=\"14.00\">ComputerLanguage</text>\n",
       "<g id=\"a_node17_6\"><a xlink:href=\"https://schema.org/ComputerLanguage\" xlink:title=\"&lt;TABLE&gt;\">\n",
       "<polygon fill=\"#eeeeee\" stroke=\"transparent\" points=\"878.5,-5 878.5,-20 1052.5,-20 1052.5,-5 878.5,-5\"/>\n",
       "<text text-anchor=\"start\" x=\"880.5\" y=\"-10\" font-family=\"DejaVu Sans\" font-size=\"10.00\" fill=\"#6666ff\">https://schema.org/ComputerLanguage</text>\n",
       "</a>\n",
       "</g>\n",
       "<polygon fill=\"none\" stroke=\"#666666\" points=\"877.5,-4 877.5,-40 1053.5,-40 1053.5,-4 877.5,-4\"/>\n",
       "</g>\n",
       "<!-- node0&#45;&gt;node16 -->\n",
       "<g id=\"edge15\" class=\"edge\">\n",
       "<title>node0&#45;&gt;node16</title>\n",
       "<path fill=\"none\" stroke=\"BLACK\" d=\"M892.7,-94.75C906.64,-81.01 922.96,-64.93 936.61,-51.48\"/>\n",
       "<polygon fill=\"BLACK\" stroke=\"BLACK\" points=\"939.22,-53.82 943.88,-44.3 934.3,-48.83 939.22,-53.82\"/>\n",
       "<text text-anchor=\"start\" x=\"926.5\" y=\"-66.8\" font-family=\"Times,serif\" font-size=\"14.00\"> </text>\n",
       "<text text-anchor=\"start\" x=\"930.5\" y=\"-66.8\" font-family=\"Times,serif\" font-size=\"10.00\" fill=\"#336633\">rdf:type</text>\n",
       "<text text-anchor=\"start\" x=\"963.5\" y=\"-66.8\" font-family=\"Times,serif\" font-size=\"14.00\"> </text>\n",
       "</g>\n",
       "<!-- node6 -->\n",
       "<g id=\"node7\" class=\"node\">\n",
       "<title>node6</title>\n",
       "<polygon fill=\"grey\" stroke=\"transparent\" points=\"945.5,-533 945.5,-552 1157.5,-552 1157.5,-533 945.5,-533\"/>\n",
       "<text text-anchor=\"start\" x=\"1037\" y=\"-539.8\" font-family=\"DejaVu Sans\" font-weight=\"bold\" font-size=\"14.00\">out1</text>\n",
       "<g id=\"a_node7_7\"><a xlink:href=\"http://www.example.org/unpublished-weird#out1\" xlink:title=\"&lt;TABLE&gt;\">\n",
       "<polygon fill=\"#eeeeee\" stroke=\"transparent\" points=\"945.5,-518 945.5,-533 1157.5,-533 1157.5,-518 945.5,-518\"/>\n",
       "<text text-anchor=\"start\" x=\"947.5\" y=\"-523\" font-family=\"DejaVu Sans\" font-size=\"10.00\" fill=\"#6666ff\">http://www.example.org/unpublished&#45;weird#out1</text>\n",
       "</a>\n",
       "</g>\n",
       "<polygon fill=\"none\" stroke=\"#666666\" points=\"944.5,-517 944.5,-553 1158.5,-553 1158.5,-517 944.5,-517\"/>\n",
       "</g>\n",
       "<!-- node7 -->\n",
       "<g id=\"node8\" class=\"node\">\n",
       "<title>node7</title>\n",
       "<polygon fill=\"grey\" stroke=\"transparent\" points=\"956.5,-438 956.5,-457 1147.5,-457 1147.5,-438 956.5,-438\"/>\n",
       "<text text-anchor=\"start\" x=\"1048\" y=\"-444.8\" font-family=\"DejaVu Sans\" font-weight=\"bold\" font-size=\"14.00\">a</text>\n",
       "<g id=\"a_node8_8\"><a xlink:href=\"http://www.example.org/unpublished-mul#a\" xlink:title=\"&lt;TABLE&gt;\">\n",
       "<polygon fill=\"#eeeeee\" stroke=\"transparent\" points=\"956.5,-423 956.5,-438 1147.5,-438 1147.5,-423 956.5,-423\"/>\n",
       "<text text-anchor=\"start\" x=\"958.5\" y=\"-428\" font-family=\"DejaVu Sans\" font-size=\"10.00\" fill=\"#6666ff\">http://www.example.org/unpublished&#45;mul#a</text>\n",
       "</a>\n",
       "</g>\n",
       "<polygon fill=\"none\" stroke=\"#666666\" points=\"955,-422 955,-458 1148,-458 1148,-422 955,-422\"/>\n",
       "</g>\n",
       "<!-- node6&#45;&gt;node7 -->\n",
       "<g id=\"edge5\" class=\"edge\">\n",
       "<title>node6&#45;&gt;node7</title>\n",
       "<path fill=\"none\" stroke=\"BLACK\" d=\"M1051.5,-512.9C1051.5,-500.89 1051.5,-485.62 1051.5,-472.24\"/>\n",
       "<polygon fill=\"BLACK\" stroke=\"BLACK\" points=\"1055,-472.02 1051.5,-462.02 1048,-472.02 1055,-472.02\"/>\n",
       "<text text-anchor=\"start\" x=\"1051.5\" y=\"-484.8\" font-family=\"Times,serif\" font-size=\"14.00\"> </text>\n",
       "<text text-anchor=\"start\" x=\"1055.5\" y=\"-484.8\" font-family=\"Times,serif\" font-size=\"10.00\" fill=\"#336633\">pplan:bindsTo</text>\n",
       "<text text-anchor=\"start\" x=\"1115.5\" y=\"-484.8\" font-family=\"Times,serif\" font-size=\"14.00\"> </text>\n",
       "</g>\n",
       "<!-- node8 -->\n",
       "<g id=\"node9\" class=\"node\">\n",
       "<title>node8</title>\n",
       "<polygon fill=\"grey\" stroke=\"transparent\" points=\"643.5,-438 643.5,-457 831.5,-457 831.5,-438 643.5,-438\"/>\n",
       "<text text-anchor=\"start\" x=\"677\" y=\"-444.8\" font-family=\"DejaVu Sans\" font-weight=\"bold\" font-size=\"14.00\">unpublished&#45;weird</text>\n",
       "<g id=\"a_node9_9\"><a xlink:href=\"http://www.example.org/unpublished-weird\" xlink:title=\"&lt;TABLE&gt;\">\n",
       "<polygon fill=\"#eeeeee\" stroke=\"transparent\" points=\"643.5,-423 643.5,-438 831.5,-438 831.5,-423 643.5,-423\"/>\n",
       "<text text-anchor=\"start\" x=\"645.5\" y=\"-428\" font-family=\"DejaVu Sans\" font-size=\"10.00\" fill=\"#6666ff\">http://www.example.org/unpublished&#45;weird</text>\n",
       "</a>\n",
       "</g>\n",
       "<polygon fill=\"none\" stroke=\"#666666\" points=\"642.5,-422 642.5,-458 832.5,-458 832.5,-422 642.5,-422\"/>\n",
       "</g>\n",
       "<!-- node8&#45;&gt;node1 -->\n",
       "<g id=\"edge6\" class=\"edge\">\n",
       "<title>node8&#45;&gt;node1</title>\n",
       "<path fill=\"none\" stroke=\"BLACK\" d=\"M741.99,-417.56C747.24,-387.94 753.44,-333.28 738.5,-290 737.42,-286.87 736.04,-283.78 734.46,-280.77\"/>\n",
       "<polygon fill=\"BLACK\" stroke=\"BLACK\" points=\"737.34,-278.78 729.17,-272.04 731.35,-282.41 737.34,-278.78\"/>\n",
       "<text text-anchor=\"start\" x=\"748.5\" y=\"-342.3\" font-family=\"Times,serif\" font-size=\"14.00\"> </text>\n",
       "<text text-anchor=\"start\" x=\"752.5\" y=\"-342.3\" font-family=\"Times,serif\" font-size=\"10.00\" fill=\"#336633\">pplan:isStepOfPlan</text>\n",
       "<text text-anchor=\"start\" x=\"832.5\" y=\"-342.3\" font-family=\"Times,serif\" font-size=\"14.00\"> </text>\n",
       "</g>\n",
       "<!-- node8&#45;&gt;node4 -->\n",
       "<g id=\"edge7\" class=\"edge\">\n",
       "<title>node8&#45;&gt;node4</title>\n",
       "<path fill=\"none\" stroke=\"BLACK\" d=\"M703.89,-417.89C695.45,-412.29 686.51,-406.1 678.5,-400 667.83,-391.89 656.65,-382.46 646.76,-373.77\"/>\n",
       "<polygon fill=\"BLACK\" stroke=\"BLACK\" points=\"648.95,-371.03 639.15,-367.01 644.3,-376.27 648.95,-371.03\"/>\n",
       "<text text-anchor=\"start\" x=\"678.5\" y=\"-389.8\" font-family=\"Times,serif\" font-size=\"14.00\"> </text>\n",
       "<text text-anchor=\"start\" x=\"682.5\" y=\"-389.8\" font-family=\"Times,serif\" font-size=\"10.00\" fill=\"#336633\">dul:precedes</text>\n",
       "<text text-anchor=\"start\" x=\"734.5\" y=\"-389.8\" font-family=\"Times,serif\" font-size=\"14.00\"> </text>\n",
       "</g>\n",
       "<!-- node9 -->\n",
       "<g id=\"node10\" class=\"node\">\n",
       "<title>node9</title>\n",
       "<polygon fill=\"grey\" stroke=\"transparent\" points=\"688.5,-533 688.5,-552 869.5,-552 869.5,-533 688.5,-533\"/>\n",
       "<text text-anchor=\"start\" x=\"724.5\" y=\"-539.8\" font-family=\"DejaVu Sans\" font-weight=\"bold\" font-size=\"14.00\">unpublished&#45;add</text>\n",
       "<g id=\"a_node10_10\"><a xlink:href=\"http://www.example.org/unpublished-add\" xlink:title=\"&lt;TABLE&gt;\">\n",
       "<polygon fill=\"#eeeeee\" stroke=\"transparent\" points=\"688.5,-518 688.5,-533 869.5,-533 869.5,-518 688.5,-518\"/>\n",
       "<text text-anchor=\"start\" x=\"690.5\" y=\"-523\" font-family=\"DejaVu Sans\" font-size=\"10.00\" fill=\"#6666ff\">http://www.example.org/unpublished&#45;add</text>\n",
       "</a>\n",
       "</g>\n",
       "<polygon fill=\"none\" stroke=\"#666666\" points=\"687,-517 687,-553 870,-553 870,-517 687,-517\"/>\n",
       "</g>\n",
       "<!-- node9&#45;&gt;node1 -->\n",
       "<g id=\"edge9\" class=\"edge\">\n",
       "<title>node9&#45;&gt;node1</title>\n",
       "<path fill=\"none\" stroke=\"BLACK\" d=\"M810.13,-512.77C825.69,-500.17 842.57,-482.63 849.5,-462 859.12,-433.37 847.52,-333.98 840.5,-323 828.41,-304.1 810.26,-289.06 791,-277.32\"/>\n",
       "<polygon fill=\"BLACK\" stroke=\"BLACK\" points=\"792.49,-274.14 782.09,-272.15 788.98,-280.2 792.49,-274.14\"/>\n",
       "<text text-anchor=\"start\" x=\"852.5\" y=\"-389.8\" font-family=\"Times,serif\" font-size=\"14.00\"> </text>\n",
       "<text text-anchor=\"start\" x=\"856.5\" y=\"-389.8\" font-family=\"Times,serif\" font-size=\"10.00\" fill=\"#336633\">pplan:isStepOfPlan</text>\n",
       "<text text-anchor=\"start\" x=\"936.5\" y=\"-389.8\" font-family=\"Times,serif\" font-size=\"14.00\"> </text>\n",
       "</g>\n",
       "<!-- node9&#45;&gt;node8 -->\n",
       "<g id=\"edge11\" class=\"edge\">\n",
       "<title>node9&#45;&gt;node8</title>\n",
       "<path fill=\"none\" stroke=\"BLACK\" d=\"M769.2,-512.9C763.8,-500.65 756.9,-485.01 750.92,-471.45\"/>\n",
       "<polygon fill=\"BLACK\" stroke=\"BLACK\" points=\"754,-469.76 746.77,-462.02 747.6,-472.58 754,-469.76\"/>\n",
       "<text text-anchor=\"start\" x=\"760.5\" y=\"-484.8\" font-family=\"Times,serif\" font-size=\"14.00\"> </text>\n",
       "<text text-anchor=\"start\" x=\"764.5\" y=\"-484.8\" font-family=\"Times,serif\" font-size=\"10.00\" fill=\"#336633\">dul:precedes</text>\n",
       "<text text-anchor=\"start\" x=\"816.5\" y=\"-484.8\" font-family=\"Times,serif\" font-size=\"14.00\"> </text>\n",
       "</g>\n",
       "<!-- node10 -->\n",
       "<g id=\"node11\" class=\"node\">\n",
       "<title>node10</title>\n",
       "<polygon fill=\"grey\" stroke=\"transparent\" points=\"1194.5,-533 1194.5,-552 1399.5,-552 1399.5,-533 1194.5,-533\"/>\n",
       "<text text-anchor=\"start\" x=\"1282.5\" y=\"-539.8\" font-family=\"DejaVu Sans\" font-weight=\"bold\" font-size=\"14.00\">out1</text>\n",
       "<g id=\"a_node11_11\"><a xlink:href=\"http://www.example.org/unpublished-add#out1\" xlink:title=\"&lt;TABLE&gt;\">\n",
       "<polygon fill=\"#eeeeee\" stroke=\"transparent\" points=\"1194.5,-518 1194.5,-533 1399.5,-533 1399.5,-518 1194.5,-518\"/>\n",
       "<text text-anchor=\"start\" x=\"1196.5\" y=\"-523\" font-family=\"DejaVu Sans\" font-size=\"10.00\" fill=\"#6666ff\">http://www.example.org/unpublished&#45;add#out1</text>\n",
       "</a>\n",
       "</g>\n",
       "<polygon fill=\"none\" stroke=\"#666666\" points=\"1193,-517 1193,-553 1400,-553 1400,-517 1193,-517\"/>\n",
       "</g>\n",
       "<!-- node11 -->\n",
       "<g id=\"node12\" class=\"node\">\n",
       "<title>node11</title>\n",
       "<polygon fill=\"grey\" stroke=\"transparent\" points=\"1197.5,-438 1197.5,-457 1396.5,-457 1396.5,-438 1197.5,-438\"/>\n",
       "<text text-anchor=\"start\" x=\"1293\" y=\"-444.8\" font-family=\"DejaVu Sans\" font-weight=\"bold\" font-size=\"14.00\">a</text>\n",
       "<g id=\"a_node12_12\"><a xlink:href=\"http://www.example.org/unpublished-weird#a\" xlink:title=\"&lt;TABLE&gt;\">\n",
       "<polygon fill=\"#eeeeee\" stroke=\"transparent\" points=\"1197.5,-423 1197.5,-438 1396.5,-438 1396.5,-423 1197.5,-423\"/>\n",
       "<text text-anchor=\"start\" x=\"1199.5\" y=\"-428\" font-family=\"DejaVu Sans\" font-size=\"10.00\" fill=\"#6666ff\">http://www.example.org/unpublished&#45;weird#a</text>\n",
       "</a>\n",
       "</g>\n",
       "<polygon fill=\"none\" stroke=\"#666666\" points=\"1196,-422 1196,-458 1397,-458 1397,-422 1196,-422\"/>\n",
       "</g>\n",
       "<!-- node10&#45;&gt;node11 -->\n",
       "<g id=\"edge10\" class=\"edge\">\n",
       "<title>node10&#45;&gt;node11</title>\n",
       "<path fill=\"none\" stroke=\"BLACK\" d=\"M1296.5,-512.9C1296.5,-500.89 1296.5,-485.62 1296.5,-472.24\"/>\n",
       "<polygon fill=\"BLACK\" stroke=\"BLACK\" points=\"1300,-472.02 1296.5,-462.02 1293,-472.02 1300,-472.02\"/>\n",
       "<text text-anchor=\"start\" x=\"1296.5\" y=\"-484.8\" font-family=\"Times,serif\" font-size=\"14.00\"> </text>\n",
       "<text text-anchor=\"start\" x=\"1300.5\" y=\"-484.8\" font-family=\"Times,serif\" font-size=\"10.00\" fill=\"#336633\">pplan:bindsTo</text>\n",
       "<text text-anchor=\"start\" x=\"1360.5\" y=\"-484.8\" font-family=\"Times,serif\" font-size=\"14.00\"> </text>\n",
       "</g>\n",
       "<!-- node12 -->\n",
       "<g id=\"node13\" class=\"node\">\n",
       "<title>node12</title>\n",
       "<polygon fill=\"grey\" stroke=\"transparent\" points=\"1435.5,-533 1435.5,-552 1640.5,-552 1640.5,-533 1435.5,-533\"/>\n",
       "<text text-anchor=\"start\" x=\"1523.5\" y=\"-539.8\" font-family=\"DejaVu Sans\" font-weight=\"bold\" font-size=\"14.00\">out1</text>\n",
       "<g id=\"a_node13_13\"><a xlink:href=\"http://www.example.org/unpublished-mul#out1\" xlink:title=\"&lt;TABLE&gt;\">\n",
       "<polygon fill=\"#eeeeee\" stroke=\"transparent\" points=\"1435.5,-518 1435.5,-533 1640.5,-533 1640.5,-518 1435.5,-518\"/>\n",
       "<text text-anchor=\"start\" x=\"1437.5\" y=\"-523\" font-family=\"DejaVu Sans\" font-size=\"10.00\" fill=\"#6666ff\">http://www.example.org/unpublished&#45;mul#out1</text>\n",
       "</a>\n",
       "</g>\n",
       "<polygon fill=\"none\" stroke=\"#666666\" points=\"1434,-517 1434,-553 1641,-553 1641,-517 1434,-517\"/>\n",
       "</g>\n",
       "<!-- node13 -->\n",
       "<g id=\"node14\" class=\"node\">\n",
       "<title>node13</title>\n",
       "<polygon fill=\"grey\" stroke=\"transparent\" points=\"1517.5,-438 1517.5,-457 1558.5,-457 1558.5,-438 1517.5,-438\"/>\n",
       "<text text-anchor=\"start\" x=\"1519.5\" y=\"-444.8\" font-family=\"DejaVu Sans\" font-weight=\"bold\" font-size=\"14.00\">result</text>\n",
       "<g id=\"a_node14_14\"><a xlink:href=\"result\" xlink:title=\"&lt;TABLE&gt;\">\n",
       "<polygon fill=\"#eeeeee\" stroke=\"transparent\" points=\"1517.5,-423 1517.5,-438 1558.5,-438 1558.5,-423 1517.5,-423\"/>\n",
       "<text text-anchor=\"start\" x=\"1525.5\" y=\"-428\" font-family=\"DejaVu Sans\" font-size=\"10.00\" fill=\"#6666ff\">result</text>\n",
       "</a>\n",
       "</g>\n",
       "<polygon fill=\"none\" stroke=\"#666666\" points=\"1516,-422 1516,-458 1559,-458 1559,-422 1516,-422\"/>\n",
       "</g>\n",
       "<!-- node12&#45;&gt;node13 -->\n",
       "<g id=\"edge13\" class=\"edge\">\n",
       "<title>node12&#45;&gt;node13</title>\n",
       "<path fill=\"none\" stroke=\"BLACK\" d=\"M1537.5,-512.9C1537.5,-500.89 1537.5,-485.62 1537.5,-472.24\"/>\n",
       "<polygon fill=\"BLACK\" stroke=\"BLACK\" points=\"1541,-472.02 1537.5,-462.02 1534,-472.02 1541,-472.02\"/>\n",
       "<text text-anchor=\"start\" x=\"1537.5\" y=\"-484.8\" font-family=\"Times,serif\" font-size=\"14.00\"> </text>\n",
       "<text text-anchor=\"start\" x=\"1541.5\" y=\"-484.8\" font-family=\"Times,serif\" font-size=\"10.00\" fill=\"#336633\">pplan:bindsTo</text>\n",
       "<text text-anchor=\"start\" x=\"1601.5\" y=\"-484.8\" font-family=\"Times,serif\" font-size=\"14.00\"> </text>\n",
       "</g>\n",
       "<!-- node14 -->\n",
       "<g id=\"node15\" class=\"node\">\n",
       "<title>node14</title>\n",
       "<polygon fill=\"grey\" stroke=\"transparent\" points=\"1676.5,-533 1676.5,-552 1881.5,-552 1881.5,-533 1676.5,-533\"/>\n",
       "<text text-anchor=\"start\" x=\"1764.5\" y=\"-539.8\" font-family=\"DejaVu Sans\" font-weight=\"bold\" font-size=\"14.00\">out1</text>\n",
       "<g id=\"a_node15_15\"><a xlink:href=\"http://www.example.org/unpublished-sub#out1\" xlink:title=\"&lt;TABLE&gt;\">\n",
       "<polygon fill=\"#eeeeee\" stroke=\"transparent\" points=\"1676.5,-518 1676.5,-533 1881.5,-533 1881.5,-518 1676.5,-518\"/>\n",
       "<text text-anchor=\"start\" x=\"1678.5\" y=\"-523\" font-family=\"DejaVu Sans\" font-size=\"10.00\" fill=\"#6666ff\">http://www.example.org/unpublished&#45;sub#out1</text>\n",
       "</a>\n",
       "</g>\n",
       "<polygon fill=\"none\" stroke=\"#666666\" points=\"1675,-517 1675,-553 1882,-553 1882,-517 1675,-517\"/>\n",
       "</g>\n",
       "<!-- node15 -->\n",
       "<g id=\"node16\" class=\"node\">\n",
       "<title>node15</title>\n",
       "<polygon fill=\"grey\" stroke=\"transparent\" points=\"1683.5,-438 1683.5,-457 1874.5,-457 1874.5,-438 1683.5,-438\"/>\n",
       "<text text-anchor=\"start\" x=\"1774.5\" y=\"-444.8\" font-family=\"DejaVu Sans\" font-weight=\"bold\" font-size=\"14.00\">b</text>\n",
       "<g id=\"a_node16_16\"><a xlink:href=\"http://www.example.org/unpublished-mul#b\" xlink:title=\"&lt;TABLE&gt;\">\n",
       "<polygon fill=\"#eeeeee\" stroke=\"transparent\" points=\"1683.5,-423 1683.5,-438 1874.5,-438 1874.5,-423 1683.5,-423\"/>\n",
       "<text text-anchor=\"start\" x=\"1685.5\" y=\"-428\" font-family=\"DejaVu Sans\" font-size=\"10.00\" fill=\"#6666ff\">http://www.example.org/unpublished&#45;mul#b</text>\n",
       "</a>\n",
       "</g>\n",
       "<polygon fill=\"none\" stroke=\"#666666\" points=\"1682,-422 1682,-458 1875,-458 1875,-422 1682,-422\"/>\n",
       "</g>\n",
       "<!-- node14&#45;&gt;node15 -->\n",
       "<g id=\"edge14\" class=\"edge\">\n",
       "<title>node14&#45;&gt;node15</title>\n",
       "<path fill=\"none\" stroke=\"BLACK\" d=\"M1778.5,-512.9C1778.5,-500.89 1778.5,-485.62 1778.5,-472.24\"/>\n",
       "<polygon fill=\"BLACK\" stroke=\"BLACK\" points=\"1782,-472.02 1778.5,-462.02 1775,-472.02 1782,-472.02\"/>\n",
       "<text text-anchor=\"start\" x=\"1778.5\" y=\"-484.8\" font-family=\"Times,serif\" font-size=\"14.00\"> </text>\n",
       "<text text-anchor=\"start\" x=\"1782.5\" y=\"-484.8\" font-family=\"Times,serif\" font-size=\"10.00\" fill=\"#336633\">pplan:bindsTo</text>\n",
       "<text text-anchor=\"start\" x=\"1842.5\" y=\"-484.8\" font-family=\"Times,serif\" font-size=\"14.00\"> </text>\n",
       "</g>\n",
       "</g>\n",
       "</svg>\n"
      ],
      "text/plain": [
       "<graphviz.files.Source at 0x7fb11221fd50>"
      ]
     },
     "execution_count": 9,
     "metadata": {},
     "output_type": "execute_result"
    }
   ],
   "source": [
    "fw.display_rdf()"
   ]
  },
  {
   "cell_type": "markdown",
   "id": "experimental-beach",
   "metadata": {},
   "source": [
    "## Publish the (prospective) workflow\n",
    "You may publish the workflow, and its steps, as nanopublications in the usual manner:"
   ]
  },
  {
   "cell_type": "code",
   "execution_count": 10,
   "id": "artistic-continuity",
   "metadata": {},
   "outputs": [],
   "source": [
    "#fw.publish_as_nanopub()"
   ]
  },
  {
   "cell_type": "markdown",
   "id": "official-happiness",
   "metadata": {},
   "source": [
    "Be warned though - the above will keep publishing to the 'real' nanopub server network. For testing you may prefer to publish to the test servers as follows (note that this will refuse to publish a workflow you have already published :"
   ]
  },
  {
   "cell_type": "code",
   "execution_count": 11,
   "id": "biological-spyware",
   "metadata": {},
   "outputs": [
    {
     "name": "stdout",
     "output_type": "stream",
     "text": [
      "Published to http://purl.org/np/RAyTHTDs-Qqqu4EVYQjva4JoxWxpCUApESi1AGh93oQkU\n",
      "Published concept to http://purl.org/np/RAyTHTDs-Qqqu4EVYQjva4JoxWxpCUApESi1AGh93oQkU#step\n",
      "Published to http://purl.org/np/RAf9o4Sso9DTfks61fYhCFFtQjvwqbDLGyShpDyUbf52w\n",
      "Published concept to http://purl.org/np/RAf9o4Sso9DTfks61fYhCFFtQjvwqbDLGyShpDyUbf52w#step\n",
      "Published to http://purl.org/np/RAq59L4lExTS_SdtWurLgLYANXJZUlqcU6f00TV8xHuJ8\n",
      "Published concept to http://purl.org/np/RAq59L4lExTS_SdtWurLgLYANXJZUlqcU6f00TV8xHuJ8#step\n",
      "Published to http://purl.org/np/RA6QiW9xeTK8QarZVSUWTipZRvjfux_VlrcZilArD6wnY\n",
      "Published concept to http://purl.org/np/RA6QiW9xeTK8QarZVSUWTipZRvjfux_VlrcZilArD6wnY#step\n",
      "Published to http://purl.org/np/RAPHCa5UMvnF40Jt7wimjUdxDMrMepUUqfAB9BTiA1tmY\n",
      "Published concept to http://purl.org/np/RAPHCa5UMvnF40Jt7wimjUdxDMrMepUUqfAB9BTiA1tmY#plan\n"
     ]
    },
    {
     "data": {
      "text/plain": [
       "{'nanopub_uri': 'http://purl.org/np/RAPHCa5UMvnF40Jt7wimjUdxDMrMepUUqfAB9BTiA1tmY',\n",
       " 'concept_uri': 'http://purl.org/np/RAPHCa5UMvnF40Jt7wimjUdxDMrMepUUqfAB9BTiA1tmY#plan'}"
      ]
     },
     "execution_count": 11,
     "metadata": {},
     "output_type": "execute_result"
    }
   ],
   "source": [
    "fw.publish_as_nanopub(use_test_server=True, publish_steps=True)"
   ]
  },
  {
   "cell_type": "markdown",
   "id": "loaded-milan",
   "metadata": {},
   "source": [
    "You can then find your nanopublications by replacing the base of the URI with http://test-server.nanopubs.lod.labs.vu.nl/"
   ]
  },
  {
   "cell_type": "markdown",
   "id": "derived-monitor",
   "metadata": {},
   "source": [
    "## Execute your workflow using .execute()\n",
    "Set num_threads greater than 1 if you wish to exploit parallelisation in your workflow. The retrospective provenance is also returned as a (nano) Publication object, that can optionally be published."
   ]
  },
  {
   "cell_type": "code",
   "execution_count": 12,
   "id": "external-cambridge",
   "metadata": {},
   "outputs": [
    {
     "data": {
      "text/plain": [
       "-66"
      ]
     },
     "execution_count": 12,
     "metadata": {},
     "output_type": "execute_result"
    }
   ],
   "source": [
    "result, prov = fw.execute(1, 4, 3)\n",
    "result"
   ]
  },
  {
   "cell_type": "markdown",
   "id": "thirty-auction",
   "metadata": {},
   "source": [
    "### Retrospective prov\n",
    "A WorkflowRetroProv object is returned along with the result of the execution."
   ]
  },
  {
   "cell_type": "code",
   "execution_count": 13,
   "id": "developed-departure",
   "metadata": {},
   "outputs": [
    {
     "data": {
      "text/plain": [
       "fairworkflows.prov.WorkflowRetroProv"
      ]
     },
     "execution_count": 13,
     "metadata": {},
     "output_type": "execute_result"
    }
   ],
   "source": [
    "type(prov)"
   ]
  },
  {
   "cell_type": "code",
   "execution_count": 14,
   "id": "demanding-rally",
   "metadata": {},
   "outputs": [
    {
     "name": "stdout",
     "output_type": "stream",
     "text": [
      "Workflow retrospective provenance.\n",
      "@prefix pplan: <http://purl.org/net/p-plan#> .\n",
      "@prefix prov: <http://www.w3.org/ns/prov#> .\n",
      "\n",
      "[] a pplan:Bundle,\n",
      "        prov:Collection ;\n",
      "    prov:wasDerivedFrom <http://purl.org/np/RAPHCa5UMvnF40Jt7wimjUdxDMrMepUUqfAB9BTiA1tmY#plan> .\n",
      "\n",
      "\n"
     ]
    }
   ],
   "source": [
    "print(prov)"
   ]
  },
  {
   "cell_type": "markdown",
   "id": "dress-thunder",
   "metadata": {},
   "source": [
    "### Retrospective prov for each step\n",
    "You can iterate through a WorkflowRetroProv object to get the StepRetroProv objects for each step. Print these to see the RDF they contain (input/output variable values, start and end datetime of the step's execution etc.) "
   ]
  },
  {
   "cell_type": "code",
   "execution_count": 17,
   "id": "vietnamese-soldier",
   "metadata": {},
   "outputs": [
    {
     "name": "stdout",
     "output_type": "stream",
     "text": [
      "Step retrospective provenance.\n",
      "@prefix pplan: <http://purl.org/net/p-plan#> .\n",
      "@prefix prov: <http://www.w3.org/ns/prov#> .\n",
      "@prefix rdf: <http://www.w3.org/1999/02/22-rdf-syntax-ns#> .\n",
      "@prefix rdfs: <http://www.w3.org/2000/01/rdf-schema#> .\n",
      "@prefix xsd: <http://www.w3.org/2001/XMLSchema#> .\n",
      "\n",
      "[] a pplan:Activity ;\n",
      "    pplan:correspondsToStep <http://purl.org/np/RAyTHTDs-Qqqu4EVYQjva4JoxWxpCUApESi1AGh93oQkU#step> ;\n",
      "    prov:endedAtTime \"2021-03-05T13:14:00.084623\"^^xsd:dateTime ;\n",
      "    prov:startedAtTime \"2021-03-05T13:14:00.084616\"^^xsd:dateTime ;\n",
      "    prov:used [ a pplan:Entity ;\n",
      "            rdfs:label \"a\" ;\n",
      "            pplan:correspondsToVariable <http://purl.org/np/RAyTHTDs-Qqqu4EVYQjva4JoxWxpCUApESi1AGh93oQkU#a> ;\n",
      "            rdf:value 1 ],\n",
      "        [ a pplan:Entity ;\n",
      "            rdfs:label \"b\" ;\n",
      "            pplan:correspondsToVariable <http://purl.org/np/RAyTHTDs-Qqqu4EVYQjva4JoxWxpCUApESi1AGh93oQkU#b> ;\n",
      "            rdf:value 4 ],\n",
      "        [ a pplan:Entity ;\n",
      "            rdfs:label \"out1\" ;\n",
      "            pplan:correspondsToVariable <http://purl.org/np/RAyTHTDs-Qqqu4EVYQjva4JoxWxpCUApESi1AGh93oQkU#out1> ;\n",
      "            rdf:value 5 ] .\n",
      "\n",
      "\n",
      "Step retrospective provenance.\n",
      "@prefix pplan: <http://purl.org/net/p-plan#> .\n",
      "@prefix prov: <http://www.w3.org/ns/prov#> .\n",
      "@prefix rdf: <http://www.w3.org/1999/02/22-rdf-syntax-ns#> .\n",
      "@prefix rdfs: <http://www.w3.org/2000/01/rdf-schema#> .\n",
      "@prefix xsd: <http://www.w3.org/2001/XMLSchema#> .\n",
      "\n",
      "[] a pplan:Activity ;\n",
      "    pplan:correspondsToStep <http://purl.org/np/RAq59L4lExTS_SdtWurLgLYANXJZUlqcU6f00TV8xHuJ8#step> ;\n",
      "    prov:endedAtTime \"2021-03-05T13:14:00.086260\"^^xsd:dateTime ;\n",
      "    prov:startedAtTime \"2021-03-05T13:14:00.086257\"^^xsd:dateTime ;\n",
      "    prov:used [ a pplan:Entity ;\n",
      "            rdfs:label \"a\" ;\n",
      "            pplan:correspondsToVariable <http://purl.org/np/RAq59L4lExTS_SdtWurLgLYANXJZUlqcU6f00TV8xHuJ8#a> ;\n",
      "            rdf:value 1 ],\n",
      "        [ a pplan:Entity ;\n",
      "            rdfs:label \"b\" ;\n",
      "            pplan:correspondsToVariable <http://purl.org/np/RAq59L4lExTS_SdtWurLgLYANXJZUlqcU6f00TV8xHuJ8#b> ;\n",
      "            rdf:value 4 ],\n",
      "        [ a pplan:Entity ;\n",
      "            rdfs:label \"out1\" ;\n",
      "            pplan:correspondsToVariable <http://purl.org/np/RAq59L4lExTS_SdtWurLgLYANXJZUlqcU6f00TV8xHuJ8#out1> ;\n",
      "            rdf:value -3 ] .\n",
      "\n",
      "\n",
      "Step retrospective provenance.\n",
      "@prefix pplan: <http://purl.org/net/p-plan#> .\n",
      "@prefix prov: <http://www.w3.org/ns/prov#> .\n",
      "@prefix rdf: <http://www.w3.org/1999/02/22-rdf-syntax-ns#> .\n",
      "@prefix rdfs: <http://www.w3.org/2000/01/rdf-schema#> .\n",
      "@prefix xsd: <http://www.w3.org/2001/XMLSchema#> .\n",
      "\n",
      "[] a pplan:Activity ;\n",
      "    pplan:correspondsToStep <http://purl.org/np/RAf9o4Sso9DTfks61fYhCFFtQjvwqbDLGyShpDyUbf52w#step> ;\n",
      "    prov:endedAtTime \"2021-03-05T13:14:00.087809\"^^xsd:dateTime ;\n",
      "    prov:startedAtTime \"2021-03-05T13:14:00.087805\"^^xsd:dateTime ;\n",
      "    prov:used [ a pplan:Entity ;\n",
      "            rdfs:label \"a\" ;\n",
      "            pplan:correspondsToVariable <http://purl.org/np/RAf9o4Sso9DTfks61fYhCFFtQjvwqbDLGyShpDyUbf52w#a> ;\n",
      "            rdf:value 5 ],\n",
      "        [ a pplan:Entity ;\n",
      "            rdfs:label \"b\" ;\n",
      "            pplan:correspondsToVariable <http://purl.org/np/RAf9o4Sso9DTfks61fYhCFFtQjvwqbDLGyShpDyUbf52w#b> ;\n",
      "            rdf:value 3 ],\n",
      "        [ a pplan:Entity ;\n",
      "            rdfs:label \"out1\" ;\n",
      "            pplan:correspondsToVariable <http://purl.org/np/RAf9o4Sso9DTfks61fYhCFFtQjvwqbDLGyShpDyUbf52w#out1> ;\n",
      "            rdf:value 22 ] .\n",
      "\n",
      "\n",
      "Step retrospective provenance.\n",
      "@prefix pplan: <http://purl.org/net/p-plan#> .\n",
      "@prefix prov: <http://www.w3.org/ns/prov#> .\n",
      "@prefix rdf: <http://www.w3.org/1999/02/22-rdf-syntax-ns#> .\n",
      "@prefix rdfs: <http://www.w3.org/2000/01/rdf-schema#> .\n",
      "@prefix xsd: <http://www.w3.org/2001/XMLSchema#> .\n",
      "\n",
      "[] a pplan:Activity ;\n",
      "    pplan:correspondsToStep <http://purl.org/np/RA6QiW9xeTK8QarZVSUWTipZRvjfux_VlrcZilArD6wnY#step> ;\n",
      "    prov:endedAtTime \"2021-03-05T13:14:00.089282\"^^xsd:dateTime ;\n",
      "    prov:startedAtTime \"2021-03-05T13:14:00.089278\"^^xsd:dateTime ;\n",
      "    prov:used [ a pplan:Entity ;\n",
      "            rdfs:label \"a\" ;\n",
      "            pplan:correspondsToVariable <http://purl.org/np/RA6QiW9xeTK8QarZVSUWTipZRvjfux_VlrcZilArD6wnY#a> ;\n",
      "            rdf:value 22 ],\n",
      "        [ a pplan:Entity ;\n",
      "            rdfs:label \"b\" ;\n",
      "            pplan:correspondsToVariable <http://purl.org/np/RA6QiW9xeTK8QarZVSUWTipZRvjfux_VlrcZilArD6wnY#b> ;\n",
      "            rdf:value -3 ],\n",
      "        [ a pplan:Entity ;\n",
      "            rdfs:label \"out1\" ;\n",
      "            pplan:correspondsToVariable <http://purl.org/np/RA6QiW9xeTK8QarZVSUWTipZRvjfux_VlrcZilArD6wnY#out1> ;\n",
      "            rdf:value -66 ] .\n",
      "\n",
      "\n"
     ]
    }
   ],
   "source": [
    "for sp in prov:\n",
    "    print(sp)"
   ]
  },
  {
   "cell_type": "markdown",
   "id": "occupational-enclosure",
   "metadata": {},
   "source": [
    "### Publish the retrospective provenance\n",
    "You can use the .publish_as_nanopub() method as with FairStep and FairWorkflow objects. This publishes a nanopub per step and one for the whole workflow, mirroring the prospective RDF."
   ]
  },
  {
   "cell_type": "code",
   "execution_count": 16,
   "id": "mediterranean-accessory",
   "metadata": {},
   "outputs": [
    {
     "name": "stdout",
     "output_type": "stream",
     "text": [
      "Published to http://purl.org/np/RAS5YybkJDH1go2SOQBqfoz1po5nHiyzRmNVgOW_CjiWs\n",
      "Published concept to http://purl.org/np/RAS5YybkJDH1go2SOQBqfoz1po5nHiyzRmNVgOW_CjiWs#fairstepprov\n",
      "Published to http://purl.org/np/RA7UtS-evZuhRiXnBVfCHElgzbnqAn3p7Sfyuuwh7bvP8\n",
      "Published concept to http://purl.org/np/RA7UtS-evZuhRiXnBVfCHElgzbnqAn3p7Sfyuuwh7bvP8#fairstepprov\n",
      "Published to http://purl.org/np/RAwoC5X6IiDrlsKS_ilgNN_DVGrr2THL30DeElETlC_ac\n",
      "Published concept to http://purl.org/np/RAwoC5X6IiDrlsKS_ilgNN_DVGrr2THL30DeElETlC_ac#fairstepprov\n",
      "Published to http://purl.org/np/RACERKeebWRMrV3-i0rgYGWtE3-7AGIVfHmWs8Gl34Zro\n",
      "Published concept to http://purl.org/np/RACERKeebWRMrV3-i0rgYGWtE3-7AGIVfHmWs8Gl34Zro#fairstepprov\n",
      "Published to http://purl.org/np/RAoV5hX_Hz9Ce_hJtmYNxGAqzrfM45KzokI_Pdr8HOAgQ\n",
      "Published concept to http://purl.org/np/RAoV5hX_Hz9Ce_hJtmYNxGAqzrfM45KzokI_Pdr8HOAgQ#fairworkflowprov\n"
     ]
    },
    {
     "data": {
      "text/plain": [
       "{'nanopub_uri': 'http://purl.org/np/RAoV5hX_Hz9Ce_hJtmYNxGAqzrfM45KzokI_Pdr8HOAgQ',\n",
       " 'concept_uri': 'http://purl.org/np/RAoV5hX_Hz9Ce_hJtmYNxGAqzrfM45KzokI_Pdr8HOAgQ#fairworkflowprov'}"
      ]
     },
     "execution_count": 16,
     "metadata": {},
     "output_type": "execute_result"
    }
   ],
   "source": [
    "prov.publish_as_nanopub(use_test_server=True)"
   ]
  },
  {
   "cell_type": "markdown",
   "id": "everyday-wonder",
   "metadata": {},
   "source": [
    "The last nanopub (whose URI ends in #fairworkflowprov) contains the links to all of the individual step retrospective provenances."
   ]
  },
  {
   "cell_type": "markdown",
   "id": "colored-integrity",
   "metadata": {},
   "source": [
    "## Provide semantic annotations for input and output variables\n",
    "If you wish to specify semantic types for the inputs/outputs to a step, you can do so in the arguments to the decorator.\n",
    "For example, if you have an input parameter 'a', you can write a='http://www.example.org/distance' to assign that (semantic) type to a. As output of functions is not named in python, you can specify the same but with 'out1', 'out2' etc. See the following example:"
   ]
  },
  {
   "cell_type": "code",
   "execution_count": 16,
   "id": "capital-oracle",
   "metadata": {},
   "outputs": [],
   "source": [
    "@is_fairstep(label='Addition', a='http://www.example.org/distance', returns='http://www.example.org/mass')\n",
    "def add(a:float, b:float) -> float:\n",
    "    return a + b"
   ]
  },
  {
   "cell_type": "markdown",
   "id": "stone-desire",
   "metadata": {},
   "source": [
    "If we now look at the RDF generated for the step, we will see that input parameter 'a' and the step output ('out1') both have the (additional) semantic types specified."
   ]
  },
  {
   "cell_type": "code",
   "execution_count": 17,
   "id": "sunset-crime",
   "metadata": {},
   "outputs": [
    {
     "name": "stdout",
     "output_type": "stream",
     "text": [
      "Step URI = http://www.example.org/unpublished-add\n",
      "@prefix bpmn: <http://dkm.fbk.eu/index.php/BPMN2_Ontology#> .\n",
      "@prefix dc: <http://purl.org/dc/terms/> .\n",
      "@prefix owl: <http://www.w3.org/2002/07/owl#> .\n",
      "@prefix pplan: <http://purl.org/net/p-plan#> .\n",
      "@prefix rdfs: <http://www.w3.org/2000/01/rdf-schema#> .\n",
      "@prefix schema: <https://schema.org/> .\n",
      "\n",
      "_:N55c6db2a96b4414499dd088141690acb {\n",
      "    [] a bpmn:ScriptTask,\n",
      "            pplan:Step ;\n",
      "        rdfs:label \"Addition\" ;\n",
      "        dc:description \"\"\"@is_fairstep(label='Addition', a='http://www.example.org/distance', returns='http://www.example.org/mass')\n",
      "def add(a:float, b:float) -> float:\n",
      "    return a + b\n",
      "\"\"\" ;\n",
      "        dc:language [ a schema:ComputerLanguage ;\n",
      "                rdfs:label \"python\" ;\n",
      "                rdfs:seeAlso <https://www.wikidata.org/wiki/Q28865> ;\n",
      "                owl:versionInfo \"3.7.9.final.0\" ] ;\n",
      "        pplan:hasInputVar [ a pplan:Variable,\n",
      "                    <http://www.example.org/distance> ;\n",
      "                rdfs:label \"a\" ;\n",
      "                rdfs:comment \"float\" ],\n",
      "            [ a pplan:Variable ;\n",
      "                rdfs:label \"b\" ;\n",
      "                rdfs:comment \"float\" ] ;\n",
      "        pplan:hasOutputVar [ a pplan:Variable,\n",
      "                    <http://www.example.org/mass> ;\n",
      "                rdfs:label \"out1\" ;\n",
      "                rdfs:comment \"float\" ] .\n",
      "}\n",
      "\n",
      "\n"
     ]
    }
   ],
   "source": [
    "# ACTIONS:\n",
    "# Add language and version to nanopubs (i.e. what the description is written in)\n",
    "print(add._fairstep)"
   ]
  },
  {
   "cell_type": "markdown",
   "id": "scenic-appendix",
   "metadata": {},
   "source": [
    "### Specify more than one semantic type for a parameter\n",
    "You can provide a list of URIs if you want to specify several semantic types for e.g. parameter 'a':"
   ]
  },
  {
   "cell_type": "code",
   "execution_count": 18,
   "id": "blond-communist",
   "metadata": {},
   "outputs": [],
   "source": [
    "@is_fairstep(label='Addition', a=['http://www.example.org/distance', 'http://www.example.org/number'])\n",
    "def another_step(a:float, b:float) -> float:\n",
    "    \"\"\"Add two numbers together\"\"\"\n",
    "    return a + b"
   ]
  },
  {
   "cell_type": "code",
   "execution_count": 19,
   "id": "challenging-responsibility",
   "metadata": {},
   "outputs": [
    {
     "name": "stdout",
     "output_type": "stream",
     "text": [
      "Step URI = http://www.example.org/unpublished-another_step\n",
      "@prefix bpmn: <http://dkm.fbk.eu/index.php/BPMN2_Ontology#> .\n",
      "@prefix dc: <http://purl.org/dc/terms/> .\n",
      "@prefix owl: <http://www.w3.org/2002/07/owl#> .\n",
      "@prefix pplan: <http://purl.org/net/p-plan#> .\n",
      "@prefix rdfs: <http://www.w3.org/2000/01/rdf-schema#> .\n",
      "@prefix schema: <https://schema.org/> .\n",
      "\n",
      "_:Nab534dffa6f1415cbbd25881f8d8e11d {\n",
      "    [] a bpmn:ScriptTask,\n",
      "            pplan:Step ;\n",
      "        rdfs:label \"Addition\" ;\n",
      "        dc:description \"\"\"@is_fairstep(label='Addition', a=['http://www.example.org/distance', 'http://www.example.org/number'])\n",
      "def another_step(a:float, b:float) -> float:\n",
      "    \\\"\\\"\\\"Add two numbers together\\\"\\\"\\\"\n",
      "    return a + b\n",
      "\"\"\" ;\n",
      "        dc:language [ a schema:ComputerLanguage ;\n",
      "                rdfs:label \"python\" ;\n",
      "                rdfs:seeAlso <https://www.wikidata.org/wiki/Q28865> ;\n",
      "                owl:versionInfo \"3.7.9.final.0\" ] ;\n",
      "        pplan:hasInputVar [ a pplan:Variable,\n",
      "                    <http://www.example.org/distance>,\n",
      "                    <http://www.example.org/number> ;\n",
      "                rdfs:label \"a\" ;\n",
      "                rdfs:comment \"float\" ],\n",
      "            [ a pplan:Variable ;\n",
      "                rdfs:label \"b\" ;\n",
      "                rdfs:comment \"float\" ] ;\n",
      "        pplan:hasOutputVar [ a pplan:Variable ;\n",
      "                rdfs:label \"out1\" ;\n",
      "                rdfs:comment \"float\" ] .\n",
      "}\n",
      "\n",
      "\n"
     ]
    }
   ],
   "source": [
    "print(another_step._fairstep)"
   ]
  },
  {
   "cell_type": "markdown",
   "id": "analyzed-motel",
   "metadata": {},
   "source": [
    "You can check the programming language that was used for writing the step:"
   ]
  },
  {
   "cell_type": "code",
   "execution_count": 19,
   "id": "arbitrary-philippines",
   "metadata": {},
   "outputs": [
    {
     "name": "stdout",
     "output_type": "stream",
     "text": [
      "LinguisticSystem with type=https://schema.org/ComputerLanguage, label=python, seeAlso=https://www.wikidata.org/wiki/Q28865, versionInfo=3.7.9.final.0\n"
     ]
    }
   ],
   "source": [
    "print(another_step._fairstep.language)"
   ]
  },
  {
   "cell_type": "markdown",
   "id": "brilliant-composition",
   "metadata": {},
   "source": [
    "## Semantic types for function producing multiple outputs\n",
    "Provide 'out' with a tuple of the same length as the number of function outputs. You can use None for any you do not wish to assign a particular semantic type to."
   ]
  },
  {
   "cell_type": "code",
   "execution_count": 20,
   "id": "ready-geneva",
   "metadata": {},
   "outputs": [],
   "source": [
    "from typing import Tuple\n",
    "@is_fairstep(label='Addition and subtraction', returns=('http://www.example.org/distance', 'http://www.example.org/number'))\n",
    "def another_step(a:float, b:float) -> Tuple[float, float]:\n",
    "    return a + b, a - b"
   ]
  },
  {
   "cell_type": "code",
   "execution_count": 21,
   "id": "disturbed-seven",
   "metadata": {},
   "outputs": [
    {
     "name": "stdout",
     "output_type": "stream",
     "text": [
      "Step URI = http://www.example.org/unpublished-another_step\n",
      "@prefix bpmn: <http://dkm.fbk.eu/index.php/BPMN2_Ontology#> .\n",
      "@prefix dc: <http://purl.org/dc/terms/> .\n",
      "@prefix owl: <http://www.w3.org/2002/07/owl#> .\n",
      "@prefix pplan: <http://purl.org/net/p-plan#> .\n",
      "@prefix rdfs: <http://www.w3.org/2000/01/rdf-schema#> .\n",
      "@prefix schema: <https://schema.org/> .\n",
      "\n",
      "_:N1345fcd9251f4f8b86ee8e59bbab507d {\n",
      "    [] a bpmn:ScriptTask,\n",
      "            pplan:Step ;\n",
      "        rdfs:label \"Addition and subtraction\" ;\n",
      "        dc:description \"\"\"@is_fairstep(label='Addition and subtraction', returns=('http://www.example.org/distance', 'http://www.example.org/number'))\n",
      "def another_step(a:float, b:float) -> Tuple[float, float]:\n",
      "    return a + b, a - b\n",
      "\"\"\" ;\n",
      "        dc:language [ a schema:ComputerLanguage ;\n",
      "                rdfs:label \"python\" ;\n",
      "                rdfs:seeAlso <https://www.wikidata.org/wiki/Q28865> ;\n",
      "                owl:versionInfo \"3.7.9.final.0\" ] ;\n",
      "        pplan:hasInputVar [ a pplan:Variable ;\n",
      "                rdfs:label \"a\" ;\n",
      "                rdfs:comment \"float\" ],\n",
      "            [ a pplan:Variable ;\n",
      "                rdfs:label \"b\" ;\n",
      "                rdfs:comment \"float\" ] ;\n",
      "        pplan:hasOutputVar [ a pplan:Variable,\n",
      "                    <http://www.example.org/distance> ;\n",
      "                rdfs:label \"out1\" ;\n",
      "                rdfs:comment \"float\" ],\n",
      "            [ a pplan:Variable,\n",
      "                    <http://www.example.org/number> ;\n",
      "                rdfs:label \"out2\" ;\n",
      "                rdfs:comment \"float\" ] .\n",
      "}\n",
      "\n",
      "\n"
     ]
    }
   ],
   "source": [
    "print(another_step._fairstep)"
   ]
  },
  {
   "cell_type": "markdown",
   "id": "failing-standard",
   "metadata": {},
   "source": [
    "As before, you may provide a list of URIs for each output. If you do not want to provide semantic types for a particular output, simply pass None:"
   ]
  },
  {
   "cell_type": "code",
   "execution_count": 22,
   "id": "pressing-houston",
   "metadata": {},
   "outputs": [],
   "source": [
    "from typing import Tuple\n",
    "@is_fairstep(label='Addition and subtraction', returns=(['http://www.example.org/distance', 'http://www.example.org/number'], None))\n",
    "def another_step(a:float, b:float) -> Tuple[float, float]:\n",
    "    \"\"\"This step returns an addition and a subtraction of its inputs\"\"\"\n",
    "    return a + b, a - b"
   ]
  },
  {
   "cell_type": "code",
   "execution_count": 23,
   "id": "impaired-element",
   "metadata": {},
   "outputs": [
    {
     "name": "stdout",
     "output_type": "stream",
     "text": [
      "Step URI = http://www.example.org/unpublished-another_step\n",
      "@prefix bpmn: <http://dkm.fbk.eu/index.php/BPMN2_Ontology#> .\n",
      "@prefix dc: <http://purl.org/dc/terms/> .\n",
      "@prefix owl: <http://www.w3.org/2002/07/owl#> .\n",
      "@prefix pplan: <http://purl.org/net/p-plan#> .\n",
      "@prefix rdfs: <http://www.w3.org/2000/01/rdf-schema#> .\n",
      "@prefix schema: <https://schema.org/> .\n",
      "\n",
      "_:Nd65e996b1d9546a4899eaff4131e159f {\n",
      "    [] a bpmn:ScriptTask,\n",
      "            pplan:Step ;\n",
      "        rdfs:label \"Addition and subtraction\" ;\n",
      "        dc:description \"\"\"@is_fairstep(label='Addition and subtraction', returns=(['http://www.example.org/distance', 'http://www.example.org/number'], None))\n",
      "def another_step(a:float, b:float) -> Tuple[float, float]:\n",
      "    \\\"\\\"\\\"This step returns an addition and a subtraction of its inputs\\\"\\\"\\\"\n",
      "    return a + b, a - b\n",
      "\"\"\" ;\n",
      "        dc:language [ a schema:ComputerLanguage ;\n",
      "                rdfs:label \"python\" ;\n",
      "                rdfs:seeAlso <https://www.wikidata.org/wiki/Q28865> ;\n",
      "                owl:versionInfo \"3.7.9.final.0\" ] ;\n",
      "        pplan:hasInputVar [ a pplan:Variable ;\n",
      "                rdfs:label \"a\" ;\n",
      "                rdfs:comment \"float\" ],\n",
      "            [ a pplan:Variable ;\n",
      "                rdfs:label \"b\" ;\n",
      "                rdfs:comment \"float\" ] ;\n",
      "        pplan:hasOutputVar [ a pplan:Variable,\n",
      "                    <http://www.example.org/distance>,\n",
      "                    <http://www.example.org/number> ;\n",
      "                rdfs:label \"out1\" ;\n",
      "                rdfs:comment \"float\" ],\n",
      "            [ a pplan:Variable ;\n",
      "                rdfs:label \"out2\" ;\n",
      "                rdfs:comment \"float\" ] .\n",
      "}\n",
      "\n",
      "\n"
     ]
    }
   ],
   "source": [
    "print(another_step._fairstep)"
   ]
  },
  {
   "cell_type": "code",
   "execution_count": null,
   "id": "neural-commissioner",
   "metadata": {},
   "outputs": [],
   "source": []
  }
 ],
 "metadata": {
  "kernelspec": {
   "display_name": "Python 3",
   "language": "python",
   "name": "python3"
  },
  "language_info": {
   "codemirror_mode": {
    "name": "ipython",
    "version": 3
   },
   "file_extension": ".py",
   "mimetype": "text/x-python",
   "name": "python",
   "nbconvert_exporter": "python",
   "pygments_lexer": "ipython3",
   "version": "3.7.9"
  }
 },
 "nbformat": 4,
 "nbformat_minor": 5
}
