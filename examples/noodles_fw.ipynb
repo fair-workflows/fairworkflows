{
 "cells": [
  {
   "cell_type": "markdown",
   "id": "greatest-portland",
   "metadata": {},
   "source": [
    "# FairWorkflows execution demo"
   ]
  },
  {
   "cell_type": "markdown",
   "id": "hawaiian-colon",
   "metadata": {},
   "source": [
    "## Define the steps of your workflow\n",
    "Each step should be its own function. Mark the function as such with the @fairstep decorator."
   ]
  },
  {
   "cell_type": "code",
   "execution_count": 1,
   "id": "criminal-cleaners",
   "metadata": {},
   "outputs": [],
   "source": [
    "from fairworkflows import is_fairworkflow, is_fairstep, FairStep, FairWorkflow"
   ]
  },
  {
   "cell_type": "code",
   "execution_count": 2,
   "id": "english-participation",
   "metadata": {},
   "outputs": [],
   "source": [
    "@is_fairstep(label='Addition')\n",
    "def add(a:float, b:float) -> float:\n",
    "    \"\"\"Adding up numbers!\"\"\"\n",
    "    return a + b"
   ]
  },
  {
   "cell_type": "code",
   "execution_count": 3,
   "id": "bound-greensboro",
   "metadata": {},
   "outputs": [],
   "source": [
    "@is_fairstep(label='Subtraction')\n",
    "def sub(a: float, b: float) -> float:\n",
    "    \"\"\"Subtracting numbers.\"\"\"\n",
    "    return a - b"
   ]
  },
  {
   "cell_type": "code",
   "execution_count": 4,
   "id": "dietary-stroke",
   "metadata": {},
   "outputs": [],
   "source": [
    "@is_fairstep(label='Multiplication')\n",
    "def mul(a: float, b: float) -> float:\n",
    "    \"\"\"Multiplying numbers.\"\"\"\n",
    "    return a * b"
   ]
  },
  {
   "cell_type": "code",
   "execution_count": 5,
   "id": "positive-profession",
   "metadata": {},
   "outputs": [],
   "source": [
    "@is_fairstep(label='A strange step with little use')\n",
    "def weird(a: float, b:float) -> float:\n",
    "    \"\"\"A weird function\"\"\"\n",
    "    return a * 2 + b * 4\n",
    "    "
   ]
  },
  {
   "cell_type": "markdown",
   "id": "orange-gothic",
   "metadata": {},
   "source": [
    "## Define your workflow using @fairworkflow\n",
    "Now write a function which describes your workflow. Mark this function with the @fairworkflow decorator."
   ]
  },
  {
   "cell_type": "code",
   "execution_count": 9,
   "id": "weighted-operation",
   "metadata": {},
   "outputs": [],
   "source": [
    "@is_fairworkflow(label='My Workflow')\n",
    "def my_workflow(in1, in2, in3):\n",
    "    \"\"\"\n",
    "    A simple addition, subtraction, multiplication workflow\n",
    "    \"\"\"\n",
    "    t1 = add(in1, in2)\n",
    "    t2 = sub(in1, in2)\n",
    "    t3 = mul(weird(t1, in3), t2)\n",
    "    return t3"
   ]
  },
  {
   "cell_type": "markdown",
   "id": "clinical-mobile",
   "metadata": {},
   "source": [
    "## Create an instance of your workflow and display it"
   ]
  },
  {
   "cell_type": "code",
   "execution_count": 10,
   "id": "worst-reply",
   "metadata": {},
   "outputs": [
    {
     "data": {
      "text/plain": [
       "fairworkflows.fairworkflow.FairWorkflow"
      ]
     },
     "execution_count": 10,
     "metadata": {},
     "output_type": "execute_result"
    }
   ],
   "source": [
    "fw = FairWorkflow.from_function(my_workflow)\n",
    "type(fw)"
   ]
  },
  {
   "cell_type": "code",
   "execution_count": 11,
   "id": "working-hearing",
   "metadata": {},
   "outputs": [
    {
     "name": "stdout",
     "output_type": "stream",
     "text": [
      "Workflow URI = None\n",
      "@prefix ns1: <http://purl.org/dc/terms/> .\n",
      "@prefix pplan: <http://purl.org/net/p-plan#> .\n",
      "@prefix rdfs: <http://www.w3.org/2000/01/rdf-schema#> .\n",
      "\n",
      "_:N8debcd32a01c44bf96071a7521751bcf {\n",
      "    [] a pplan:Plan ;\n",
      "        rdfs:label \"My Workflow\" ;\n",
      "        ns1:description \"\"\"@is_fairworkflow(label='My Workflow')\n",
      "def my_workflow(in1, in2, in3):\n",
      "    \\\"\\\"\\\"\n",
      "    A simple addition, subtraction, multiplication workflow\n",
      "    \\\"\\\"\\\"\n",
      "    t1 = add(in1, in2)\n",
      "    t2 = sub(in1, in2)\n",
      "    t3 = mul(weird(t1, in3), t2)\n",
      "    return t3\n",
      "\"\"\" .\n",
      "}\n",
      "\n",
      "\n"
     ]
    }
   ],
   "source": [
    "print(fw)"
   ]
  },
  {
   "cell_type": "markdown",
   "id": "capable-occasion",
   "metadata": {},
   "source": [
    "## Publish the (prospective) workflow\n",
    "You may publish the workflow, and its steps, as nanopublications in the usual manner:"
   ]
  },
  {
   "cell_type": "code",
   "execution_count": 12,
   "id": "senior-badge",
   "metadata": {},
   "outputs": [],
   "source": [
    "#fw.publish_as_nanopub()"
   ]
  },
  {
   "cell_type": "markdown",
   "id": "polyphonic-capability",
   "metadata": {},
   "source": [
    "Be warned though - the above will keep publishing to the 'real' nanopub server network. For testing you may prefer to publish to the test servers as follows (note that this will refuse to publish a workflow you have already published :"
   ]
  },
  {
   "cell_type": "code",
   "execution_count": 13,
   "id": "quick-gothic",
   "metadata": {},
   "outputs": [
    {
     "name": "stdout",
     "output_type": "stream",
     "text": [
      "Published to http://purl.org/np/RArXfC72LtqYAYT-_v93KOBWxHdJTUlgofCuhFN6aA7Cg\n",
      "Published concept to http://purl.org/np/RArXfC72LtqYAYT-_v93KOBWxHdJTUlgofCuhFN6aA7Cg#plan\n"
     ]
    },
    {
     "data": {
      "text/plain": [
       "{'nanopub_uri': 'http://purl.org/np/RArXfC72LtqYAYT-_v93KOBWxHdJTUlgofCuhFN6aA7Cg',\n",
       " 'concept_uri': 'http://purl.org/np/RArXfC72LtqYAYT-_v93KOBWxHdJTUlgofCuhFN6aA7Cg#plan'}"
      ]
     },
     "execution_count": 13,
     "metadata": {},
     "output_type": "execute_result"
    }
   ],
   "source": [
    "fw.publish_as_nanopub(use_test_server=True)"
   ]
  },
  {
   "cell_type": "markdown",
   "id": "built-warren",
   "metadata": {},
   "source": [
    "You can then find your nanopublications by replacing the base of the URI with http://test-server.nanopubs.lod.labs.vu.nl/"
   ]
  },
  {
   "cell_type": "markdown",
   "id": "hybrid-stuff",
   "metadata": {},
   "source": [
    "## Execute your workflow using .execute()\n",
    "Set num_threads greater than 1 if you wish to exploit parallelisation in your workflow. The retrospective provenance is also returned as a (nano) Publication object, that can optionally be published."
   ]
  },
  {
   "cell_type": "code",
   "execution_count": 14,
   "id": "french-disposal",
   "metadata": {},
   "outputs": [
    {
     "data": {
      "text/plain": [
       "-66"
      ]
     },
     "execution_count": 14,
     "metadata": {},
     "output_type": "execute_result"
    }
   ],
   "source": [
    "result, prov = fw.execute(1, 4, 3)\n",
    "result"
   ]
  },
  {
   "cell_type": "markdown",
   "id": "french-entrepreneur",
   "metadata": {},
   "source": [
    " ## Retrospective prov\n",
    " The retrospective prov object is not yet implemented, pending one of the RDF tasks set out in the planning document. For now, you may see simply the provenance trace for this run. We wish to turn this into a (Plex) RDF nanopublication:\n",
    " \n",
    "THIS IS BROKEN, WILL BE FIXED IN #168"
   ]
  },
  {
   "cell_type": "code",
   "execution_count": 15,
   "id": "sonic-causing",
   "metadata": {},
   "outputs": [
    {
     "data": {
      "text/plain": [
       "nanopub.publication.Publication"
      ]
     },
     "execution_count": 15,
     "metadata": {},
     "output_type": "execute_result"
    }
   ],
   "source": [
    "type(prov)"
   ]
  },
  {
   "cell_type": "code",
   "execution_count": 16,
   "id": "organizational-antarctica",
   "metadata": {},
   "outputs": [
    {
     "name": "stdout",
     "output_type": "stream",
     "text": [
      "Original source URI = None\n",
      "@prefix : <http://purl.org/nanopub/temp/mynanopub#> .\n",
      "@prefix np: <http://www.nanopub.org/nschema#> .\n",
      "@prefix prov: <http://www.w3.org/ns/prov#> .\n",
      "@prefix rdfs: <http://www.w3.org/2000/01/rdf-schema#> .\n",
      "@prefix xsd: <http://www.w3.org/2001/XMLSchema#> .\n",
      "\n",
      ":provenance {\n",
      "    :assertion prov:generatedAtTime \"2021-02-09T11:56:08.499705\"^^xsd:dateTime .\n",
      "}\n",
      "\n",
      ":pubInfo {\n",
      "    : prov:generatedAtTime \"2021-02-09T11:56:08.499705\"^^xsd:dateTime ;\n",
      "        prov:wasAttributedTo <https://orcid.org/0000-0000-0000-0000> .\n",
      "}\n",
      "\n",
      ":Head {\n",
      "    : a np:Nanopublication ;\n",
      "        np:hasAssertion :assertion ;\n",
      "        np:hasProvenance :provenance ;\n",
      "        np:hasPublicationInfo :pubInfo .\n",
      "}\n",
      "\n",
      ":assertion {\n",
      "    :retroprov a prov:Activity ;\n",
      "        rdfs:label \"\" ;\n",
      "        prov:wasDerivedFrom <http://purl.org/np/RArXfC72LtqYAYT-_v93KOBWxHdJTUlgofCuhFN6aA7Cg#plan> .\n",
      "}\n",
      "\n",
      "\n"
     ]
    }
   ],
   "source": [
    "print(prov)"
   ]
  },
  {
   "cell_type": "markdown",
   "id": "adjusted-eugene",
   "metadata": {},
   "source": [
    "### Provide semantic annotations for input and output variables\n",
    "If you wish to specify semantic types for the inputs/outputs to a step, you can do so in the arguments to the decorator.\n",
    "For example, if you have an input parameter 'a', you can write a='http://www.example.org/distance' to assign that (semantic) type to a. As output of functions is not named in python, you can specify the same but with 'out1', 'out2' etc. See the following example:"
   ]
  },
  {
   "cell_type": "code",
   "execution_count": 17,
   "id": "difficult-valuable",
   "metadata": {},
   "outputs": [],
   "source": [
    "@is_fairstep(label='Addition', a='http://www.example.org/distance', returns='http://www.example.org/mass')\n",
    "def add(a:float, b:float) -> float:\n",
    "    return a + b"
   ]
  },
  {
   "cell_type": "markdown",
   "id": "alone-clone",
   "metadata": {},
   "source": [
    "If we now look at the RDF generated for the step, we will see that input parameter 'a' and the step output ('out1') both have the (additional) semantic types specified."
   ]
  },
  {
   "cell_type": "code",
   "execution_count": 18,
   "id": "enabling-printing",
   "metadata": {},
   "outputs": [
    {
     "name": "stdout",
     "output_type": "stream",
     "text": [
      "Step URI = http://www.example.org/unpublished-add\n",
      "@prefix bpmn: <http://dkm.fbk.eu/index.php/BPMN2_Ontology#> .\n",
      "@prefix pplan: <http://purl.org/net/p-plan#> .\n",
      "@prefix rdfs: <http://www.w3.org/2000/01/rdf-schema#> .\n",
      "@prefix schema: <https://schema.org/> .\n",
      "\n",
      "_:Ndeffc94ed0864503a93f312204ec3ef4 {\n",
      "    [] a bpmn:ScriptTask,\n",
      "            pplan:Step ;\n",
      "        rdfs:label \"Addition\" ;\n",
      "        pplan:hasInputVar [ a pplan:Variable,\n",
      "                    <http://www.example.org/distance> ;\n",
      "                rdfs:label \"a\" ;\n",
      "                rdfs:comment \"float\" ],\n",
      "            [ a pplan:Variable ;\n",
      "                rdfs:label \"b\" ;\n",
      "                rdfs:comment \"float\" ] ;\n",
      "        pplan:hasOutputVar [ a pplan:Variable,\n",
      "                    <http://www.example.org/mass> ;\n",
      "                rdfs:label \"out1\" ;\n",
      "                rdfs:comment \"float\" ] ;\n",
      "        schema:SoftwareSourceCode [ schema:programmingLanguage \"python 3.8.6\" ;\n",
      "                schema:text \"\"\"@is_fairstep(label='Addition', a='http://www.example.org/distance', returns='http://www.example.org/mass')\n",
      "def add(a:float, b:float) -> float:\n",
      "    return a + b\n",
      "\"\"\" ] .\n",
      "}\n",
      "\n",
      "\n"
     ]
    }
   ],
   "source": [
    "# ACTIONS:\n",
    "# Add language and version to nanopubs (i.e. what the description is written in)\n",
    "print(add._fairstep)"
   ]
  },
  {
   "cell_type": "markdown",
   "id": "numeric-fraction",
   "metadata": {},
   "source": [
    "### Specify more than one semantic type for a parameter\n",
    "You can provide a list of URIs if you want to specify several semantic types for e.g. parameter 'a':"
   ]
  },
  {
   "cell_type": "code",
   "execution_count": 19,
   "id": "textile-prayer",
   "metadata": {},
   "outputs": [],
   "source": [
    "@is_fairstep(label='Addition', a=['http://www.example.org/distance', 'http://www.example.org/number'])\n",
    "def another_step(a:float, b:float) -> float:\n",
    "    \"\"\"Add two numbers together\"\"\"\n",
    "    return a + b"
   ]
  },
  {
   "cell_type": "code",
   "execution_count": 20,
   "id": "documented-prophet",
   "metadata": {},
   "outputs": [
    {
     "name": "stdout",
     "output_type": "stream",
     "text": [
      "Step URI = http://www.example.org/unpublished-another_step\n",
      "@prefix bpmn: <http://dkm.fbk.eu/index.php/BPMN2_Ontology#> .\n",
      "@prefix ns1: <http://purl.org/dc/terms/> .\n",
      "@prefix pplan: <http://purl.org/net/p-plan#> .\n",
      "@prefix rdfs: <http://www.w3.org/2000/01/rdf-schema#> .\n",
      "@prefix schema: <https://schema.org/> .\n",
      "\n",
      "_:N0d1f7767ca63487b8c06fd9d6e923b44 {\n",
      "    [] a bpmn:ScriptTask,\n",
      "            pplan:Step ;\n",
      "        rdfs:label \"Addition\" ;\n",
      "        ns1:description \"Add two numbers together\" ;\n",
      "        pplan:hasInputVar [ a pplan:Variable,\n",
      "                    <http://www.example.org/distance>,\n",
      "                    <http://www.example.org/number> ;\n",
      "                rdfs:label \"a\" ;\n",
      "                rdfs:comment \"float\" ],\n",
      "            [ a pplan:Variable ;\n",
      "                rdfs:label \"b\" ;\n",
      "                rdfs:comment \"float\" ] ;\n",
      "        pplan:hasOutputVar [ a pplan:Variable ;\n",
      "                rdfs:label \"out1\" ;\n",
      "                rdfs:comment \"float\" ] ;\n",
      "        schema:SoftwareSourceCode [ schema:programmingLanguage \"python 3.8.6\" ;\n",
      "                schema:text \"\"\"@is_fairstep(label='Addition', a=['http://www.example.org/distance', 'http://www.example.org/number'])\n",
      "def another_step(a:float, b:float) -> float:\n",
      "    \\\"\\\"\\\"Add two numbers together\\\"\\\"\\\"\n",
      "    return a + b\n",
      "\"\"\" ] .\n",
      "}\n",
      "\n",
      "\n"
     ]
    }
   ],
   "source": [
    "print(another_step._fairstep)"
   ]
  },
  {
   "cell_type": "markdown",
   "id": "binding-salon",
   "metadata": {},
   "source": [
    "You can check the programming language that was used for writing the step:"
   ]
  },
  {
   "cell_type": "code",
   "execution_count": 23,
   "id": "prime-monroe",
   "metadata": {},
   "outputs": [
    {
     "data": {
      "text/plain": [
       "'python 3.8.6'"
      ]
     },
     "execution_count": 23,
     "metadata": {},
     "output_type": "execute_result"
    }
   ],
   "source": [
    "another_step._fairstep.programming_language"
   ]
  },
  {
   "cell_type": "markdown",
   "id": "statutory-waste",
   "metadata": {},
   "source": [
    "## Semantic types for function producing multiple outputs\n",
    "Provide 'out' with a tuple of the same length as the number of function outputs. You can use None for any you do not wish to assign a particular semantic type to."
   ]
  },
  {
   "cell_type": "code",
   "execution_count": 18,
   "id": "frequent-stanford",
   "metadata": {},
   "outputs": [],
   "source": [
    "from typing import Tuple\n",
    "@is_fairstep(label='Addition and subtraction', returns=('http://www.example.org/distance', 'http://www.example.org/number'))\n",
    "def another_step(a:float, b:float) -> Tuple[float, float]:\n",
    "    return a + b, a - b"
   ]
  },
  {
   "cell_type": "code",
   "execution_count": 19,
   "id": "russian-removal",
   "metadata": {},
   "outputs": [
    {
     "name": "stdout",
     "output_type": "stream",
     "text": [
      "Step URI = http://www.example.org/unpublished-another_step\n",
      "@prefix bpmn: <http://dkm.fbk.eu/index.php/BPMN2_Ontology#> .\n",
      "@prefix pplan: <http://purl.org/net/p-plan#> .\n",
      "@prefix rdfs: <http://www.w3.org/2000/01/rdf-schema#> .\n",
      "@prefix schema: <https://schema.org/> .\n",
      "\n",
      "_:N5eacfe45c1cd43abae42457dcf83cfdc {\n",
      "    [] a bpmn:ScriptTask,\n",
      "            pplan:Step ;\n",
      "        rdfs:label \"Addition and subtraction\" ;\n",
      "        pplan:hasInputVar [ a pplan:Variable ;\n",
      "                rdfs:label \"a\" ;\n",
      "                rdfs:comment \"float\" ],\n",
      "            [ a pplan:Variable ;\n",
      "                rdfs:label \"b\" ;\n",
      "                rdfs:comment \"float\" ] ;\n",
      "        pplan:hasOutputVar [ a pplan:Variable,\n",
      "                    <http://www.example.org/distance> ;\n",
      "                rdfs:label \"out1\" ;\n",
      "                rdfs:comment \"float\" ],\n",
      "            [ a pplan:Variable,\n",
      "                    <http://www.example.org/number> ;\n",
      "                rdfs:label \"out2\" ;\n",
      "                rdfs:comment \"float\" ] ;\n",
      "        schema:SoftwareSourceCode [ schema:programmingLanguage \"python 3.8.6\" ;\n",
      "                schema:text \"\"\"@is_fairstep(label='Addition and subtraction', returns=('http://www.example.org/distance', 'http://www.example.org/number'))\n",
      "def another_step(a:float, b:float) -> Tuple[float, float]:\n",
      "    return a + b, a - b\n",
      "\"\"\" ] .\n",
      "}\n",
      "\n",
      "\n"
     ]
    }
   ],
   "source": [
    "print(another_step._fairstep)"
   ]
  },
  {
   "cell_type": "markdown",
   "id": "atlantic-moses",
   "metadata": {},
   "source": [
    "As before, you may provide a list of URIs for each output. If you do not want to provide semantic types for a particular output, simply pass None:"
   ]
  },
  {
   "cell_type": "code",
   "execution_count": 2,
   "id": "approximate-cheat",
   "metadata": {},
   "outputs": [],
   "source": [
    "from typing import Tuple\n",
    "@is_fairstep(label='Addition and subtraction', returns=(['http://www.example.org/distance', 'http://www.example.org/number'], None))\n",
    "def another_step(a:float, b:float) -> Tuple[float, float]:\n",
    "    return a + b, a - b"
   ]
  },
  {
   "cell_type": "code",
   "execution_count": 3,
   "id": "spanish-duration",
   "metadata": {},
   "outputs": [
    {
     "name": "stdout",
     "output_type": "stream",
     "text": [
      "Step URI = http://www.example.org/unpublished-another_step\n",
      "@prefix bpmn: <http://dkm.fbk.eu/index.php/BPMN2_Ontology#> .\n",
      "@prefix ns1: <http://purl.org/dc/terms/> .\n",
      "@prefix pplan: <http://purl.org/net/p-plan#> .\n",
      "@prefix rdfs: <http://www.w3.org/2000/01/rdf-schema#> .\n",
      "\n",
      "_:Nfd09bd8a8a4c48a1b2e2e240411aad92 {\n",
      "    [] a bpmn:ScriptTask,\n",
      "            pplan:Step ;\n",
      "        rdfs:label \"Addition and subtraction\" ;\n",
      "        ns1:description \"\"\"@is_fairstep(label='Addition and subtraction', returns=(['http://www.example.org/distance', 'http://www.example.org/number'], None))\n",
      "def another_step(a:float, b:float) -> Tuple[float, float]:\n",
      "    return a + b, a - b\n",
      "\"\"\" ;\n",
      "        pplan:hasInputVar [ a pplan:Variable ;\n",
      "                rdfs:label \"a\" ;\n",
      "                rdfs:comment \"float\" ],\n",
      "            [ a pplan:Variable ;\n",
      "                rdfs:label \"b\" ;\n",
      "                rdfs:comment \"float\" ] ;\n",
      "        pplan:hasOutputVar [ a pplan:Variable,\n",
      "                    <http://www.example.org/distance>,\n",
      "                    <http://www.example.org/number> ;\n",
      "                rdfs:label \"out1\" ;\n",
      "                rdfs:comment \"float\" ],\n",
      "            [ a pplan:Variable ;\n",
      "                rdfs:label \"out2\" ;\n",
      "                rdfs:comment \"float\" ] .\n",
      "}\n",
      "\n",
      "\n"
     ]
    }
   ],
   "source": [
    "print(another_step._fairstep)"
   ]
  },
  {
   "cell_type": "code",
   "execution_count": null,
   "id": "critical-processor",
   "metadata": {},
   "outputs": [],
   "source": []
  }
 ],
 "metadata": {
  "kernelspec": {
   "display_name": "Python 3",
   "language": "python",
   "name": "python3"
  },
  "language_info": {
   "codemirror_mode": {
    "name": "ipython",
    "version": 3
   },
   "file_extension": ".py",
   "mimetype": "text/x-python",
   "name": "python",
   "nbconvert_exporter": "python",
   "pygments_lexer": "ipython3",
   "version": "3.8.6"
  }
 },
 "nbformat": 4,
 "nbformat_minor": 5
}
