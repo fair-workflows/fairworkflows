{
 "cells": [
  {
   "cell_type": "markdown",
   "metadata": {},
   "source": [
    "# FairWorkflows execution demo"
   ]
  },
  {
   "cell_type": "markdown",
   "metadata": {},
   "source": [
    "## Define the steps of your workflow\n",
    "Each step should be its own function. Mark the function as such with the @fairstep decorator."
   ]
  },
  {
   "cell_type": "code",
   "execution_count": 15,
   "metadata": {},
   "outputs": [],
   "source": [
    "from fairworkflows import is_fairworkflow, is_fairstep, FairWorkflow"
   ]
  },
  {
   "cell_type": "code",
   "execution_count": 16,
   "metadata": {},
   "outputs": [],
   "source": [
    "@is_fairstep(label='Addition')\n",
    "def add(a:float, b:float) -> float:\n",
    "    \"\"\"Adding up numbers!\"\"\"\n",
    "    return a + b"
   ]
  },
  {
   "cell_type": "code",
   "execution_count": 17,
   "metadata": {},
   "outputs": [],
   "source": [
    "@is_fairstep(label='Subtraction')\n",
    "def sub(a: float, b: float) -> float:\n",
    "    \"\"\"Subtracting numbers.\"\"\"\n",
    "    return a - b"
   ]
  },
  {
   "cell_type": "code",
   "execution_count": 18,
   "metadata": {},
   "outputs": [],
   "source": [
    "@is_fairstep(label='Multiplication')\n",
    "def mul(a: float, b: float) -> float:\n",
    "    \"\"\"Multiplying numbers.\"\"\"\n",
    "    return a * b"
   ]
  },
  {
   "cell_type": "code",
   "execution_count": 19,
   "metadata": {},
   "outputs": [],
   "source": [
    "@is_fairstep(label='A strange step with little use')\n",
    "def weird(a: float, b:float) -> float:\n",
    "    \"\"\"A weird function\"\"\"\n",
    "    return a * 2 + b * 4\n",
    "    "
   ]
  },
  {
   "cell_type": "markdown",
   "metadata": {},
   "source": [
    "## Define your workflow using @fairworkflow\n",
    "Now write a function which describes your workflow. Mark this function with the @fairworkflow decorator."
   ]
  },
  {
   "cell_type": "code",
   "execution_count": 20,
   "metadata": {},
   "outputs": [],
   "source": [
    "@is_fairworkflow(label='My Workflow')\n",
    "def my_workflow(in1, in2, in3):\n",
    "    \"\"\"\n",
    "    A simple addition, subtraction, multiplication workflow\n",
    "    \"\"\"\n",
    "    t1 = add(in1, in2)\n",
    "    t2 = sub(in1, in2)\n",
    "    t3 = mul(weird(t1, in3), t2)\n",
    "    return t3"
   ]
  },
  {
   "cell_type": "markdown",
   "metadata": {},
   "source": [
    "## Create an instance of your workflow and display it"
   ]
  },
  {
   "cell_type": "code",
   "execution_count": 21,
   "metadata": {},
   "outputs": [
    {
     "data": {
      "text/plain": [
       "fairworkflows.fairworkflow.FairWorkflow"
      ]
     },
     "execution_count": 21,
     "metadata": {},
     "output_type": "execute_result"
    }
   ],
   "source": [
    "fw = FairWorkflow.from_function(my_workflow)\n",
    "type(fw)"
   ]
  },
  {
   "cell_type": "code",
   "execution_count": 23,
   "metadata": {},
   "outputs": [
    {
     "data": {
      "image/svg+xml": [
       "<svg height=\"218pt\" viewBox=\"0.00 0.00 141.55 218.00\" width=\"142pt\" xmlns=\"http://www.w3.org/2000/svg\" xmlns:xlink=\"http://www.w3.org/1999/xlink\">\n",
       "<g class=\"graph\" id=\"graph0\" transform=\"scale(1 1) rotate(0) translate(4 214)\">\n",
       "<!-- 140641279511128 -->\n",
       "<g class=\"node\" id=\"node1\">\n",
       "<title>140641279511128</title>\n",
       "<ellipse cx=\"68.55\" cy=\"-18\" fill=\"none\" rx=\"27\" ry=\"18\" stroke=\"black\"/>\n",
       "<text font-family=\"Times,serif\" font-size=\"14.00\" text-anchor=\"middle\" x=\"68.55\" y=\"-14.3\">mul</text>\n",
       "</g>\n",
       "<!-- 140641279509952 -->\n",
       "<g class=\"node\" id=\"node2\">\n",
       "<title>140641279509952</title>\n",
       "<ellipse cx=\"30.55\" cy=\"-105\" fill=\"none\" rx=\"30.59\" ry=\"18\" stroke=\"black\"/>\n",
       "<text font-family=\"Times,serif\" font-size=\"14.00\" text-anchor=\"middle\" x=\"30.55\" y=\"-101.3\">weird</text>\n",
       "</g>\n",
       "<!-- 140641279509952&#45;&gt;140641279511128 -->\n",
       "<g class=\"edge\" id=\"edge1\">\n",
       "<title>140641279509952-&gt;140641279511128</title>\n",
       "<path d=\"M38.05,-87.21C43.45,-75.14 50.83,-58.64 56.97,-44.89\" fill=\"none\" stroke=\"black\"/>\n",
       "<polygon fill=\"black\" points=\"60.3,-46.03 61.18,-35.47 53.91,-43.17 60.3,-46.03\" stroke=\"black\"/>\n",
       "<text font-family=\"Times,serif\" font-size=\"14.00\" text-anchor=\"middle\" x=\"56.05\" y=\"-57.8\">a</text>\n",
       "</g>\n",
       "<!-- 140641279510960 -->\n",
       "<g class=\"node\" id=\"node3\">\n",
       "<title>140641279510960</title>\n",
       "<ellipse cx=\"30.55\" cy=\"-192\" fill=\"none\" rx=\"27\" ry=\"18\" stroke=\"black\"/>\n",
       "<text font-family=\"Times,serif\" font-size=\"14.00\" text-anchor=\"middle\" x=\"30.55\" y=\"-188.3\">add</text>\n",
       "</g>\n",
       "<!-- 140641279510960&#45;&gt;140641279509952 -->\n",
       "<g class=\"edge\" id=\"edge2\">\n",
       "<title>140641279510960-&gt;140641279509952</title>\n",
       "<path d=\"M30.55,-173.8C30.55,-162.16 30.55,-146.55 30.55,-133.24\" fill=\"none\" stroke=\"black\"/>\n",
       "<polygon fill=\"black\" points=\"34.05,-133.18 30.55,-123.18 27.05,-133.18 34.05,-133.18\" stroke=\"black\"/>\n",
       "<text font-family=\"Times,serif\" font-size=\"14.00\" text-anchor=\"middle\" x=\"34.05\" y=\"-144.8\">a</text>\n",
       "</g>\n",
       "<!-- 140641279509560 -->\n",
       "<g class=\"node\" id=\"node4\">\n",
       "<title>140641279509560</title>\n",
       "<ellipse cx=\"106.55\" cy=\"-105\" fill=\"none\" rx=\"27\" ry=\"18\" stroke=\"black\"/>\n",
       "<text font-family=\"Times,serif\" font-size=\"14.00\" text-anchor=\"middle\" x=\"106.55\" y=\"-101.3\">sub</text>\n",
       "</g>\n",
       "<!-- 140641279509560&#45;&gt;140641279511128 -->\n",
       "<g class=\"edge\" id=\"edge3\">\n",
       "<title>140641279509560-&gt;140641279511128</title>\n",
       "<path d=\"M99.22,-87.61C93.81,-75.5 86.33,-58.77 80.11,-44.86\" fill=\"none\" stroke=\"black\"/>\n",
       "<polygon fill=\"black\" points=\"83.13,-43.04 75.85,-35.34 76.74,-45.9 83.13,-43.04\" stroke=\"black\"/>\n",
       "<text font-family=\"Times,serif\" font-size=\"14.00\" text-anchor=\"middle\" x=\"93.05\" y=\"-57.8\">b</text>\n",
       "</g>\n",
       "</g>\n",
       "</svg>"
      ],
      "text/plain": [
       "<IPython.core.display.SVG object>"
      ]
     },
     "metadata": {},
     "output_type": "display_data"
    }
   ],
   "source": [
    "fw.display()"
   ]
  },
  {
   "cell_type": "code",
   "execution_count": 24,
   "metadata": {},
   "outputs": [
    {
     "data": {
      "image/svg+xml": [
       "<?xml version=\"1.0\" encoding=\"UTF-8\" standalone=\"no\"?>\n",
       "<!DOCTYPE svg PUBLIC \"-//W3C//DTD SVG 1.1//EN\"\n",
       " \"http://www.w3.org/Graphics/SVG/1.1/DTD/svg11.dtd\">\n",
       "<!-- Generated by graphviz version 2.44.1 (20200629.0846)\n",
       " -->\n",
       "<!-- Pages: 1 -->\n",
       "<svg width=\"2009pt\" height=\"451pt\"\n",
       " viewBox=\"0.00 0.00 2008.50 451.00\" xmlns=\"http://www.w3.org/2000/svg\" xmlns:xlink=\"http://www.w3.org/1999/xlink\">\n",
       "<g id=\"graph0\" class=\"graph\" transform=\"scale(1 1) rotate(0) translate(4 447)\">\n",
       "<polygon fill=\"white\" stroke=\"transparent\" points=\"-4,4 -4,-447 2004.5,-447 2004.5,4 -4,4\"/>\n",
       "<!-- node0 -->\n",
       "<g id=\"node1\" class=\"node\">\n",
       "<title>node0</title>\n",
       "<polygon fill=\"grey\" stroke=\"transparent\" points=\"9,-133.5 9,-152.5 1399,-152.5 1399,-133.5 9,-133.5\"/>\n",
       "<text text-anchor=\"start\" x=\"661.5\" y=\"-140.3\" font-family=\"DejaVu Sans\" font-weight=\"bold\" font-size=\"14.00\">My Workflow</text>\n",
       "<g id=\"a_node1_0\"><a xlink:href=\"plan\" xlink:title=\"&lt;TABLE&gt;\">\n",
       "<polygon fill=\"#eeeeee\" stroke=\"transparent\" points=\"9,-118.5 9,-133.5 1399,-133.5 1399,-118.5 9,-118.5\"/>\n",
       "<text text-anchor=\"start\" x=\"694.5\" y=\"-123.5\" font-family=\"DejaVu Sans\" font-size=\"10.00\" fill=\"#6666ff\">plan</text>\n",
       "</a>\n",
       "</g>\n",
       "<text text-anchor=\"start\" x=\"11\" y=\"-105.3\" font-family=\"DejaVu Sans\" font-size=\"14.00\">ns1:description</text>\n",
       "<text text-anchor=\"start\" x=\"106\" y=\"-105.3\" font-family=\"DejaVu Sans\" font-size=\"14.00\">&quot;@is_fairworkflow(label=&#39;My Workflow&#39;)def my_workflow(in1, in2, in3): &#160;&#160;&#160;&quot;&quot;&quot; &#160;&#160;&#160;A simple addition, subtraction, multiplication workflow &#160;&#160;&#160;&quot;&quot;&quot; &#160;&#160;&#160;t1 = add(in1, in2) &#160;&#160;&#160;t2 = sub(in1, in2) &#160;&#160;&#160;t3 = mul(weird(t1, in3), t2) &#160;&#160;&#160;return t3&quot;</text>\n",
       "<polygon fill=\"none\" stroke=\"#666666\" points=\"8,-99 8,-154 1400,-154 1400,-99 8,-99\"/>\n",
       "</g>\n",
       "<!-- node1 -->\n",
       "<g id=\"node2\" class=\"node\">\n",
       "<title>node1</title>\n",
       "<polygon fill=\"grey\" stroke=\"transparent\" points=\"638,-20 638,-39 771,-39 771,-20 638,-20\"/>\n",
       "<text text-anchor=\"start\" x=\"690\" y=\"-26.8\" font-family=\"DejaVu Sans\" font-weight=\"bold\" font-size=\"14.00\">Plan</text>\n",
       "<g id=\"a_node2_1\"><a xlink:href=\"http://purl.org/net/p-plan#Plan\" xlink:title=\"&lt;TABLE&gt;\">\n",
       "<polygon fill=\"#eeeeee\" stroke=\"transparent\" points=\"638,-5 638,-20 771,-20 771,-5 638,-5\"/>\n",
       "<text text-anchor=\"start\" x=\"640\" y=\"-10\" font-family=\"DejaVu Sans\" font-size=\"10.00\" fill=\"#6666ff\">http://purl.org/net/p&#45;plan#Plan</text>\n",
       "</a>\n",
       "</g>\n",
       "<polygon fill=\"none\" stroke=\"#666666\" points=\"636.5,-4 636.5,-40 771.5,-40 771.5,-4 636.5,-4\"/>\n",
       "</g>\n",
       "<!-- node0&#45;&gt;node1 -->\n",
       "<g id=\"edge1\" class=\"edge\">\n",
       "<title>node0&#45;&gt;node1</title>\n",
       "<path fill=\"none\" stroke=\"BLACK\" d=\"M704,-94.75C704,-82.03 704,-67.3 704,-54.51\"/>\n",
       "<polygon fill=\"BLACK\" stroke=\"BLACK\" points=\"707.5,-54.3 704,-44.3 700.5,-54.3 707.5,-54.3\"/>\n",
       "<text text-anchor=\"start\" x=\"704\" y=\"-66.8\" font-family=\"Times,serif\" font-size=\"14.00\"> </text>\n",
       "<text text-anchor=\"start\" x=\"708\" y=\"-66.8\" font-family=\"Times,serif\" font-size=\"10.00\" fill=\"#336633\">rdf:type</text>\n",
       "<text text-anchor=\"start\" x=\"741\" y=\"-66.8\" font-family=\"Times,serif\" font-size=\"14.00\"> </text>\n",
       "</g>\n",
       "<!-- node2 -->\n",
       "<g id=\"node3\" class=\"node\">\n",
       "<title>node2</title>\n",
       "<polygon fill=\"grey\" stroke=\"transparent\" points=\"484,-419 484,-438 665,-438 665,-419 484,-419\"/>\n",
       "<text text-anchor=\"start\" x=\"520\" y=\"-425.8\" font-family=\"DejaVu Sans\" font-weight=\"bold\" font-size=\"14.00\">unpublished&#45;add</text>\n",
       "<g id=\"a_node3_2\"><a xlink:href=\"http://www.example.org/unpublished-add\" xlink:title=\"&lt;TABLE&gt;\">\n",
       "<polygon fill=\"#eeeeee\" stroke=\"transparent\" points=\"484,-404 484,-419 665,-419 665,-404 484,-404\"/>\n",
       "<text text-anchor=\"start\" x=\"486\" y=\"-409\" font-family=\"DejaVu Sans\" font-size=\"10.00\" fill=\"#6666ff\">http://www.example.org/unpublished&#45;add</text>\n",
       "</a>\n",
       "</g>\n",
       "<polygon fill=\"none\" stroke=\"#666666\" points=\"482.5,-403 482.5,-439 665.5,-439 665.5,-403 482.5,-403\"/>\n",
       "</g>\n",
       "<!-- node2&#45;&gt;node0 -->\n",
       "<g id=\"edge2\" class=\"edge\">\n",
       "<title>node2&#45;&gt;node0</title>\n",
       "<path fill=\"none\" stroke=\"BLACK\" d=\"M566.17,-398.93C556.39,-369.05 543.1,-313.29 562,-271 581.32,-227.79 619.77,-190.23 651.8,-164.39\"/>\n",
       "<polygon fill=\"BLACK\" stroke=\"BLACK\" points=\"654.11,-167.02 659.79,-158.07 649.77,-161.53 654.11,-167.02\"/>\n",
       "<text text-anchor=\"start\" x=\"562\" y=\"-275.8\" font-family=\"Times,serif\" font-size=\"14.00\"> </text>\n",
       "<text text-anchor=\"start\" x=\"566\" y=\"-275.8\" font-family=\"Times,serif\" font-size=\"10.00\" fill=\"#336633\">pplan:isStepOfPlan</text>\n",
       "<text text-anchor=\"start\" x=\"646\" y=\"-275.8\" font-family=\"Times,serif\" font-size=\"14.00\"> </text>\n",
       "</g>\n",
       "<!-- node11 -->\n",
       "<g id=\"node12\" class=\"node\">\n",
       "<title>node11</title>\n",
       "<polygon fill=\"grey\" stroke=\"transparent\" points=\"578,-324 578,-343 766,-343 766,-324 578,-324\"/>\n",
       "<text text-anchor=\"start\" x=\"611.5\" y=\"-330.8\" font-family=\"DejaVu Sans\" font-weight=\"bold\" font-size=\"14.00\">unpublished&#45;weird</text>\n",
       "<g id=\"a_node12_3\"><a xlink:href=\"http://www.example.org/unpublished-weird\" xlink:title=\"&lt;TABLE&gt;\">\n",
       "<polygon fill=\"#eeeeee\" stroke=\"transparent\" points=\"578,-309 578,-324 766,-324 766,-309 578,-309\"/>\n",
       "<text text-anchor=\"start\" x=\"580\" y=\"-314\" font-family=\"DejaVu Sans\" font-size=\"10.00\" fill=\"#6666ff\">http://www.example.org/unpublished&#45;weird</text>\n",
       "</a>\n",
       "</g>\n",
       "<polygon fill=\"none\" stroke=\"#666666\" points=\"577,-308 577,-344 767,-344 767,-308 577,-308\"/>\n",
       "</g>\n",
       "<!-- node2&#45;&gt;node11 -->\n",
       "<g id=\"edge12\" class=\"edge\">\n",
       "<title>node2&#45;&gt;node11</title>\n",
       "<path fill=\"none\" stroke=\"BLACK\" d=\"M596.24,-398.9C609.9,-385.94 627.55,-369.18 642.39,-355.1\"/>\n",
       "<polygon fill=\"BLACK\" stroke=\"BLACK\" points=\"645.01,-357.44 649.85,-348.02 640.19,-352.36 645.01,-357.44\"/>\n",
       "<text text-anchor=\"start\" x=\"629\" y=\"-370.8\" font-family=\"Times,serif\" font-size=\"14.00\"> </text>\n",
       "<text text-anchor=\"start\" x=\"633\" y=\"-370.8\" font-family=\"Times,serif\" font-size=\"10.00\" fill=\"#336633\">dul:precedes</text>\n",
       "<text text-anchor=\"start\" x=\"685\" y=\"-370.8\" font-family=\"Times,serif\" font-size=\"14.00\"> </text>\n",
       "</g>\n",
       "<!-- node3 -->\n",
       "<g id=\"node4\" class=\"node\">\n",
       "<title>node3</title>\n",
       "<polygon fill=\"grey\" stroke=\"transparent\" points=\"1056,-419 1056,-438 1268,-438 1268,-419 1056,-419\"/>\n",
       "<text text-anchor=\"start\" x=\"1147.5\" y=\"-425.8\" font-family=\"DejaVu Sans\" font-weight=\"bold\" font-size=\"14.00\">out1</text>\n",
       "<g id=\"a_node4_4\"><a xlink:href=\"http://www.example.org/unpublished-weird#out1\" xlink:title=\"&lt;TABLE&gt;\">\n",
       "<polygon fill=\"#eeeeee\" stroke=\"transparent\" points=\"1056,-404 1056,-419 1268,-419 1268,-404 1056,-404\"/>\n",
       "<text text-anchor=\"start\" x=\"1058\" y=\"-409\" font-family=\"DejaVu Sans\" font-size=\"10.00\" fill=\"#6666ff\">http://www.example.org/unpublished&#45;weird#out1</text>\n",
       "</a>\n",
       "</g>\n",
       "<polygon fill=\"none\" stroke=\"#666666\" points=\"1055,-403 1055,-439 1269,-439 1269,-403 1055,-403\"/>\n",
       "</g>\n",
       "<!-- node4 -->\n",
       "<g id=\"node5\" class=\"node\">\n",
       "<title>node4</title>\n",
       "<polygon fill=\"grey\" stroke=\"transparent\" points=\"1067,-324 1067,-343 1258,-343 1258,-324 1067,-324\"/>\n",
       "<text text-anchor=\"start\" x=\"1158.5\" y=\"-330.8\" font-family=\"DejaVu Sans\" font-weight=\"bold\" font-size=\"14.00\">a</text>\n",
       "<g id=\"a_node5_5\"><a xlink:href=\"http://www.example.org/unpublished-mul#a\" xlink:title=\"&lt;TABLE&gt;\">\n",
       "<polygon fill=\"#eeeeee\" stroke=\"transparent\" points=\"1067,-309 1067,-324 1258,-324 1258,-309 1067,-309\"/>\n",
       "<text text-anchor=\"start\" x=\"1069\" y=\"-314\" font-family=\"DejaVu Sans\" font-size=\"10.00\" fill=\"#6666ff\">http://www.example.org/unpublished&#45;mul#a</text>\n",
       "</a>\n",
       "</g>\n",
       "<polygon fill=\"none\" stroke=\"#666666\" points=\"1065.5,-308 1065.5,-344 1258.5,-344 1258.5,-308 1065.5,-308\"/>\n",
       "</g>\n",
       "<!-- node3&#45;&gt;node4 -->\n",
       "<g id=\"edge3\" class=\"edge\">\n",
       "<title>node3&#45;&gt;node4</title>\n",
       "<path fill=\"none\" stroke=\"BLACK\" d=\"M1162,-398.9C1162,-386.89 1162,-371.62 1162,-358.24\"/>\n",
       "<polygon fill=\"BLACK\" stroke=\"BLACK\" points=\"1165.5,-358.02 1162,-348.02 1158.5,-358.02 1165.5,-358.02\"/>\n",
       "<text text-anchor=\"start\" x=\"1162\" y=\"-370.8\" font-family=\"Times,serif\" font-size=\"14.00\"> </text>\n",
       "<text text-anchor=\"start\" x=\"1166\" y=\"-370.8\" font-family=\"Times,serif\" font-size=\"10.00\" fill=\"#336633\">pplan:bindsTo</text>\n",
       "<text text-anchor=\"start\" x=\"1226\" y=\"-370.8\" font-family=\"Times,serif\" font-size=\"14.00\"> </text>\n",
       "</g>\n",
       "<!-- node5 -->\n",
       "<g id=\"node6\" class=\"node\">\n",
       "<title>node5</title>\n",
       "<polygon fill=\"grey\" stroke=\"transparent\" points=\"760,-229 760,-248 941,-248 941,-229 760,-229\"/>\n",
       "<text text-anchor=\"start\" x=\"795.5\" y=\"-235.8\" font-family=\"DejaVu Sans\" font-weight=\"bold\" font-size=\"14.00\">unpublished&#45;mul</text>\n",
       "<g id=\"a_node6_6\"><a xlink:href=\"http://www.example.org/unpublished-mul\" xlink:title=\"&lt;TABLE&gt;\">\n",
       "<polygon fill=\"#eeeeee\" stroke=\"transparent\" points=\"760,-214 760,-229 941,-229 941,-214 760,-214\"/>\n",
       "<text text-anchor=\"start\" x=\"762\" y=\"-219\" font-family=\"DejaVu Sans\" font-size=\"10.00\" fill=\"#6666ff\">http://www.example.org/unpublished&#45;mul</text>\n",
       "</a>\n",
       "</g>\n",
       "<polygon fill=\"none\" stroke=\"#666666\" points=\"758.5,-213 758.5,-249 941.5,-249 941.5,-213 758.5,-213\"/>\n",
       "</g>\n",
       "<!-- node5&#45;&gt;node0 -->\n",
       "<g id=\"edge4\" class=\"edge\">\n",
       "<title>node5&#45;&gt;node0</title>\n",
       "<path fill=\"none\" stroke=\"BLACK\" d=\"M819.75,-208.76C801.31,-195.82 777.27,-178.94 755.87,-163.91\"/>\n",
       "<polygon fill=\"BLACK\" stroke=\"BLACK\" points=\"757.7,-160.92 747.51,-158.04 753.68,-166.65 757.7,-160.92\"/>\n",
       "<text text-anchor=\"start\" x=\"795\" y=\"-180.8\" font-family=\"Times,serif\" font-size=\"14.00\"> </text>\n",
       "<text text-anchor=\"start\" x=\"799\" y=\"-180.8\" font-family=\"Times,serif\" font-size=\"10.00\" fill=\"#336633\">pplan:isStepOfPlan</text>\n",
       "<text text-anchor=\"start\" x=\"879\" y=\"-180.8\" font-family=\"Times,serif\" font-size=\"14.00\"> </text>\n",
       "</g>\n",
       "<!-- node6 -->\n",
       "<g id=\"node7\" class=\"node\">\n",
       "<title>node6</title>\n",
       "<polygon fill=\"grey\" stroke=\"transparent\" points=\"1305,-419 1305,-438 1510,-438 1510,-419 1305,-419\"/>\n",
       "<text text-anchor=\"start\" x=\"1393\" y=\"-425.8\" font-family=\"DejaVu Sans\" font-weight=\"bold\" font-size=\"14.00\">out1</text>\n",
       "<g id=\"a_node7_7\"><a xlink:href=\"http://www.example.org/unpublished-mul#out1\" xlink:title=\"&lt;TABLE&gt;\">\n",
       "<polygon fill=\"#eeeeee\" stroke=\"transparent\" points=\"1305,-404 1305,-419 1510,-419 1510,-404 1305,-404\"/>\n",
       "<text text-anchor=\"start\" x=\"1307\" y=\"-409\" font-family=\"DejaVu Sans\" font-size=\"10.00\" fill=\"#6666ff\">http://www.example.org/unpublished&#45;mul#out1</text>\n",
       "</a>\n",
       "</g>\n",
       "<polygon fill=\"none\" stroke=\"#666666\" points=\"1303.5,-403 1303.5,-439 1510.5,-439 1510.5,-403 1303.5,-403\"/>\n",
       "</g>\n",
       "<!-- node7 -->\n",
       "<g id=\"node8\" class=\"node\">\n",
       "<title>node7</title>\n",
       "<polygon fill=\"grey\" stroke=\"transparent\" points=\"1387,-324 1387,-343 1428,-343 1428,-324 1387,-324\"/>\n",
       "<text text-anchor=\"start\" x=\"1389\" y=\"-330.8\" font-family=\"DejaVu Sans\" font-weight=\"bold\" font-size=\"14.00\">result</text>\n",
       "<g id=\"a_node8_8\"><a xlink:href=\"result\" xlink:title=\"&lt;TABLE&gt;\">\n",
       "<polygon fill=\"#eeeeee\" stroke=\"transparent\" points=\"1387,-309 1387,-324 1428,-324 1428,-309 1387,-309\"/>\n",
       "<text text-anchor=\"start\" x=\"1395\" y=\"-314\" font-family=\"DejaVu Sans\" font-size=\"10.00\" fill=\"#6666ff\">result</text>\n",
       "</a>\n",
       "</g>\n",
       "<polygon fill=\"none\" stroke=\"#666666\" points=\"1385.5,-308 1385.5,-344 1428.5,-344 1428.5,-308 1385.5,-308\"/>\n",
       "</g>\n",
       "<!-- node6&#45;&gt;node7 -->\n",
       "<g id=\"edge5\" class=\"edge\">\n",
       "<title>node6&#45;&gt;node7</title>\n",
       "<path fill=\"none\" stroke=\"BLACK\" d=\"M1407,-398.9C1407,-386.89 1407,-371.62 1407,-358.24\"/>\n",
       "<polygon fill=\"BLACK\" stroke=\"BLACK\" points=\"1410.5,-358.02 1407,-348.02 1403.5,-358.02 1410.5,-358.02\"/>\n",
       "<text text-anchor=\"start\" x=\"1407\" y=\"-370.8\" font-family=\"Times,serif\" font-size=\"14.00\"> </text>\n",
       "<text text-anchor=\"start\" x=\"1411\" y=\"-370.8\" font-family=\"Times,serif\" font-size=\"10.00\" fill=\"#336633\">pplan:bindsTo</text>\n",
       "<text text-anchor=\"start\" x=\"1471\" y=\"-370.8\" font-family=\"Times,serif\" font-size=\"14.00\"> </text>\n",
       "</g>\n",
       "<!-- node8 -->\n",
       "<g id=\"node9\" class=\"node\">\n",
       "<title>node8</title>\n",
       "<polygon fill=\"grey\" stroke=\"transparent\" points=\"1546,-419 1546,-438 1751,-438 1751,-419 1546,-419\"/>\n",
       "<text text-anchor=\"start\" x=\"1634\" y=\"-425.8\" font-family=\"DejaVu Sans\" font-weight=\"bold\" font-size=\"14.00\">out1</text>\n",
       "<g id=\"a_node9_9\"><a xlink:href=\"http://www.example.org/unpublished-sub#out1\" xlink:title=\"&lt;TABLE&gt;\">\n",
       "<polygon fill=\"#eeeeee\" stroke=\"transparent\" points=\"1546,-404 1546,-419 1751,-419 1751,-404 1546,-404\"/>\n",
       "<text text-anchor=\"start\" x=\"1548\" y=\"-409\" font-family=\"DejaVu Sans\" font-size=\"10.00\" fill=\"#6666ff\">http://www.example.org/unpublished&#45;sub#out1</text>\n",
       "</a>\n",
       "</g>\n",
       "<polygon fill=\"none\" stroke=\"#666666\" points=\"1544.5,-403 1544.5,-439 1751.5,-439 1751.5,-403 1544.5,-403\"/>\n",
       "</g>\n",
       "<!-- node9 -->\n",
       "<g id=\"node10\" class=\"node\">\n",
       "<title>node9</title>\n",
       "<polygon fill=\"grey\" stroke=\"transparent\" points=\"1553,-324 1553,-343 1744,-343 1744,-324 1553,-324\"/>\n",
       "<text text-anchor=\"start\" x=\"1644\" y=\"-330.8\" font-family=\"DejaVu Sans\" font-weight=\"bold\" font-size=\"14.00\">b</text>\n",
       "<g id=\"a_node10_10\"><a xlink:href=\"http://www.example.org/unpublished-mul#b\" xlink:title=\"&lt;TABLE&gt;\">\n",
       "<polygon fill=\"#eeeeee\" stroke=\"transparent\" points=\"1553,-309 1553,-324 1744,-324 1744,-309 1553,-309\"/>\n",
       "<text text-anchor=\"start\" x=\"1555\" y=\"-314\" font-family=\"DejaVu Sans\" font-size=\"10.00\" fill=\"#6666ff\">http://www.example.org/unpublished&#45;mul#b</text>\n",
       "</a>\n",
       "</g>\n",
       "<polygon fill=\"none\" stroke=\"#666666\" points=\"1551.5,-308 1551.5,-344 1744.5,-344 1744.5,-308 1551.5,-308\"/>\n",
       "</g>\n",
       "<!-- node8&#45;&gt;node9 -->\n",
       "<g id=\"edge6\" class=\"edge\">\n",
       "<title>node8&#45;&gt;node9</title>\n",
       "<path fill=\"none\" stroke=\"BLACK\" d=\"M1648,-398.9C1648,-386.89 1648,-371.62 1648,-358.24\"/>\n",
       "<polygon fill=\"BLACK\" stroke=\"BLACK\" points=\"1651.5,-358.02 1648,-348.02 1644.5,-358.02 1651.5,-358.02\"/>\n",
       "<text text-anchor=\"start\" x=\"1648\" y=\"-370.8\" font-family=\"Times,serif\" font-size=\"14.00\"> </text>\n",
       "<text text-anchor=\"start\" x=\"1652\" y=\"-370.8\" font-family=\"Times,serif\" font-size=\"10.00\" fill=\"#336633\">pplan:bindsTo</text>\n",
       "<text text-anchor=\"start\" x=\"1712\" y=\"-370.8\" font-family=\"Times,serif\" font-size=\"14.00\"> </text>\n",
       "</g>\n",
       "<!-- node10 -->\n",
       "<g id=\"node11\" class=\"node\">\n",
       "<title>node10</title>\n",
       "<polygon fill=\"grey\" stroke=\"transparent\" points=\"850,-324 850,-343 1031,-343 1031,-324 850,-324\"/>\n",
       "<text text-anchor=\"start\" x=\"886\" y=\"-330.8\" font-family=\"DejaVu Sans\" font-weight=\"bold\" font-size=\"14.00\">unpublished&#45;sub</text>\n",
       "<g id=\"a_node11_11\"><a xlink:href=\"http://www.example.org/unpublished-sub\" xlink:title=\"&lt;TABLE&gt;\">\n",
       "<polygon fill=\"#eeeeee\" stroke=\"transparent\" points=\"850,-309 850,-324 1031,-324 1031,-309 850,-309\"/>\n",
       "<text text-anchor=\"start\" x=\"852\" y=\"-314\" font-family=\"DejaVu Sans\" font-size=\"10.00\" fill=\"#6666ff\">http://www.example.org/unpublished&#45;sub</text>\n",
       "</a>\n",
       "</g>\n",
       "<polygon fill=\"none\" stroke=\"#666666\" points=\"848.5,-308 848.5,-344 1031.5,-344 1031.5,-308 848.5,-308\"/>\n",
       "</g>\n",
       "<!-- node10&#45;&gt;node0 -->\n",
       "<g id=\"edge7\" class=\"edge\">\n",
       "<title>node10&#45;&gt;node0</title>\n",
       "<path fill=\"none\" stroke=\"BLACK\" d=\"M956.64,-303.8C960.07,-298.3 963.19,-292.17 965,-286 971.17,-264.94 973.59,-230.65 958,-209 943.73,-189.18 924.56,-174.07 903.12,-162.57\"/>\n",
       "<polygon fill=\"BLACK\" stroke=\"BLACK\" points=\"904.63,-159.41 894.13,-158.01 901.47,-165.65 904.63,-159.41\"/>\n",
       "<text text-anchor=\"start\" x=\"970\" y=\"-228.3\" font-family=\"Times,serif\" font-size=\"14.00\"> </text>\n",
       "<text text-anchor=\"start\" x=\"974\" y=\"-228.3\" font-family=\"Times,serif\" font-size=\"10.00\" fill=\"#336633\">pplan:isStepOfPlan</text>\n",
       "<text text-anchor=\"start\" x=\"1054\" y=\"-228.3\" font-family=\"Times,serif\" font-size=\"14.00\"> </text>\n",
       "</g>\n",
       "<!-- node10&#45;&gt;node5 -->\n",
       "<g id=\"edge11\" class=\"edge\">\n",
       "<title>node10&#45;&gt;node5</title>\n",
       "<path fill=\"none\" stroke=\"BLACK\" d=\"M919.58,-303.9C907.15,-291.05 891.11,-274.49 877.57,-260.49\"/>\n",
       "<polygon fill=\"BLACK\" stroke=\"BLACK\" points=\"879.81,-257.77 870.34,-253.02 874.78,-262.64 879.81,-257.77\"/>\n",
       "<text text-anchor=\"start\" x=\"901\" y=\"-275.8\" font-family=\"Times,serif\" font-size=\"14.00\"> </text>\n",
       "<text text-anchor=\"start\" x=\"905\" y=\"-275.8\" font-family=\"Times,serif\" font-size=\"10.00\" fill=\"#336633\">dul:precedes</text>\n",
       "<text text-anchor=\"start\" x=\"957\" y=\"-275.8\" font-family=\"Times,serif\" font-size=\"14.00\"> </text>\n",
       "</g>\n",
       "<!-- node11&#45;&gt;node0 -->\n",
       "<g id=\"edge8\" class=\"edge\">\n",
       "<title>node11&#45;&gt;node0</title>\n",
       "<path fill=\"none\" stroke=\"BLACK\" d=\"M662.98,-303.72C654.29,-280.2 643.71,-241.36 653,-209 657.27,-194.14 665.12,-179.36 673.41,-166.56\"/>\n",
       "<polygon fill=\"BLACK\" stroke=\"BLACK\" points=\"676.48,-168.27 679.18,-158.03 670.68,-164.35 676.48,-168.27\"/>\n",
       "<text text-anchor=\"start\" x=\"653\" y=\"-228.3\" font-family=\"Times,serif\" font-size=\"14.00\"> </text>\n",
       "<text text-anchor=\"start\" x=\"657\" y=\"-228.3\" font-family=\"Times,serif\" font-size=\"10.00\" fill=\"#336633\">pplan:isStepOfPlan</text>\n",
       "<text text-anchor=\"start\" x=\"737\" y=\"-228.3\" font-family=\"Times,serif\" font-size=\"14.00\"> </text>\n",
       "</g>\n",
       "<!-- node11&#45;&gt;node5 -->\n",
       "<g id=\"edge10\" class=\"edge\">\n",
       "<title>node11&#45;&gt;node5</title>\n",
       "<path fill=\"none\" stroke=\"BLACK\" d=\"M712.39,-303.9C738.56,-290.22 772.83,-272.32 800.61,-257.8\"/>\n",
       "<polygon fill=\"BLACK\" stroke=\"BLACK\" points=\"802.53,-260.75 809.77,-253.02 799.28,-254.55 802.53,-260.75\"/>\n",
       "<text text-anchor=\"start\" x=\"772\" y=\"-275.8\" font-family=\"Times,serif\" font-size=\"14.00\"> </text>\n",
       "<text text-anchor=\"start\" x=\"776\" y=\"-275.8\" font-family=\"Times,serif\" font-size=\"10.00\" fill=\"#336633\">dul:precedes</text>\n",
       "<text text-anchor=\"start\" x=\"828\" y=\"-275.8\" font-family=\"Times,serif\" font-size=\"14.00\"> </text>\n",
       "</g>\n",
       "<!-- node12 -->\n",
       "<g id=\"node13\" class=\"node\">\n",
       "<title>node12</title>\n",
       "<polygon fill=\"grey\" stroke=\"transparent\" points=\"1787,-419 1787,-438 1992,-438 1992,-419 1787,-419\"/>\n",
       "<text text-anchor=\"start\" x=\"1875\" y=\"-425.8\" font-family=\"DejaVu Sans\" font-weight=\"bold\" font-size=\"14.00\">out1</text>\n",
       "<g id=\"a_node13_12\"><a xlink:href=\"http://www.example.org/unpublished-add#out1\" xlink:title=\"&lt;TABLE&gt;\">\n",
       "<polygon fill=\"#eeeeee\" stroke=\"transparent\" points=\"1787,-404 1787,-419 1992,-419 1992,-404 1787,-404\"/>\n",
       "<text text-anchor=\"start\" x=\"1789\" y=\"-409\" font-family=\"DejaVu Sans\" font-size=\"10.00\" fill=\"#6666ff\">http://www.example.org/unpublished&#45;add#out1</text>\n",
       "</a>\n",
       "</g>\n",
       "<polygon fill=\"none\" stroke=\"#666666\" points=\"1785.5,-403 1785.5,-439 1992.5,-439 1992.5,-403 1785.5,-403\"/>\n",
       "</g>\n",
       "<!-- node13 -->\n",
       "<g id=\"node14\" class=\"node\">\n",
       "<title>node13</title>\n",
       "<polygon fill=\"grey\" stroke=\"transparent\" points=\"1790,-324 1790,-343 1989,-343 1989,-324 1790,-324\"/>\n",
       "<text text-anchor=\"start\" x=\"1885.5\" y=\"-330.8\" font-family=\"DejaVu Sans\" font-weight=\"bold\" font-size=\"14.00\">a</text>\n",
       "<g id=\"a_node14_13\"><a xlink:href=\"http://www.example.org/unpublished-weird#a\" xlink:title=\"&lt;TABLE&gt;\">\n",
       "<polygon fill=\"#eeeeee\" stroke=\"transparent\" points=\"1790,-309 1790,-324 1989,-324 1989,-309 1790,-309\"/>\n",
       "<text text-anchor=\"start\" x=\"1792\" y=\"-314\" font-family=\"DejaVu Sans\" font-size=\"10.00\" fill=\"#6666ff\">http://www.example.org/unpublished&#45;weird#a</text>\n",
       "</a>\n",
       "</g>\n",
       "<polygon fill=\"none\" stroke=\"#666666\" points=\"1788.5,-308 1788.5,-344 1989.5,-344 1989.5,-308 1788.5,-308\"/>\n",
       "</g>\n",
       "<!-- node12&#45;&gt;node13 -->\n",
       "<g id=\"edge9\" class=\"edge\">\n",
       "<title>node12&#45;&gt;node13</title>\n",
       "<path fill=\"none\" stroke=\"BLACK\" d=\"M1889,-398.9C1889,-386.89 1889,-371.62 1889,-358.24\"/>\n",
       "<polygon fill=\"BLACK\" stroke=\"BLACK\" points=\"1892.5,-358.02 1889,-348.02 1885.5,-358.02 1892.5,-358.02\"/>\n",
       "<text text-anchor=\"start\" x=\"1889\" y=\"-370.8\" font-family=\"Times,serif\" font-size=\"14.00\"> </text>\n",
       "<text text-anchor=\"start\" x=\"1893\" y=\"-370.8\" font-family=\"Times,serif\" font-size=\"10.00\" fill=\"#336633\">pplan:bindsTo</text>\n",
       "<text text-anchor=\"start\" x=\"1953\" y=\"-370.8\" font-family=\"Times,serif\" font-size=\"14.00\"> </text>\n",
       "</g>\n",
       "</g>\n",
       "</svg>\n"
      ],
      "text/plain": [
       "<graphviz.files.Source at 0x7fe999800e10>"
      ]
     },
     "execution_count": 24,
     "metadata": {},
     "output_type": "execute_result"
    }
   ],
   "source": [
    "fw.display_rdf()"
   ]
  },
  {
   "cell_type": "markdown",
   "metadata": {},
   "source": [
    "## Publish the (prospective) workflow\n",
    "You may publish the workflow, and its steps, as nanopublications in the usual manner:"
   ]
  },
  {
   "cell_type": "code",
   "execution_count": 9,
   "metadata": {},
   "outputs": [],
   "source": [
    "#fw.publish_as_nanopub()"
   ]
  },
  {
   "cell_type": "markdown",
   "metadata": {},
   "source": [
    "Be warned though - the above will keep publishing to the 'real' nanopub server network. For testing you may prefer to publish to the test servers as follows (note that this will refuse to publish a workflow you have already published :"
   ]
  },
  {
   "cell_type": "code",
   "execution_count": 12,
   "metadata": {},
   "outputs": [
    {
     "name": "stdout",
     "output_type": "stream",
     "text": [
      "Published to http://purl.org/np/RAWarWs5kFRYx0vtzhYPrl9xzY53MKDEfzYMp09fZGEWY\n",
      "Published concept to http://purl.org/np/RAWarWs5kFRYx0vtzhYPrl9xzY53MKDEfzYMp09fZGEWY#plan\n"
     ]
    },
    {
     "data": {
      "text/plain": [
       "{'nanopub_uri': 'http://purl.org/np/RAWarWs5kFRYx0vtzhYPrl9xzY53MKDEfzYMp09fZGEWY',\n",
       " 'concept_uri': 'http://purl.org/np/RAWarWs5kFRYx0vtzhYPrl9xzY53MKDEfzYMp09fZGEWY#plan'}"
      ]
     },
     "execution_count": 12,
     "metadata": {},
     "output_type": "execute_result"
    }
   ],
   "source": [
    "fw.publish_as_nanopub(use_test_server=True)"
   ]
  },
  {
   "cell_type": "markdown",
   "metadata": {},
   "source": [
    "You can then find your nanopublications by replacing the base of the URI with http://test-server.nanopubs.lod.labs.vu.nl/"
   ]
  },
  {
   "cell_type": "markdown",
   "metadata": {},
   "source": [
    "## Execute your workflow using .execute()\n",
    "Set num_threads greater than 1 if you wish to exploit parallelisation in your workflow. The retrospective provenance is also returned as a (nano) Publication object, that can optionally be published."
   ]
  },
  {
   "cell_type": "code",
   "execution_count": 13,
   "metadata": {},
   "outputs": [
    {
     "data": {
      "text/plain": [
       "-66"
      ]
     },
     "execution_count": 13,
     "metadata": {},
     "output_type": "execute_result"
    }
   ],
   "source": [
    "result, prov = fw.execute(1, 4, 3)\n",
    "result"
   ]
  },
  {
   "cell_type": "markdown",
   "metadata": {},
   "source": [
    " ## Retrospective prov\n",
    " The retrospective prov object is not yet implemented, pending one of the RDF tasks set out in the planning document. For now, you may see simply the provenance trace for this run. We wish to turn this into a (Plex) RDF nanopublication:\n",
    " \n",
    "THIS IS BROKEN, WILL BE FIXED IN #168"
   ]
  },
  {
   "cell_type": "code",
   "execution_count": 14,
   "metadata": {},
   "outputs": [
    {
     "data": {
      "text/plain": [
       "nanopub.publication.Publication"
      ]
     },
     "execution_count": 14,
     "metadata": {},
     "output_type": "execute_result"
    }
   ],
   "source": [
    "type(prov)"
   ]
  },
  {
   "cell_type": "code",
   "execution_count": 15,
   "metadata": {},
   "outputs": [
    {
     "name": "stdout",
     "output_type": "stream",
     "text": [
      "Original source URI = None\n",
      "@prefix : <http://purl.org/nanopub/temp/mynanopub#> .\n",
      "@prefix np: <http://www.nanopub.org/nschema#> .\n",
      "@prefix prov: <http://www.w3.org/ns/prov#> .\n",
      "@prefix rdfs: <http://www.w3.org/2000/01/rdf-schema#> .\n",
      "@prefix xsd: <http://www.w3.org/2001/XMLSchema#> .\n",
      "\n",
      ":assertion {\n",
      "    :retroprov a prov:Activity ;\n",
      "        rdfs:label \"\" ;\n",
      "        prov:wasDerivedFrom <http://purl.org/np/RAWarWs5kFRYx0vtzhYPrl9xzY53MKDEfzYMp09fZGEWY#plan> .\n",
      "}\n",
      "\n",
      ":provenance {\n",
      "    :assertion prov:generatedAtTime \"2021-02-09T07:26:44.473167\"^^xsd:dateTime .\n",
      "}\n",
      "\n",
      ":Head {\n",
      "    : a np:Nanopublication ;\n",
      "        np:hasAssertion :assertion ;\n",
      "        np:hasProvenance :provenance ;\n",
      "        np:hasPublicationInfo :pubInfo .\n",
      "}\n",
      "\n",
      ":pubInfo {\n",
      "    : prov:generatedAtTime \"2021-02-09T07:26:44.473167\"^^xsd:dateTime ;\n",
      "        prov:wasAttributedTo <https://orcid.org/1234-1234-1234-1234> .\n",
      "}\n",
      "\n",
      "\n"
     ]
    }
   ],
   "source": [
    "print(prov)"
   ]
  },
  {
   "cell_type": "markdown",
   "metadata": {},
   "source": [
    "### Provide semantic annotations for input and output variables\n",
    "If you wish to specify semantic types for the inputs/outputs to a step, you can do so in the arguments to the decorator.\n",
    "For example, if you have an input parameter 'a', you can write a='http://www.example.org/distance' to assign that (semantic) type to a. As output of functions is not named in python, you can specify the same but with 'out1', 'out2' etc. See the following example:"
   ]
  },
  {
   "cell_type": "code",
   "execution_count": 8,
   "metadata": {},
   "outputs": [],
   "source": [
    "@is_fairstep(label='Addition', a='http://www.example.org/distance', returns='http://www.example.org/mass')\n",
    "def add(a:float, b:float) -> float:\n",
    "    return a + b"
   ]
  },
  {
   "cell_type": "markdown",
   "metadata": {},
   "source": [
    "If we now look at the RDF generated for the step, we will see that input parameter 'a' and the step output ('out1') both have the (additional) semantic types specified."
   ]
  },
  {
   "cell_type": "code",
   "execution_count": 3,
   "metadata": {},
   "outputs": [
    {
     "name": "stdout",
     "output_type": "stream",
     "text": [
      "Step URI = http://www.example.org/unpublished-add\n",
      "@prefix bpmn: <http://dkm.fbk.eu/index.php/BPMN2_Ontology#> .\n",
      "@prefix ns1: <http://purl.org/dc/terms/> .\n",
      "@prefix pplan: <http://purl.org/net/p-plan#> .\n",
      "@prefix rdfs: <http://www.w3.org/2000/01/rdf-schema#> .\n",
      "\n",
      "_:Nda081d4e75bc47f0a65dc6134c6ca5e0 {\n",
      "    [] a bpmn:ScriptTask,\n",
      "            pplan:Step ;\n",
      "        rdfs:label \"Addition\" ;\n",
      "        ns1:description \"\"\"@is_fairstep(label='Addition', a='http://www.example.org/distance', out='http://www.example.org/mass')\n",
      "def add(a:float, b:float) -> float:\n",
      "    return a + b\n",
      "\"\"\" ;\n",
      "        pplan:hasInputVar [ a pplan:Variable,\n",
      "                    <http://www.example.org/distance> ;\n",
      "                rdfs:label \"a\" ;\n",
      "                rdfs:comment \"float\" ],\n",
      "            [ a pplan:Variable ;\n",
      "                rdfs:label \"b\" ;\n",
      "                rdfs:comment \"float\" ] ;\n",
      "        pplan:hasOutputVar [ a pplan:Variable,\n",
      "                    <http://www.example.org/mass> ;\n",
      "                rdfs:label \"out1\" ;\n",
      "                rdfs:comment \"float\" ] .\n",
      "}\n",
      "\n",
      "\n"
     ]
    }
   ],
   "source": [
    "# ACTIONS:\n",
    "# Add language and version to nanopubs (i.e. what the description is written in)\n",
    "print(add._fairstep)"
   ]
  },
  {
   "cell_type": "markdown",
   "metadata": {},
   "source": [
    "### Specify more than one semantic type for a parameter\n",
    "You can provide a list of URIs if you want to specify several semantic types for e.g. parameter 'a':"
   ]
  },
  {
   "cell_type": "code",
   "execution_count": 6,
   "metadata": {},
   "outputs": [],
   "source": [
    "@is_fairstep(label='Addition', a=['http://www.example.org/distance', 'http://www.example.org/number'])\n",
    "def another_step(a:float, b:float) -> float:\n",
    "    return a + b"
   ]
  },
  {
   "cell_type": "code",
   "execution_count": 7,
   "metadata": {},
   "outputs": [
    {
     "name": "stdout",
     "output_type": "stream",
     "text": [
      "Step URI = http://www.example.org/unpublished-another_step\n",
      "@prefix bpmn: <http://dkm.fbk.eu/index.php/BPMN2_Ontology#> .\n",
      "@prefix ns1: <http://purl.org/dc/terms/> .\n",
      "@prefix pplan: <http://purl.org/net/p-plan#> .\n",
      "@prefix rdfs: <http://www.w3.org/2000/01/rdf-schema#> .\n",
      "\n",
      "_:N94e43cf479454578b20e9b3b1efd89ca {\n",
      "    [] a bpmn:ScriptTask,\n",
      "            pplan:Step ;\n",
      "        rdfs:label \"Addition\" ;\n",
      "        ns1:description \"\"\"@is_fairstep(label='Addition', a=['http://www.example.org/distance', 'http://www.example.org/number'])\n",
      "def another_step(a:float, b:float) -> float:\n",
      "    return a + b\n",
      "\"\"\" ;\n",
      "        pplan:hasInputVar [ a pplan:Variable,\n",
      "                    <http://www.example.org/distance>,\n",
      "                    <http://www.example.org/number> ;\n",
      "                rdfs:label \"a\" ;\n",
      "                rdfs:comment \"float\" ],\n",
      "            [ a pplan:Variable ;\n",
      "                rdfs:label \"b\" ;\n",
      "                rdfs:comment \"float\" ] ;\n",
      "        pplan:hasOutputVar [ a pplan:Variable ;\n",
      "                rdfs:label \"out1\" ;\n",
      "                rdfs:comment \"float\" ] .\n",
      "}\n",
      "\n",
      "\n"
     ]
    }
   ],
   "source": [
    "print(another_step._fairstep)"
   ]
  },
  {
   "cell_type": "markdown",
   "metadata": {},
   "source": [
    "## Semantic types for function producing multiple outputs\n",
    "Provide 'out' with a tuple of the same length as the number of function outputs. You can use None for any you do not wish to assign a particular semantic type to."
   ]
  },
  {
   "cell_type": "code",
   "execution_count": 6,
   "metadata": {},
   "outputs": [],
   "source": [
    "from typing import Tuple\n",
    "@is_fairstep(label='Addition and subtraction', returns=('http://www.example.org/distance', 'http://www.example.org/number'))\n",
    "def another_step(a:float, b:float) -> Tuple[float, float]:\n",
    "    return a + b, a - b"
   ]
  },
  {
   "cell_type": "code",
   "execution_count": 7,
   "metadata": {},
   "outputs": [
    {
     "name": "stdout",
     "output_type": "stream",
     "text": [
      "Step URI = http://www.example.org/unpublished-another_step\n",
      "@prefix bpmn: <http://dkm.fbk.eu/index.php/BPMN2_Ontology#> .\n",
      "@prefix ns1: <http://purl.org/dc/terms/> .\n",
      "@prefix pplan: <http://purl.org/net/p-plan#> .\n",
      "@prefix rdfs: <http://www.w3.org/2000/01/rdf-schema#> .\n",
      "\n",
      "_:Nbfca224ce79741f685b6430a1cdb1d74 {\n",
      "    [] a bpmn:ScriptTask,\n",
      "            pplan:Step ;\n",
      "        rdfs:label \"Addition and subtraction\" ;\n",
      "        ns1:description \"\"\"@is_fairstep(label='Addition and subtraction', returns=('http://www.example.org/distance', 'http://www.example.org/number'))\n",
      "def another_step(a:float, b:float) -> Tuple[float, float]:\n",
      "    return a + b, a - b\n",
      "\"\"\" ;\n",
      "        pplan:hasInputVar [ a pplan:Variable ;\n",
      "                rdfs:label \"a\" ;\n",
      "                rdfs:comment \"float\" ],\n",
      "            [ a pplan:Variable ;\n",
      "                rdfs:label \"b\" ;\n",
      "                rdfs:comment \"float\" ] ;\n",
      "        pplan:hasOutputVar [ a pplan:Variable,\n",
      "                    <http://www.example.org/distance> ;\n",
      "                rdfs:label \"out1\" ;\n",
      "                rdfs:comment \"float\" ],\n",
      "            [ a pplan:Variable,\n",
      "                    <http://www.example.org/number> ;\n",
      "                rdfs:label \"out2\" ;\n",
      "                rdfs:comment \"float\" ] .\n",
      "}\n",
      "\n",
      "\n"
     ]
    }
   ],
   "source": [
    "print(another_step._fairstep)"
   ]
  },
  {
   "cell_type": "markdown",
   "metadata": {},
   "source": [
    "As before, you may provide a list of URIs for each output. If you do not want to provide semantic types for a particular output, simply pass None:"
   ]
  },
  {
   "cell_type": "code",
   "execution_count": 2,
   "metadata": {},
   "outputs": [],
   "source": [
    "from typing import Tuple\n",
    "@is_fairstep(label='Addition and subtraction', returns=(['http://www.example.org/distance', 'http://www.example.org/number'], None))\n",
    "def another_step(a:float, b:float) -> Tuple[float, float]:\n",
    "    return a + b, a - b"
   ]
  },
  {
   "cell_type": "code",
   "execution_count": 3,
   "metadata": {},
   "outputs": [
    {
     "name": "stdout",
     "output_type": "stream",
     "text": [
      "Step URI = http://www.example.org/unpublished-another_step\n",
      "@prefix bpmn: <http://dkm.fbk.eu/index.php/BPMN2_Ontology#> .\n",
      "@prefix ns1: <http://purl.org/dc/terms/> .\n",
      "@prefix pplan: <http://purl.org/net/p-plan#> .\n",
      "@prefix rdfs: <http://www.w3.org/2000/01/rdf-schema#> .\n",
      "\n",
      "_:Nfd09bd8a8a4c48a1b2e2e240411aad92 {\n",
      "    [] a bpmn:ScriptTask,\n",
      "            pplan:Step ;\n",
      "        rdfs:label \"Addition and subtraction\" ;\n",
      "        ns1:description \"\"\"@is_fairstep(label='Addition and subtraction', returns=(['http://www.example.org/distance', 'http://www.example.org/number'], None))\n",
      "def another_step(a:float, b:float) -> Tuple[float, float]:\n",
      "    return a + b, a - b\n",
      "\"\"\" ;\n",
      "        pplan:hasInputVar [ a pplan:Variable ;\n",
      "                rdfs:label \"a\" ;\n",
      "                rdfs:comment \"float\" ],\n",
      "            [ a pplan:Variable ;\n",
      "                rdfs:label \"b\" ;\n",
      "                rdfs:comment \"float\" ] ;\n",
      "        pplan:hasOutputVar [ a pplan:Variable,\n",
      "                    <http://www.example.org/distance>,\n",
      "                    <http://www.example.org/number> ;\n",
      "                rdfs:label \"out1\" ;\n",
      "                rdfs:comment \"float\" ],\n",
      "            [ a pplan:Variable ;\n",
      "                rdfs:label \"out2\" ;\n",
      "                rdfs:comment \"float\" ] .\n",
      "}\n",
      "\n",
      "\n"
     ]
    }
   ],
   "source": [
    "print(another_step._fairstep)"
   ]
  },
  {
   "cell_type": "code",
   "execution_count": null,
   "metadata": {},
   "outputs": [],
   "source": []
  }
 ],
 "metadata": {
  "kernelspec": {
   "display_name": "Python 3",
   "language": "python",
   "name": "python3"
  },
  "language_info": {
   "codemirror_mode": {
    "name": "ipython",
    "version": 3
   },
   "file_extension": ".py",
   "mimetype": "text/x-python",
   "name": "python",
   "nbconvert_exporter": "python",
   "pygments_lexer": "ipython3",
   "version": "3.6.10"
  }
 },
 "nbformat": 4,
 "nbformat_minor": 5
}
