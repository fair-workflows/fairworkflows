{
 "cells": [
  {
   "cell_type": "markdown",
   "id": "packed-ancient",
   "metadata": {},
   "source": [
    "# FairWorkflows execution demo"
   ]
  },
  {
   "cell_type": "markdown",
   "id": "pretty-extraction",
   "metadata": {},
   "source": [
    "## Define the steps of your workflow\n",
    "Each step should be its own function. Mark the function as such with the @fairstep decorator."
   ]
  },
  {
   "cell_type": "code",
   "execution_count": 1,
   "id": "successful-damage",
   "metadata": {},
   "outputs": [
    {
     "name": "stdout",
     "output_type": "stream",
     "text": [
      "/home/dsmits/projects/FAIR-workbench/fairworkflows\n"
     ]
    }
   ],
   "source": [
    "%cd ..\n",
    "\n",
    "from fairworkflows import is_fairworkflow, is_fairstep, FairStep, FairWorkflow"
   ]
  },
  {
   "cell_type": "code",
   "execution_count": 2,
   "id": "pretty-timeline",
   "metadata": {},
   "outputs": [],
   "source": [
    "@is_fairstep(label='Addition')\n",
    "def add(a:float, b:float) -> float:\n",
    "    \"\"\"Adding up numbers!\"\"\"\n",
    "    return a + b"
   ]
  },
  {
   "cell_type": "code",
   "execution_count": 3,
   "id": "abandoned-communist",
   "metadata": {},
   "outputs": [],
   "source": [
    "@is_fairstep(label='Subtraction', is_manual_task=True)\n",
    "def verify(a: float) -> bool:\n",
    "    \"\"\"Confirm that you like this result\"\"\"\n",
    "    pass"
   ]
  },
  {
   "cell_type": "markdown",
   "id": "institutional-average",
   "metadata": {},
   "source": [
    "## Define your workflow using @fairworkflow\n",
    "Now write a function which describes your workflow. Mark this function with the @fairworkflow decorator."
   ]
  },
  {
   "cell_type": "code",
   "execution_count": 4,
   "id": "present-nowhere",
   "metadata": {},
   "outputs": [],
   "source": [
    "@is_fairworkflow(label='My Workflow')\n",
    "def my_workflow(in1, in2):\n",
    "    \"\"\"\n",
    "    Add two numbers together and confirm the result\n",
    "    \"\"\"\n",
    "    t1 = add(in1, in2)\n",
    "    t2 = verify(t1)\n",
    "    return t2"
   ]
  },
  {
   "cell_type": "markdown",
   "id": "heated-disco",
   "metadata": {},
   "source": [
    "## Create an instance of your workflow and display it"
   ]
  },
  {
   "cell_type": "code",
   "execution_count": 6,
   "id": "fiscal-being",
   "metadata": {},
   "outputs": [
    {
     "data": {
      "text/plain": [
       "fairworkflows.fairworkflow.FairWorkflow"
      ]
     },
     "execution_count": 6,
     "metadata": {},
     "output_type": "execute_result"
    }
   ],
   "source": [
    "fw = FairWorkflow.from_function(my_workflow)\n",
    "type(fw)"
   ]
  },
  {
   "cell_type": "markdown",
   "id": "derived-monitor",
   "metadata": {},
   "source": [
    "## Execute your workflow using .execute()\n",
    "Set num_threads greater than 1 if you wish to exploit parallelisation in your workflow. The retrospective provenance is also returned as a (nano) Publication object, that can optionally be published."
   ]
  },
  {
   "cell_type": "code",
   "execution_count": 7,
   "id": "external-cambridge",
   "metadata": {},
   "outputs": [
    {
     "name": "stderr",
     "output_type": "stream",
     "text": [
      "INFO:root:Starting Manual Step Assistant\n",
      "INFO:root:Please go to http://localhost:8000 to perform the manual step\n",
      "127.0.0.1 - - [09/Mar/2021 11:20:26] \"GET / HTTP/1.1\" 200 -\n",
      "INFO:root:Manual step has been completed.\n"
     ]
    },
    {
     "data": {
      "text/plain": [
       "{'out1': True}"
      ]
     },
     "execution_count": 7,
     "metadata": {},
     "output_type": "execute_result"
    }
   ],
   "source": [
    "result, prov = fw.execute(1, 4)\n",
    "result"
   ]
  },
  {
   "cell_type": "markdown",
   "id": "thirty-auction",
   "metadata": {},
   "source": [
    "### Retrospective prov\n",
    "A WorkflowRetroProv object is returned along with the result of the execution."
   ]
  },
  {
   "cell_type": "code",
   "execution_count": 13,
   "id": "developed-departure",
   "metadata": {},
   "outputs": [
    {
     "data": {
      "text/plain": [
       "fairworkflows.prov.WorkflowRetroProv"
      ]
     },
     "execution_count": 13,
     "metadata": {},
     "output_type": "execute_result"
    }
   ],
   "source": [
    "type(prov)"
   ]
  },
  {
   "cell_type": "code",
   "execution_count": 14,
   "id": "demanding-rally",
   "metadata": {},
   "outputs": [
    {
     "name": "stdout",
     "output_type": "stream",
     "text": [
      "Workflow retrospective provenance.\n",
      "@prefix pplan: <http://purl.org/net/p-plan#> .\n",
      "@prefix prov: <http://www.w3.org/ns/prov#> .\n",
      "\n",
      "[] a pplan:Bundle,\n",
      "        prov:Collection ;\n",
      "    prov:wasDerivedFrom <http://purl.org/np/RAPHCa5UMvnF40Jt7wimjUdxDMrMepUUqfAB9BTiA1tmY#plan> .\n",
      "\n",
      "\n"
     ]
    }
   ],
   "source": [
    "print(prov)"
   ]
  },
  {
   "cell_type": "markdown",
   "id": "dress-thunder",
   "metadata": {},
   "source": [
    "### Retrospective prov for each step\n",
    "You can iterate through a WorkflowRetroProv object to get the StepRetroProv objects for each step. Print these to see the RDF they contain (input/output variable values, start and end datetime of the step's execution etc.) "
   ]
  },
  {
   "cell_type": "code",
   "execution_count": 17,
   "id": "vietnamese-soldier",
   "metadata": {},
   "outputs": [
    {
     "name": "stdout",
     "output_type": "stream",
     "text": [
      "Step retrospective provenance.\n",
      "@prefix pplan: <http://purl.org/net/p-plan#> .\n",
      "@prefix prov: <http://www.w3.org/ns/prov#> .\n",
      "@prefix rdf: <http://www.w3.org/1999/02/22-rdf-syntax-ns#> .\n",
      "@prefix rdfs: <http://www.w3.org/2000/01/rdf-schema#> .\n",
      "@prefix xsd: <http://www.w3.org/2001/XMLSchema#> .\n",
      "\n",
      "[] a pplan:Activity ;\n",
      "    pplan:correspondsToStep <http://purl.org/np/RAyTHTDs-Qqqu4EVYQjva4JoxWxpCUApESi1AGh93oQkU#step> ;\n",
      "    prov:endedAtTime \"2021-03-05T13:14:00.084623\"^^xsd:dateTime ;\n",
      "    prov:startedAtTime \"2021-03-05T13:14:00.084616\"^^xsd:dateTime ;\n",
      "    prov:used [ a pplan:Entity ;\n",
      "            rdfs:label \"a\" ;\n",
      "            pplan:correspondsToVariable <http://purl.org/np/RAyTHTDs-Qqqu4EVYQjva4JoxWxpCUApESi1AGh93oQkU#a> ;\n",
      "            rdf:value 1 ],\n",
      "        [ a pplan:Entity ;\n",
      "            rdfs:label \"b\" ;\n",
      "            pplan:correspondsToVariable <http://purl.org/np/RAyTHTDs-Qqqu4EVYQjva4JoxWxpCUApESi1AGh93oQkU#b> ;\n",
      "            rdf:value 4 ],\n",
      "        [ a pplan:Entity ;\n",
      "            rdfs:label \"out1\" ;\n",
      "            pplan:correspondsToVariable <http://purl.org/np/RAyTHTDs-Qqqu4EVYQjva4JoxWxpCUApESi1AGh93oQkU#out1> ;\n",
      "            rdf:value 5 ] .\n",
      "\n",
      "\n",
      "Step retrospective provenance.\n",
      "@prefix pplan: <http://purl.org/net/p-plan#> .\n",
      "@prefix prov: <http://www.w3.org/ns/prov#> .\n",
      "@prefix rdf: <http://www.w3.org/1999/02/22-rdf-syntax-ns#> .\n",
      "@prefix rdfs: <http://www.w3.org/2000/01/rdf-schema#> .\n",
      "@prefix xsd: <http://www.w3.org/2001/XMLSchema#> .\n",
      "\n",
      "[] a pplan:Activity ;\n",
      "    pplan:correspondsToStep <http://purl.org/np/RAq59L4lExTS_SdtWurLgLYANXJZUlqcU6f00TV8xHuJ8#step> ;\n",
      "    prov:endedAtTime \"2021-03-05T13:14:00.086260\"^^xsd:dateTime ;\n",
      "    prov:startedAtTime \"2021-03-05T13:14:00.086257\"^^xsd:dateTime ;\n",
      "    prov:used [ a pplan:Entity ;\n",
      "            rdfs:label \"a\" ;\n",
      "            pplan:correspondsToVariable <http://purl.org/np/RAq59L4lExTS_SdtWurLgLYANXJZUlqcU6f00TV8xHuJ8#a> ;\n",
      "            rdf:value 1 ],\n",
      "        [ a pplan:Entity ;\n",
      "            rdfs:label \"b\" ;\n",
      "            pplan:correspondsToVariable <http://purl.org/np/RAq59L4lExTS_SdtWurLgLYANXJZUlqcU6f00TV8xHuJ8#b> ;\n",
      "            rdf:value 4 ],\n",
      "        [ a pplan:Entity ;\n",
      "            rdfs:label \"out1\" ;\n",
      "            pplan:correspondsToVariable <http://purl.org/np/RAq59L4lExTS_SdtWurLgLYANXJZUlqcU6f00TV8xHuJ8#out1> ;\n",
      "            rdf:value -3 ] .\n",
      "\n",
      "\n",
      "Step retrospective provenance.\n",
      "@prefix pplan: <http://purl.org/net/p-plan#> .\n",
      "@prefix prov: <http://www.w3.org/ns/prov#> .\n",
      "@prefix rdf: <http://www.w3.org/1999/02/22-rdf-syntax-ns#> .\n",
      "@prefix rdfs: <http://www.w3.org/2000/01/rdf-schema#> .\n",
      "@prefix xsd: <http://www.w3.org/2001/XMLSchema#> .\n",
      "\n",
      "[] a pplan:Activity ;\n",
      "    pplan:correspondsToStep <http://purl.org/np/RAf9o4Sso9DTfks61fYhCFFtQjvwqbDLGyShpDyUbf52w#step> ;\n",
      "    prov:endedAtTime \"2021-03-05T13:14:00.087809\"^^xsd:dateTime ;\n",
      "    prov:startedAtTime \"2021-03-05T13:14:00.087805\"^^xsd:dateTime ;\n",
      "    prov:used [ a pplan:Entity ;\n",
      "            rdfs:label \"a\" ;\n",
      "            pplan:correspondsToVariable <http://purl.org/np/RAf9o4Sso9DTfks61fYhCFFtQjvwqbDLGyShpDyUbf52w#a> ;\n",
      "            rdf:value 5 ],\n",
      "        [ a pplan:Entity ;\n",
      "            rdfs:label \"b\" ;\n",
      "            pplan:correspondsToVariable <http://purl.org/np/RAf9o4Sso9DTfks61fYhCFFtQjvwqbDLGyShpDyUbf52w#b> ;\n",
      "            rdf:value 3 ],\n",
      "        [ a pplan:Entity ;\n",
      "            rdfs:label \"out1\" ;\n",
      "            pplan:correspondsToVariable <http://purl.org/np/RAf9o4Sso9DTfks61fYhCFFtQjvwqbDLGyShpDyUbf52w#out1> ;\n",
      "            rdf:value 22 ] .\n",
      "\n",
      "\n",
      "Step retrospective provenance.\n",
      "@prefix pplan: <http://purl.org/net/p-plan#> .\n",
      "@prefix prov: <http://www.w3.org/ns/prov#> .\n",
      "@prefix rdf: <http://www.w3.org/1999/02/22-rdf-syntax-ns#> .\n",
      "@prefix rdfs: <http://www.w3.org/2000/01/rdf-schema#> .\n",
      "@prefix xsd: <http://www.w3.org/2001/XMLSchema#> .\n",
      "\n",
      "[] a pplan:Activity ;\n",
      "    pplan:correspondsToStep <http://purl.org/np/RA6QiW9xeTK8QarZVSUWTipZRvjfux_VlrcZilArD6wnY#step> ;\n",
      "    prov:endedAtTime \"2021-03-05T13:14:00.089282\"^^xsd:dateTime ;\n",
      "    prov:startedAtTime \"2021-03-05T13:14:00.089278\"^^xsd:dateTime ;\n",
      "    prov:used [ a pplan:Entity ;\n",
      "            rdfs:label \"a\" ;\n",
      "            pplan:correspondsToVariable <http://purl.org/np/RA6QiW9xeTK8QarZVSUWTipZRvjfux_VlrcZilArD6wnY#a> ;\n",
      "            rdf:value 22 ],\n",
      "        [ a pplan:Entity ;\n",
      "            rdfs:label \"b\" ;\n",
      "            pplan:correspondsToVariable <http://purl.org/np/RA6QiW9xeTK8QarZVSUWTipZRvjfux_VlrcZilArD6wnY#b> ;\n",
      "            rdf:value -3 ],\n",
      "        [ a pplan:Entity ;\n",
      "            rdfs:label \"out1\" ;\n",
      "            pplan:correspondsToVariable <http://purl.org/np/RA6QiW9xeTK8QarZVSUWTipZRvjfux_VlrcZilArD6wnY#out1> ;\n",
      "            rdf:value -66 ] .\n",
      "\n",
      "\n"
     ]
    }
   ],
   "source": [
    "for sp in prov:\n",
    "    print(sp)"
   ]
  },
  {
   "cell_type": "markdown",
   "id": "occupational-enclosure",
   "metadata": {},
   "source": [
    "### Publish the retrospective provenance\n",
    "You can use the .publish_as_nanopub() method as with FairStep and FairWorkflow objects. This publishes a nanopub per step and one for the whole workflow, mirroring the prospective RDF."
   ]
  },
  {
   "cell_type": "code",
   "execution_count": 16,
   "id": "mediterranean-accessory",
   "metadata": {},
   "outputs": [
    {
     "name": "stdout",
     "output_type": "stream",
     "text": [
      "Published to http://purl.org/np/RAS5YybkJDH1go2SOQBqfoz1po5nHiyzRmNVgOW_CjiWs\n",
      "Published concept to http://purl.org/np/RAS5YybkJDH1go2SOQBqfoz1po5nHiyzRmNVgOW_CjiWs#fairstepprov\n",
      "Published to http://purl.org/np/RA7UtS-evZuhRiXnBVfCHElgzbnqAn3p7Sfyuuwh7bvP8\n",
      "Published concept to http://purl.org/np/RA7UtS-evZuhRiXnBVfCHElgzbnqAn3p7Sfyuuwh7bvP8#fairstepprov\n",
      "Published to http://purl.org/np/RAwoC5X6IiDrlsKS_ilgNN_DVGrr2THL30DeElETlC_ac\n",
      "Published concept to http://purl.org/np/RAwoC5X6IiDrlsKS_ilgNN_DVGrr2THL30DeElETlC_ac#fairstepprov\n",
      "Published to http://purl.org/np/RACERKeebWRMrV3-i0rgYGWtE3-7AGIVfHmWs8Gl34Zro\n",
      "Published concept to http://purl.org/np/RACERKeebWRMrV3-i0rgYGWtE3-7AGIVfHmWs8Gl34Zro#fairstepprov\n",
      "Published to http://purl.org/np/RAoV5hX_Hz9Ce_hJtmYNxGAqzrfM45KzokI_Pdr8HOAgQ\n",
      "Published concept to http://purl.org/np/RAoV5hX_Hz9Ce_hJtmYNxGAqzrfM45KzokI_Pdr8HOAgQ#fairworkflowprov\n"
     ]
    },
    {
     "data": {
      "text/plain": [
       "{'nanopub_uri': 'http://purl.org/np/RAoV5hX_Hz9Ce_hJtmYNxGAqzrfM45KzokI_Pdr8HOAgQ',\n",
       " 'concept_uri': 'http://purl.org/np/RAoV5hX_Hz9Ce_hJtmYNxGAqzrfM45KzokI_Pdr8HOAgQ#fairworkflowprov'}"
      ]
     },
     "execution_count": 16,
     "metadata": {},
     "output_type": "execute_result"
    }
   ],
   "source": [
    "prov.publish_as_nanopub(use_test_server=True)"
   ]
  },
  {
   "cell_type": "markdown",
   "id": "everyday-wonder",
   "metadata": {},
   "source": [
    "The last nanopub (whose URI ends in #fairworkflowprov) contains the links to all of the individual step retrospective provenances."
   ]
  },
  {
   "cell_type": "markdown",
   "id": "colored-integrity",
   "metadata": {},
   "source": [
    "## Provide semantic annotations for input and output variables\n",
    "If you wish to specify semantic types for the inputs/outputs to a step, you can do so in the arguments to the decorator.\n",
    "For example, if you have an input parameter 'a', you can write a='http://www.example.org/distance' to assign that (semantic) type to a. As output of functions is not named in python, you can specify the same but with 'out1', 'out2' etc. See the following example:"
   ]
  },
  {
   "cell_type": "code",
   "execution_count": 16,
   "id": "capital-oracle",
   "metadata": {},
   "outputs": [],
   "source": [
    "@is_fairstep(label='Addition', a='http://www.example.org/distance', returns='http://www.example.org/mass')\n",
    "def add(a:float, b:float) -> float:\n",
    "    return a + b"
   ]
  },
  {
   "cell_type": "markdown",
   "id": "stone-desire",
   "metadata": {},
   "source": [
    "If we now look at the RDF generated for the step, we will see that input parameter 'a' and the step output ('out1') both have the (additional) semantic types specified."
   ]
  },
  {
   "cell_type": "code",
   "execution_count": 17,
   "id": "sunset-crime",
   "metadata": {},
   "outputs": [
    {
     "name": "stdout",
     "output_type": "stream",
     "text": [
      "Step URI = http://www.example.org/unpublished-add\n",
      "@prefix bpmn: <http://dkm.fbk.eu/index.php/BPMN2_Ontology#> .\n",
      "@prefix dc: <http://purl.org/dc/terms/> .\n",
      "@prefix owl: <http://www.w3.org/2002/07/owl#> .\n",
      "@prefix pplan: <http://purl.org/net/p-plan#> .\n",
      "@prefix rdfs: <http://www.w3.org/2000/01/rdf-schema#> .\n",
      "@prefix schema: <https://schema.org/> .\n",
      "\n",
      "_:N55c6db2a96b4414499dd088141690acb {\n",
      "    [] a bpmn:ScriptTask,\n",
      "            pplan:Step ;\n",
      "        rdfs:label \"Addition\" ;\n",
      "        dc:description \"\"\"@is_fairstep(label='Addition', a='http://www.example.org/distance', returns='http://www.example.org/mass')\n",
      "def add(a:float, b:float) -> float:\n",
      "    return a + b\n",
      "\"\"\" ;\n",
      "        dc:language [ a schema:ComputerLanguage ;\n",
      "                rdfs:label \"python\" ;\n",
      "                rdfs:seeAlso <https://www.wikidata.org/wiki/Q28865> ;\n",
      "                owl:versionInfo \"3.7.9.final.0\" ] ;\n",
      "        pplan:hasInputVar [ a pplan:Variable,\n",
      "                    <http://www.example.org/distance> ;\n",
      "                rdfs:label \"a\" ;\n",
      "                rdfs:comment \"float\" ],\n",
      "            [ a pplan:Variable ;\n",
      "                rdfs:label \"b\" ;\n",
      "                rdfs:comment \"float\" ] ;\n",
      "        pplan:hasOutputVar [ a pplan:Variable,\n",
      "                    <http://www.example.org/mass> ;\n",
      "                rdfs:label \"out1\" ;\n",
      "                rdfs:comment \"float\" ] .\n",
      "}\n",
      "\n",
      "\n"
     ]
    }
   ],
   "source": [
    "# ACTIONS:\n",
    "# Add language and version to nanopubs (i.e. what the description is written in)\n",
    "print(add._fairstep)"
   ]
  },
  {
   "cell_type": "markdown",
   "id": "scenic-appendix",
   "metadata": {},
   "source": [
    "### Specify more than one semantic type for a parameter\n",
    "You can provide a list of URIs if you want to specify several semantic types for e.g. parameter 'a':"
   ]
  },
  {
   "cell_type": "code",
   "execution_count": 18,
   "id": "blond-communist",
   "metadata": {},
   "outputs": [],
   "source": [
    "@is_fairstep(label='Addition', a=['http://www.example.org/distance', 'http://www.example.org/number'])\n",
    "def another_step(a:float, b:float) -> float:\n",
    "    \"\"\"Add two numbers together\"\"\"\n",
    "    return a + b"
   ]
  },
  {
   "cell_type": "code",
   "execution_count": 19,
   "id": "challenging-responsibility",
   "metadata": {},
   "outputs": [
    {
     "name": "stdout",
     "output_type": "stream",
     "text": [
      "Step URI = http://www.example.org/unpublished-another_step\n",
      "@prefix bpmn: <http://dkm.fbk.eu/index.php/BPMN2_Ontology#> .\n",
      "@prefix dc: <http://purl.org/dc/terms/> .\n",
      "@prefix owl: <http://www.w3.org/2002/07/owl#> .\n",
      "@prefix pplan: <http://purl.org/net/p-plan#> .\n",
      "@prefix rdfs: <http://www.w3.org/2000/01/rdf-schema#> .\n",
      "@prefix schema: <https://schema.org/> .\n",
      "\n",
      "_:Nab534dffa6f1415cbbd25881f8d8e11d {\n",
      "    [] a bpmn:ScriptTask,\n",
      "            pplan:Step ;\n",
      "        rdfs:label \"Addition\" ;\n",
      "        dc:description \"\"\"@is_fairstep(label='Addition', a=['http://www.example.org/distance', 'http://www.example.org/number'])\n",
      "def another_step(a:float, b:float) -> float:\n",
      "    \\\"\\\"\\\"Add two numbers together\\\"\\\"\\\"\n",
      "    return a + b\n",
      "\"\"\" ;\n",
      "        dc:language [ a schema:ComputerLanguage ;\n",
      "                rdfs:label \"python\" ;\n",
      "                rdfs:seeAlso <https://www.wikidata.org/wiki/Q28865> ;\n",
      "                owl:versionInfo \"3.7.9.final.0\" ] ;\n",
      "        pplan:hasInputVar [ a pplan:Variable,\n",
      "                    <http://www.example.org/distance>,\n",
      "                    <http://www.example.org/number> ;\n",
      "                rdfs:label \"a\" ;\n",
      "                rdfs:comment \"float\" ],\n",
      "            [ a pplan:Variable ;\n",
      "                rdfs:label \"b\" ;\n",
      "                rdfs:comment \"float\" ] ;\n",
      "        pplan:hasOutputVar [ a pplan:Variable ;\n",
      "                rdfs:label \"out1\" ;\n",
      "                rdfs:comment \"float\" ] .\n",
      "}\n",
      "\n",
      "\n"
     ]
    }
   ],
   "source": [
    "print(another_step._fairstep)"
   ]
  },
  {
   "cell_type": "markdown",
   "id": "analyzed-motel",
   "metadata": {},
   "source": [
    "You can check the programming language that was used for writing the step:"
   ]
  },
  {
   "cell_type": "code",
   "execution_count": 19,
   "id": "arbitrary-philippines",
   "metadata": {},
   "outputs": [
    {
     "name": "stdout",
     "output_type": "stream",
     "text": [
      "LinguisticSystem with type=https://schema.org/ComputerLanguage, label=python, seeAlso=https://www.wikidata.org/wiki/Q28865, versionInfo=3.7.9.final.0\n"
     ]
    }
   ],
   "source": [
    "print(another_step._fairstep.language)"
   ]
  },
  {
   "cell_type": "markdown",
   "id": "brilliant-composition",
   "metadata": {},
   "source": [
    "## Semantic types for function producing multiple outputs\n",
    "Provide 'out' with a tuple of the same length as the number of function outputs. You can use None for any you do not wish to assign a particular semantic type to."
   ]
  },
  {
   "cell_type": "code",
   "execution_count": 20,
   "id": "ready-geneva",
   "metadata": {},
   "outputs": [],
   "source": [
    "from typing import Tuple\n",
    "@is_fairstep(label='Addition and subtraction', returns=('http://www.example.org/distance', 'http://www.example.org/number'))\n",
    "def another_step(a:float, b:float) -> Tuple[float, float]:\n",
    "    return a + b, a - b"
   ]
  },
  {
   "cell_type": "code",
   "execution_count": 21,
   "id": "disturbed-seven",
   "metadata": {},
   "outputs": [
    {
     "name": "stdout",
     "output_type": "stream",
     "text": [
      "Step URI = http://www.example.org/unpublished-another_step\n",
      "@prefix bpmn: <http://dkm.fbk.eu/index.php/BPMN2_Ontology#> .\n",
      "@prefix dc: <http://purl.org/dc/terms/> .\n",
      "@prefix owl: <http://www.w3.org/2002/07/owl#> .\n",
      "@prefix pplan: <http://purl.org/net/p-plan#> .\n",
      "@prefix rdfs: <http://www.w3.org/2000/01/rdf-schema#> .\n",
      "@prefix schema: <https://schema.org/> .\n",
      "\n",
      "_:N1345fcd9251f4f8b86ee8e59bbab507d {\n",
      "    [] a bpmn:ScriptTask,\n",
      "            pplan:Step ;\n",
      "        rdfs:label \"Addition and subtraction\" ;\n",
      "        dc:description \"\"\"@is_fairstep(label='Addition and subtraction', returns=('http://www.example.org/distance', 'http://www.example.org/number'))\n",
      "def another_step(a:float, b:float) -> Tuple[float, float]:\n",
      "    return a + b, a - b\n",
      "\"\"\" ;\n",
      "        dc:language [ a schema:ComputerLanguage ;\n",
      "                rdfs:label \"python\" ;\n",
      "                rdfs:seeAlso <https://www.wikidata.org/wiki/Q28865> ;\n",
      "                owl:versionInfo \"3.7.9.final.0\" ] ;\n",
      "        pplan:hasInputVar [ a pplan:Variable ;\n",
      "                rdfs:label \"a\" ;\n",
      "                rdfs:comment \"float\" ],\n",
      "            [ a pplan:Variable ;\n",
      "                rdfs:label \"b\" ;\n",
      "                rdfs:comment \"float\" ] ;\n",
      "        pplan:hasOutputVar [ a pplan:Variable,\n",
      "                    <http://www.example.org/distance> ;\n",
      "                rdfs:label \"out1\" ;\n",
      "                rdfs:comment \"float\" ],\n",
      "            [ a pplan:Variable,\n",
      "                    <http://www.example.org/number> ;\n",
      "                rdfs:label \"out2\" ;\n",
      "                rdfs:comment \"float\" ] .\n",
      "}\n",
      "\n",
      "\n"
     ]
    }
   ],
   "source": [
    "print(another_step._fairstep)"
   ]
  },
  {
   "cell_type": "markdown",
   "id": "failing-standard",
   "metadata": {},
   "source": [
    "As before, you may provide a list of URIs for each output. If you do not want to provide semantic types for a particular output, simply pass None:"
   ]
  },
  {
   "cell_type": "code",
   "execution_count": 22,
   "id": "pressing-houston",
   "metadata": {},
   "outputs": [],
   "source": [
    "from typing import Tuple\n",
    "@is_fairstep(label='Addition and subtraction', returns=(['http://www.example.org/distance', 'http://www.example.org/number'], None))\n",
    "def another_step(a:float, b:float) -> Tuple[float, float]:\n",
    "    \"\"\"This step returns an addition and a subtraction of its inputs\"\"\"\n",
    "    return a + b, a - b"
   ]
  },
  {
   "cell_type": "code",
   "execution_count": 23,
   "id": "impaired-element",
   "metadata": {},
   "outputs": [
    {
     "name": "stdout",
     "output_type": "stream",
     "text": [
      "Step URI = http://www.example.org/unpublished-another_step\n",
      "@prefix bpmn: <http://dkm.fbk.eu/index.php/BPMN2_Ontology#> .\n",
      "@prefix dc: <http://purl.org/dc/terms/> .\n",
      "@prefix owl: <http://www.w3.org/2002/07/owl#> .\n",
      "@prefix pplan: <http://purl.org/net/p-plan#> .\n",
      "@prefix rdfs: <http://www.w3.org/2000/01/rdf-schema#> .\n",
      "@prefix schema: <https://schema.org/> .\n",
      "\n",
      "_:Nd65e996b1d9546a4899eaff4131e159f {\n",
      "    [] a bpmn:ScriptTask,\n",
      "            pplan:Step ;\n",
      "        rdfs:label \"Addition and subtraction\" ;\n",
      "        dc:description \"\"\"@is_fairstep(label='Addition and subtraction', returns=(['http://www.example.org/distance', 'http://www.example.org/number'], None))\n",
      "def another_step(a:float, b:float) -> Tuple[float, float]:\n",
      "    \\\"\\\"\\\"This step returns an addition and a subtraction of its inputs\\\"\\\"\\\"\n",
      "    return a + b, a - b\n",
      "\"\"\" ;\n",
      "        dc:language [ a schema:ComputerLanguage ;\n",
      "                rdfs:label \"python\" ;\n",
      "                rdfs:seeAlso <https://www.wikidata.org/wiki/Q28865> ;\n",
      "                owl:versionInfo \"3.7.9.final.0\" ] ;\n",
      "        pplan:hasInputVar [ a pplan:Variable ;\n",
      "                rdfs:label \"a\" ;\n",
      "                rdfs:comment \"float\" ],\n",
      "            [ a pplan:Variable ;\n",
      "                rdfs:label \"b\" ;\n",
      "                rdfs:comment \"float\" ] ;\n",
      "        pplan:hasOutputVar [ a pplan:Variable,\n",
      "                    <http://www.example.org/distance>,\n",
      "                    <http://www.example.org/number> ;\n",
      "                rdfs:label \"out1\" ;\n",
      "                rdfs:comment \"float\" ],\n",
      "            [ a pplan:Variable ;\n",
      "                rdfs:label \"out2\" ;\n",
      "                rdfs:comment \"float\" ] .\n",
      "}\n",
      "\n",
      "\n"
     ]
    }
   ],
   "source": [
    "print(another_step._fairstep)"
   ]
  },
  {
   "cell_type": "code",
   "execution_count": null,
   "id": "neural-commissioner",
   "metadata": {},
   "outputs": [],
   "source": []
  }
 ],
 "metadata": {
  "kernelspec": {
   "display_name": "Python 3",
   "language": "python",
   "name": "python3"
  },
  "language_info": {
   "codemirror_mode": {
    "name": "ipython",
    "version": 3
   },
   "file_extension": ".py",
   "mimetype": "text/x-python",
   "name": "python",
   "nbconvert_exporter": "python",
   "pygments_lexer": "ipython3",
   "version": "3.8.8"
  }
 },
 "nbformat": 4,
 "nbformat_minor": 5
}
