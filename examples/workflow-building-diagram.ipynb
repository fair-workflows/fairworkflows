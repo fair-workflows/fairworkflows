{
 "cells": [
  {
   "cell_type": "markdown",
   "metadata": {},
   "source": [
    "# Workflow building diagram\n",
    "This notebook produces the code and RDF used in the Diagram illustrating the usage of the python fairworkflows library (on the left) and the corresponding generated RDF triples (on the right). "
   ]
  },
  {
   "cell_type": "code",
   "execution_count": 1,
   "metadata": {},
   "outputs": [],
   "source": [
    "from fairworkflows import is_fairworkflow, is_fairstep, FairWorkflow"
   ]
  },
  {
   "cell_type": "markdown",
   "metadata": {},
   "source": [
    "Mark a function as a FAIR step using the `is_fairstep` decorator.\n",
    "Use keyword arguments to semantically annotate the step. In this example to provide a label and describe that this is a script task."
   ]
  },
  {
   "cell_type": "code",
   "execution_count": 9,
   "metadata": {},
   "outputs": [],
   "source": [
    "@is_fairstep(label='Addition',\n",
    "             is_script_task=True)\n",
    "def add(x: float, y: float) -> float:\n",
    "    \"\"\"Adding up numbers.\"\"\"\n",
    "    return x + y"
   ]
  },
  {
   "cell_type": "markdown",
   "metadata": {},
   "source": [
    "```\n",
    "<http://step-pub#step> rdfs:label \"Addition\" ;\n",
    "    a bpmn:ScriptTask , pplan:Step ;\n",
    "    pplan:hasInputVar sub:x , sub:y ;\n",
    "    pplan:hasOutputVar sub:out1 .\n",
    "\n",
    "<http://step-pub#x> a pplan:Variable  ;\n",
    "    rdfs:comment \"float\" ;\n",
    "    rdfs:label \"x\" .\n",
    "```"
   ]
  },
  {
   "cell_type": "markdown",
   "metadata": {},
   "source": [
    "Define your workflow by calling previously defined step functions. Mark the function as a workflow using the `is_fairworkflow` decorator."
   ]
  },
  {
   "cell_type": "code",
   "execution_count": 6,
   "metadata": {},
   "outputs": [],
   "source": [
    "@is_fairworkflow(label='My Workflow')\n",
    "def my_workflow(in1, in2):\n",
    "    \"\"\"\n",
    "    A simple workflow\n",
    "    \"\"\"\n",
    "    t1 = add(in1, in2)\n",
    "    return t1"
   ]
  },
  {
   "cell_type": "markdown",
   "metadata": {},
   "source": [
    "```\n",
    "<http://workflow-pub#plan> a pplan:Plan ;\n",
    "    rdfs:label \"My Workflow\" .\n",
    "<http://step-pub#out1> pplan:bindsTo\n",
    "sub:result .\n",
    "<http://step-pub#step> pplan:isStepOfPlan sub:plan .\n",
    "```"
   ]
  },
  {
   "cell_type": "markdown",
   "metadata": {},
   "source": [
    "Construct a FairWorkflow object from the function defining the workflow and publish as nanopublication."
   ]
  },
  {
   "cell_type": "code",
   "execution_count": 8,
   "metadata": {
    "scrolled": true
   },
   "outputs": [
    {
     "name": "stdout",
     "output_type": "stream",
     "text": [
      "Published to http://purl.org/np/RAFTMP-edCdhcdZiFcSTViotzhyPG_aP5Sboj1XOwFK5c\n",
      "Published concept to http://purl.org/np/RAFTMP-edCdhcdZiFcSTViotzhyPG_aP5Sboj1XOwFK5c#step\n",
      "Published to http://purl.org/np/RA7Ao-ldJuODMQ1I3TvXUyaqvG5IYUVrnqgY7vLYxSFkk\n",
      "Published concept to http://purl.org/np/RA7Ao-ldJuODMQ1I3TvXUyaqvG5IYUVrnqgY7vLYxSFkk#plan\n"
     ]
    },
    {
     "data": {
      "text/plain": [
       "{'nanopub_uri': 'http://purl.org/np/RA7Ao-ldJuODMQ1I3TvXUyaqvG5IYUVrnqgY7vLYxSFkk',\n",
       " 'concept_uri': 'http://purl.org/np/RA7Ao-ldJuODMQ1I3TvXUyaqvG5IYUVrnqgY7vLYxSFkk#plan'}"
      ]
     },
     "execution_count": 8,
     "metadata": {},
     "output_type": "execute_result"
    }
   ],
   "source": [
    "workflow = FairWorkflow.from_function(\n",
    "    my_workflow)\n",
    "workflow.publish_as_nanopub(publish_steps=True)"
   ]
  },
  {
   "cell_type": "markdown",
   "metadata": {},
   "source": [
    "```\n",
    "<http://workflow-pub> \n",
    "    npx:introduces <http://workflow-pub#step> ;\n",
    "    prov:generatedAtTime \"2021-03-23\" ;\n",
    "    prov:wasAttributedTo \n",
    "        <https://orcid.org/1234-1234-1234-1234> .\n",
    "```"
   ]
  },
  {
   "cell_type": "markdown",
   "metadata": {},
   "source": [
    "Execute the workflow:"
   ]
  },
  {
   "cell_type": "code",
   "execution_count": 8,
   "metadata": {},
   "outputs": [],
   "source": [
    "result, prov = workflow.execute(1, 4, 3)"
   ]
  }
 ],
 "metadata": {
  "kernelspec": {
   "display_name": "Python 3",
   "language": "python",
   "name": "python3"
  },
  "language_info": {
   "codemirror_mode": {
    "name": "ipython",
    "version": 3
   },
   "file_extension": ".py",
   "mimetype": "text/x-python",
   "name": "python",
   "nbconvert_exporter": "python",
   "pygments_lexer": "ipython3",
   "version": "3.6.10"
  }
 },
 "nbformat": 4,
 "nbformat_minor": 5
}
