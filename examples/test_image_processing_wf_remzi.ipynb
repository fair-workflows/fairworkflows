{
 "cells": [
  {
   "cell_type": "code",
   "execution_count": 14,
   "metadata": {},
   "outputs": [],
   "source": [
    "#from fairworkflows import is_fairworkflow, is_fairstep"
   ]
  },
  {
   "cell_type": "code",
   "execution_count": 1,
   "metadata": {},
   "outputs": [],
   "source": [
    "from fairworkflows import is_fairworkflow, is_fairstep, FairStep, FairWorkflow"
   ]
  },
  {
   "cell_type": "code",
   "execution_count": 2,
   "metadata": {},
   "outputs": [],
   "source": [
    "import fairworkflows"
   ]
  },
  {
   "cell_type": "code",
   "execution_count": 3,
   "metadata": {},
   "outputs": [
    {
     "name": "stdout",
     "output_type": "stream",
     "text": [
      "Help on module fairworkflows._version in fairworkflows:\n",
      "\n",
      "NAME\n",
      "    fairworkflows._version\n",
      "\n",
      "VERSION\n",
      "    0.2.5\n",
      "\n",
      "FILE\n",
      "    /Users/remzicelebi/opt/anaconda3/lib/python3.8/site-packages/fairworkflows/_version.py\n",
      "\n",
      "\n"
     ]
    }
   ],
   "source": [
    "help (fairworkflows._version)"
   ]
  },
  {
   "cell_type": "code",
   "execution_count": 4,
   "metadata": {},
   "outputs": [],
   "source": [
    "import io"
   ]
  },
  {
   "cell_type": "code",
   "execution_count": 5,
   "metadata": {},
   "outputs": [],
   "source": [
    "from PIL import Image\n",
    "from PIL import ImageDraw \n",
    "from PIL import ImageEnhance"
   ]
  },
  {
   "cell_type": "code",
   "execution_count": 6,
   "metadata": {
    "nanopubURI": "http://purl.org/np/RAjc1d2L36iZcgEJ7Lcp06mWA6gA1QOJh5oY5bPRDfbkk"
   },
   "outputs": [],
   "source": [
    "@is_fairstep(label='Resize image')\n",
    "def resize_image(image:Image) -> Image:    \n",
    "    \"\"\"Resize the image 300x300 \"\"\"\n",
    "    new_image = image.resize((300, 300))\n",
    "    return new_image"
   ]
  },
  {
   "cell_type": "code",
   "execution_count": 7,
   "metadata": {
    "nanopubURI": "http://purl.org/np/RAlBYV-4V0SjcFXeylB7_MSPlrVqt9ftMNdFUoZZIJlNs"
   },
   "outputs": [],
   "source": [
    "@is_fairstep(label='Rotate image')\n",
    "def rotate_image(image:Image) -> Image:    \n",
    "    \"\"\"Rotate image\"\"\"\n",
    "    new_image = image.transpose(Image.ROTATE_90)\n",
    "    return new_image"
   ]
  },
  {
   "cell_type": "code",
   "execution_count": 8,
   "metadata": {},
   "outputs": [],
   "source": [
    "@is_fairstep(label='Convert image to grayscale')\n",
    "def rgb2gray_image(image:Image) -> Image:    \n",
    "    \"\"\"Convert image to grayscale\"\"\"\n",
    "    new_image = image.convert('LA')\n",
    "    return new_image"
   ]
  },
  {
   "cell_type": "code",
   "execution_count": 9,
   "metadata": {},
   "outputs": [],
   "source": [
    "@is_fairstep(label='Add text to image')\n",
    "def add_text_to_image(image:Image, text:str) -> Image:    \n",
    "    \"\"\"Add text to a image\"\"\"\n",
    "    new_image= image.copy()\n",
    "    draw = ImageDraw.Draw(new_image)\n",
    "    draw.text((0, 0),text)\n",
    "    return new_image"
   ]
  },
  {
   "cell_type": "code",
   "execution_count": 10,
   "metadata": {},
   "outputs": [],
   "source": [
    "@is_fairstep(label='contrast image by ratio')\n",
    "def contrast_image(image:Image, ratio:float) -> Image:    \n",
    "    \"\"\"Add text to a image\"\"\"\n",
    "    from PIL import ImageEnhance\n",
    "    new_image= image.copy()\n",
    "    new_image = ImageEnhance.Contrast(im)\n",
    "    new_image= new_image.enhance(ratio)\n",
    "    return new_image"
   ]
  },
  {
   "cell_type": "code",
   "execution_count": 11,
   "metadata": {},
   "outputs": [],
   "source": [
    "@is_fairworkflow(label='My Workflow for converting to Grayscale and adding text')\n",
    "def my_workflow(im1, text):\n",
    "    \"\"\"\n",
    "    A simple addition, subtraction, multiplication workflow\n",
    "    \"\"\"\n",
    "    im2 = rgb2gray_image(im1)\n",
    "    im3 = add_text_to_image(im2, text)\n",
    "    return im3"
   ]
  },
  {
   "cell_type": "code",
   "execution_count": null,
   "metadata": {},
   "outputs": [],
   "source": []
  },
  {
   "cell_type": "code",
   "execution_count": 12,
   "metadata": {},
   "outputs": [],
   "source": [
    "image = Image.open('img1.png')"
   ]
  },
  {
   "cell_type": "code",
   "execution_count": 19,
   "metadata": {},
   "outputs": [
    {
     "data": {
      "image/png": "[encoded data removed]",
      "text/plain": [
       "<PIL.PngImagePlugin.PngImageFile image mode=RGB size=200x200 at 0x7FB0A81CB6D0>"
      ]
     },
     "execution_count": 19,
     "metadata": {},
     "output_type": "execute_result"
    }
   ],
   "source": [
    "image"
   ]
  },
  {
   "cell_type": "code",
   "execution_count": 14,
   "metadata": {},
   "outputs": [
    {
     "data": {
      "text/plain": [
       "fairworkflows.fairworkflow.FairWorkflow"
      ]
     },
     "execution_count": 14,
     "metadata": {},
     "output_type": "execute_result"
    }
   ],
   "source": [
    "#fw = my_workflow(imgStr)\n",
    "#type(fw)\n",
    "fw = FairWorkflow.from_function(my_workflow)\n",
    "type(fw)"
   ]
  },
  {
   "cell_type": "code",
   "execution_count": 15,
   "metadata": {},
   "outputs": [],
   "source": [
    "result, prov = fw.execute(image,'FAIR Workflows')\n",
    "#result"
   ]
  },
  {
   "cell_type": "code",
   "execution_count": 18,
   "metadata": {},
   "outputs": [
    {
     "data": {
      "image/png": "[encoded data removed]",
      "text/plain": [
       "<PIL.Image.Image image mode=LA size=200x200 at 0x7FB0A829F220>"
      ]
     },
     "execution_count": 18,
     "metadata": {},
     "output_type": "execute_result"
    }
   ],
   "source": [
    "result"
   ]
  },
  {
   "cell_type": "code",
   "execution_count": 17,
   "metadata": {},
   "outputs": [
    {
     "data": {
      "image/svg+xml": [
       "<svg xmlns=\"http://www.w3.org/2000/svg\" xmlns:xlink=\"http://www.w3.org/1999/xlink\" width=\"165pt\" height=\"131pt\" viewBox=\"0.00 0.00 165.29 131.00\">\n",
       "<g id=\"graph0\" class=\"graph\" transform=\"scale(1 1) rotate(0) translate(4 127)\">\n",
       "<!-- 140396711695888 -->\n",
       "<g id=\"node1\" class=\"node\">\n",
       "<title>140396711695888</title>\n",
       "<ellipse fill=\"none\" stroke=\"black\" cx=\"78.64\" cy=\"-18\" rx=\"78.79\" ry=\"18\"/>\n",
       "<text text-anchor=\"middle\" x=\"78.64\" y=\"-14.3\" font-family=\"Times,serif\" font-size=\"14.00\">add_text_to_image</text>\n",
       "</g>\n",
       "<!-- 140396711695216 -->\n",
       "<g id=\"node2\" class=\"node\">\n",
       "<title>140396711695216</title>\n",
       "<ellipse fill=\"none\" stroke=\"black\" cx=\"78.64\" cy=\"-105\" rx=\"68.79\" ry=\"18\"/>\n",
       "<text text-anchor=\"middle\" x=\"78.64\" y=\"-101.3\" font-family=\"Times,serif\" font-size=\"14.00\">rgb2gray_image</text>\n",
       "</g>\n",
       "<!-- 140396711695216&#45;&gt;140396711695888 -->\n",
       "<g id=\"edge1\" class=\"edge\">\n",
       "<title>140396711695216-&gt;140396711695888</title>\n",
       "<path fill=\"none\" stroke=\"black\" d=\"M78.64,-86.8C78.64,-75.16 78.64,-59.55 78.64,-46.24\"/>\n",
       "<polygon fill=\"black\" stroke=\"black\" points=\"82.14,-46.18 78.64,-36.18 75.14,-46.18 82.14,-46.18\"/>\n",
       "<text text-anchor=\"middle\" x=\"95.64\" y=\"-57.8\" font-family=\"Times,serif\" font-size=\"14.00\">image</text>\n",
       "</g>\n",
       "</g>\n",
       "</svg>"
      ],
      "text/plain": [
       "<IPython.core.display.SVG object>"
      ]
     },
     "metadata": {},
     "output_type": "display_data"
    }
   ],
   "source": [
    "fw.display()"
   ]
  },
  {
   "cell_type": "code",
   "execution_count": 86,
   "metadata": {},
   "outputs": [
    {
     "name": "stdout",
     "output_type": "stream",
     "text": [
      "Workflow retrospective provenance.\n",
      "@prefix pplan: <http://purl.org/net/p-plan#> .\n",
      "@prefix prov: <http://www.w3.org/ns/prov#> .\n",
      "\n",
      "[] a pplan:Bundle,\n",
      "        prov:Collection ;\n",
      "    prov:hasMember <http://www.example.org/unpublished-entity-8792498501172>,\n",
      "        <http://www.example.org/unpublished-entity-8792498501298> ;\n",
      "    prov:wasDerivedFrom <http://www.example.org/unpublishedworkflow> .\n",
      "\n",
      "\n"
     ]
    }
   ],
   "source": [
    "print (prov)"
   ]
  },
  {
   "cell_type": "code",
   "execution_count": 87,
   "metadata": {},
   "outputs": [
    {
     "name": "stdout",
     "output_type": "stream",
     "text": [
      "Published to http://purl.org/np/RAHMZLtLpoe41lxJ0vak1rE0rK2lv11U4FegkBAK4JMHU\n",
      "Published concept to http://purl.org/np/RAHMZLtLpoe41lxJ0vak1rE0rK2lv11U4FegkBAK4JMHU#step\n",
      "Published to http://purl.org/np/RAkMo_sH92rqAiVmujDEjmEsj9rEeXyha3Wb5RsLYxwTc\n",
      "Published concept to http://purl.org/np/RAkMo_sH92rqAiVmujDEjmEsj9rEeXyha3Wb5RsLYxwTc#step\n",
      "Published to http://purl.org/np/RAxTgAeu-Kf2J_aSShH-dXuTZduPVIdnN9Q3mfK56bJXs\n",
      "Published concept to http://purl.org/np/RAxTgAeu-Kf2J_aSShH-dXuTZduPVIdnN9Q3mfK56bJXs#plan\n"
     ]
    },
    {
     "data": {
      "text/plain": [
       "{'nanopub_uri': 'http://purl.org/np/RAxTgAeu-Kf2J_aSShH-dXuTZduPVIdnN9Q3mfK56bJXs',\n",
       " 'concept_uri': 'http://purl.org/np/RAxTgAeu-Kf2J_aSShH-dXuTZduPVIdnN9Q3mfK56bJXs#plan'}"
      ]
     },
     "execution_count": 87,
     "metadata": {},
     "output_type": "execute_result"
    }
   ],
   "source": [
    "fw.publish_as_nanopub(publish_steps=True, use_test_server=True)"
   ]
  },
  {
   "cell_type": "code",
   "execution_count": 88,
   "metadata": {},
   "outputs": [
    {
     "name": "stdout",
     "output_type": "stream",
     "text": [
      "Published to http://purl.org/np/RAqSro-iuLyvtxSTC5ErHvx0d6tqhiu1esDOoWy8cD8og\n",
      "Published concept to http://purl.org/np/RAqSro-iuLyvtxSTC5ErHvx0d6tqhiu1esDOoWy8cD8og#fairstepprov\n",
      "Published to http://purl.org/np/RAdpjgc_ZCKH4PWHohElL8GWr8gWsNy9GlniAz7RxPYBY\n",
      "Published concept to http://purl.org/np/RAdpjgc_ZCKH4PWHohElL8GWr8gWsNy9GlniAz7RxPYBY#fairstepprov\n",
      "Published to http://purl.org/np/RAyq4hVRQ7pak6HhxBzmTYrjysZShwsIYrHJMOekC3ihM\n",
      "Published concept to http://purl.org/np/RAyq4hVRQ7pak6HhxBzmTYrjysZShwsIYrHJMOekC3ihM#fairworkflowprov\n"
     ]
    },
    {
     "data": {
      "text/plain": [
       "{'nanopub_uri': 'http://purl.org/np/RAyq4hVRQ7pak6HhxBzmTYrjysZShwsIYrHJMOekC3ihM',\n",
       " 'concept_uri': 'http://purl.org/np/RAyq4hVRQ7pak6HhxBzmTYrjysZShwsIYrHJMOekC3ihM#fairworkflowprov'}"
      ]
     },
     "execution_count": 88,
     "metadata": {},
     "output_type": "execute_result"
    }
   ],
   "source": [
    "prov.publish_as_nanopub(use_test_server=True)"
   ]
  },
  {
   "cell_type": "code",
   "execution_count": 90,
   "metadata": {},
   "outputs": [
    {
     "name": "stdout",
     "output_type": "stream",
     "text": [
      "Workflow URI = http://purl.org/np/RAxTgAeu-Kf2J_aSShH-dXuTZduPVIdnN9Q3mfK56bJXs#plan\n",
      "@prefix dc: <http://purl.org/dc/terms/> .\n",
      "@prefix dul: <http://www.ontologydesignpatterns.org/ont/dul/DUL.owl#> .\n",
      "@prefix owl: <http://www.w3.org/2002/07/owl#> .\n",
      "@prefix pplan: <http://purl.org/net/p-plan#> .\n",
      "@prefix rdfs: <http://www.w3.org/2000/01/rdf-schema#> .\n",
      "@prefix schema: <https://schema.org/> .\n",
      "\n",
      "_:N43a0f7897a0041aaa5f00f9a5999b68d {\n",
      "    <http://purl.org/np/RAHMZLtLpoe41lxJ0vak1rE0rK2lv11U4FegkBAK4JMHU#out1> pplan:bindsTo <http://purl.org/np/RAkMo_sH92rqAiVmujDEjmEsj9rEeXyha3Wb5RsLYxwTc#image> .\n",
      "\n",
      "    <http://purl.org/np/RAHMZLtLpoe41lxJ0vak1rE0rK2lv11U4FegkBAK4JMHU#step> pplan:isStepOfPlan _:plan ;\n",
      "        dul:precedes <http://purl.org/np/RAkMo_sH92rqAiVmujDEjmEsj9rEeXyha3Wb5RsLYxwTc#step> .\n",
      "\n",
      "    <http://purl.org/np/RAkMo_sH92rqAiVmujDEjmEsj9rEeXyha3Wb5RsLYxwTc#out1> pplan:bindsTo [ ] .\n",
      "\n",
      "    <http://purl.org/np/RAkMo_sH92rqAiVmujDEjmEsj9rEeXyha3Wb5RsLYxwTc#step> pplan:isStepOfPlan _:plan .\n",
      "\n",
      "    _:LinguisticSystem a schema:ComputerLanguage ;\n",
      "        rdfs:label \"python\" ;\n",
      "        rdfs:seeAlso <https://www.wikidata.org/wiki/Q28865> ;\n",
      "        owl:versionInfo \"3.8.3.final.0\" .\n",
      "\n",
      "    _:plan a pplan:Plan ;\n",
      "        rdfs:label \"My Workflow for Resize and Rotate\" ;\n",
      "        dc:description \"\"\"@is_fairworkflow(label='My Workflow for Resize and Rotate')\n",
      "def my_workflow(im1, text):\n",
      "    \\\"\\\"\\\"\n",
      "    A simple addition, subtraction, multiplication workflow\n",
      "    \\\"\\\"\\\"\n",
      "    im2 = resize_image(im1)\n",
      "    im3 = add_text_to_image(im2, text)\n",
      "    return im3\n",
      "\"\"\" ;\n",
      "        dc:language _:LinguisticSystem .\n",
      "}\n",
      "\n",
      "\n"
     ]
    }
   ],
   "source": [
    "print(fw)"
   ]
  },
  {
   "cell_type": "code",
   "execution_count": null,
   "metadata": {},
   "outputs": [],
   "source": []
  }
 ],
 "metadata": {
  "kernelspec": {
   "display_name": "Python 3",
   "language": "python",
   "name": "python3"
  },
  "language_info": {
   "codemirror_mode": {
    "name": "ipython",
    "version": 3
   },
   "file_extension": ".py",
   "mimetype": "text/x-python",
   "name": "python",
   "nbconvert_exporter": "python",
   "pygments_lexer": "ipython3",
   "version": "3.8.3"
  }
 },
 "nbformat": 4,
 "nbformat_minor": 4
}
